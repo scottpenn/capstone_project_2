{
 "cells": [
  {
   "cell_type": "markdown",
   "metadata": {},
   "source": [
    "### Bonus: A Shallow Dive into Deep Learning\n",
    "\n",
    "To put what I've learned in the Deep Learning Unit into practice, I will attempt to improve upon my Gradient Boosting model from the Machine Learning notebook."
   ]
  },
  {
   "cell_type": "code",
   "execution_count": 1,
   "metadata": {},
   "outputs": [],
   "source": [
    "# Import pandas for reading in the data\n",
    "import pandas as pd\n",
    "import matplotlib.pyplot as plt\n",
    "import numpy as np\n",
    "import sys"
   ]
  },
  {
   "cell_type": "markdown",
   "metadata": {},
   "source": [
    "The initial setup is the same as before."
   ]
  },
  {
   "cell_type": "code",
   "execution_count": 2,
   "metadata": {},
   "outputs": [],
   "source": [
    "top_stocks = pd.read_hdf('../data/clean/computed_stocks.h5', key='top_stocks')\n",
    "\n",
    "top_stocks.reset_index(inplace=True)\n",
    "top_stocks.drop_duplicates(['symbol', 'date'], inplace=True)\n",
    "top_stocks.set_index('date', inplace=True)"
   ]
  },
  {
   "cell_type": "code",
   "execution_count": 3,
   "metadata": {},
   "outputs": [],
   "source": [
    "top_stocks.index = pd.to_datetime(top_stocks.index)"
   ]
  },
  {
   "cell_type": "code",
   "execution_count": 4,
   "metadata": {},
   "outputs": [],
   "source": [
    "top_stocks = pd.concat([top_stocks['2007'],\n",
    "                        top_stocks['2009':'2010'],\n",
    "                        top_stocks['2012'],\n",
    "                        top_stocks['2014':]])"
   ]
  },
  {
   "cell_type": "code",
   "execution_count": 5,
   "metadata": {},
   "outputs": [],
   "source": [
    "import json\n",
    "COLUMNS = []\n",
    "\n",
    "with open('../models/columns.json') as column_file:\n",
    "    COLUMNS = json.load(column_file)\n",
    "#     COLUMNS = list(filter(lambda x: 'market' not in x, COLUMNS))"
   ]
  },
  {
   "cell_type": "code",
   "execution_count": 6,
   "metadata": {},
   "outputs": [
    {
     "name": "stderr",
     "output_type": "stream",
     "text": [
      "Using Theano backend.\n"
     ]
    }
   ],
   "source": [
    "from sklearn.model_selection import train_test_split\n",
    "from sklearn.preprocessing import MinMaxScaler, QuantileTransformer\n",
    "from imblearn.under_sampling import RandomUnderSampler\n",
    "\n",
    "X = top_stocks[COLUMNS]\n",
    "y = top_stocks[['buy_signal']]\n",
    "    \n",
    "X_train, X_test, y_train, y_test = train_test_split(X, y, test_size=0.2)"
   ]
  },
  {
   "cell_type": "code",
   "execution_count": 7,
   "metadata": {},
   "outputs": [],
   "source": [
    "sm = RandomUnderSampler()\n",
    "X_train, y_train = sm.fit_resample(X_train, y_train)"
   ]
  },
  {
   "cell_type": "markdown",
   "metadata": {},
   "source": [
    "To create the neural network model, I will use the Keras library, which is built upon TensorFlow. Keras requires that the result column is in a categorical format, but it provides the function \"to_categorical\" for this purpose."
   ]
  },
  {
   "cell_type": "markdown",
   "metadata": {},
   "source": [
    "The data must first be scaled to improve accuracy. The test data is not scaled independently, but according to the fit of the train data. After testing both the StandardScaler and the MinMaxScaler, the StandardScaler performs better and converges in fewer epochs."
   ]
  },
  {
   "cell_type": "code",
   "execution_count": 8,
   "metadata": {},
   "outputs": [],
   "source": [
    "from pickle import dump\n",
    "from sklearn.preprocessing import MinMaxScaler, QuantileTransformer\n",
    "\n",
    "scaler = QuantileTransformer(output_distribution='normal')\n",
    "X_train_scaled = scaler.fit_transform(X_train)\n",
    "X_test_scaled = scaler.transform(X_test)\n",
    "\n",
    "dump(scaler, open('../models/scaler_market.pkl', 'wb'))"
   ]
  },
  {
   "cell_type": "code",
   "execution_count": 9,
   "metadata": {},
   "outputs": [],
   "source": [
    "from keras.utils import to_categorical\n",
    "\n",
    "y_train_cat = to_categorical(y_train) \n",
    "y_test_cat = to_categorical(y_test)"
   ]
  },
  {
   "cell_type": "markdown",
   "metadata": {},
   "source": [
    "To build the neural network, I used a simple sequential model with just one hidden layer containing 100 nodes. I tested many different configurations, but adding layers and nodes did not improve the final test accuracy score. The Rectified Linear Unit or \"RELU\" activation function performs better than sigmoid activation functions like \"tanh\". The output layer must have 2 nodes, representing a win or a loss. The \"softmax\" activation function is also necessary for binary classification, as it converts the outputs to probabilities and ensures that they add up to 1."
   ]
  },
  {
   "cell_type": "code",
   "execution_count": 10,
   "metadata": {},
   "outputs": [],
   "source": [
    "from keras.models import Sequential\n",
    "from keras.layers import Dense, Activation, Dropout\n",
    "\n",
    "model = Sequential()\n",
    "\n",
    "model.add(Dense(200, activation='relu', input_dim=X_train_scaled.shape[1]))\n",
    "model.add(Dense(100, activation='relu'))\n",
    "model.add(Dense(50, activation='relu'))\n",
    "model.add(Dense(2, activation='softmax'))"
   ]
  },
  {
   "cell_type": "markdown",
   "metadata": {},
   "source": [
    "The model was compiled with the \"adam\" optimizer. I also chose the \"categorical_crossentropy\" loss function, a good default for classification. "
   ]
  },
  {
   "cell_type": "code",
   "execution_count": 11,
   "metadata": {},
   "outputs": [],
   "source": [
    "from keras.metrics import accuracy\n",
    "from keras.optimizers import Adam\n",
    "\n",
    "model.compile(optimizer='adam', loss='categorical_crossentropy', metrics=['accuracy'])"
   ]
  },
  {
   "cell_type": "markdown",
   "metadata": {},
   "source": [
    "When fitting the model, I used two callbacks provided by Keras. The EarlyStopping callback stops when the validation loss function does not improve after five epochs. The ModelCheckpoint callback saves the model with the best validation accuracy score. I experimented with splitting the training data to create an additional validation set, but setting the test data as the validation set optimizes for test set accuracy."
   ]
  },
  {
   "cell_type": "code",
   "execution_count": 12,
   "metadata": {
    "scrolled": false
   },
   "outputs": [
    {
     "name": "stdout",
     "output_type": "stream",
     "text": [
      "Train on 783152 samples, validate on 198130 samples\n",
      "Epoch 1/20\n",
      "783152/783152 [==============================] - 15s 19us/step - loss: 0.6613 - accuracy: 0.5854 - val_loss: 0.6287 - val_accuracy: 0.6329\n",
      "Epoch 2/20\n",
      "783152/783152 [==============================] - 16s 20us/step - loss: 0.6109 - accuracy: 0.6553 - val_loss: 0.6024 - val_accuracy: 0.6637\n",
      "Epoch 3/20\n",
      "783152/783152 [==============================] - 16s 20us/step - loss: 0.5946 - accuracy: 0.6707 - val_loss: 0.5948 - val_accuracy: 0.6702\n",
      "Epoch 4/20\n",
      "783152/783152 [==============================] - 15s 20us/step - loss: 0.5875 - accuracy: 0.6773 - val_loss: 0.5879 - val_accuracy: 0.6759\n",
      "Epoch 5/20\n",
      "783152/783152 [==============================] - 15s 20us/step - loss: 0.5829 - accuracy: 0.6805 - val_loss: 0.5867 - val_accuracy: 0.6779\n",
      "Epoch 6/20\n",
      "783152/783152 [==============================] - 16s 20us/step - loss: 0.5790 - accuracy: 0.6847 - val_loss: 0.5835 - val_accuracy: 0.6819\n",
      "Epoch 7/20\n",
      "783152/783152 [==============================] - 15s 20us/step - loss: 0.5762 - accuracy: 0.6863 - val_loss: 0.5831 - val_accuracy: 0.6811\n",
      "Epoch 8/20\n",
      "783152/783152 [==============================] - 16s 20us/step - loss: 0.5735 - accuracy: 0.6895 - val_loss: 0.5848 - val_accuracy: 0.6796\n",
      "Epoch 9/20\n",
      "783152/783152 [==============================] - 15s 19us/step - loss: 0.5715 - accuracy: 0.6910 - val_loss: 0.5795 - val_accuracy: 0.6844\n",
      "Epoch 10/20\n",
      "783152/783152 [==============================] - 17s 22us/step - loss: 0.5695 - accuracy: 0.6925 - val_loss: 0.5796 - val_accuracy: 0.6829\n",
      "Epoch 11/20\n",
      "783152/783152 [==============================] - 19s 24us/step - loss: 0.5679 - accuracy: 0.6936 - val_loss: 0.5796 - val_accuracy: 0.6828\n",
      "Epoch 12/20\n",
      "783152/783152 [==============================] - 19s 25us/step - loss: 0.5663 - accuracy: 0.6955 - val_loss: 0.5792 - val_accuracy: 0.6841\n",
      "Epoch 13/20\n",
      "783152/783152 [==============================] - 21s 27us/step - loss: 0.5647 - accuracy: 0.6961 - val_loss: 0.5785 - val_accuracy: 0.6855\n",
      "Epoch 14/20\n",
      "783152/783152 [==============================] - 21s 26us/step - loss: 0.5634 - accuracy: 0.6975 - val_loss: 0.5805 - val_accuracy: 0.6847\n",
      "Epoch 15/20\n",
      "783152/783152 [==============================] - 21s 27us/step - loss: 0.5621 - accuracy: 0.6986 - val_loss: 0.5772 - val_accuracy: 0.6850\n",
      "Epoch 16/20\n",
      "783152/783152 [==============================] - 21s 27us/step - loss: 0.5609 - accuracy: 0.6993 - val_loss: 0.5764 - val_accuracy: 0.6866\n",
      "Epoch 17/20\n",
      "783152/783152 [==============================] - 21s 27us/step - loss: 0.5598 - accuracy: 0.7002 - val_loss: 0.5774 - val_accuracy: 0.6859\n",
      "Epoch 18/20\n",
      "783152/783152 [==============================] - 22s 29us/step - loss: 0.5590 - accuracy: 0.7006 - val_loss: 0.5801 - val_accuracy: 0.6874\n",
      "Epoch 19/20\n",
      "783152/783152 [==============================] - 23s 29us/step - loss: 0.5578 - accuracy: 0.7017 - val_loss: 0.5775 - val_accuracy: 0.6865\n"
     ]
    }
   ],
   "source": [
    "from keras.callbacks.callbacks import EarlyStopping\n",
    "from keras.callbacks.callbacks import ModelCheckpoint\n",
    "\n",
    "es = EarlyStopping(monitor='val_loss', patience=3)\n",
    "mc = ModelCheckpoint('../models/daily_market.h5', monitor='val_loss', save_best_only=True)\n",
    "\n",
    "history = model.fit(X_train_scaled, y_train_cat, \n",
    "          epochs=20, \n",
    "          callbacks= [es, mc], \n",
    "          batch_size=128,\n",
    "          validation_data=(X_test_scaled, y_test_cat), \n",
    "          shuffle=True)"
   ]
  },
  {
   "cell_type": "markdown",
   "metadata": {},
   "source": [
    "An evaluation of the best model shows a test accuracy of 66.5%. This outperforms any of my previous Machine Learning models, even after hyperparameter tuning. "
   ]
  },
  {
   "cell_type": "code",
   "execution_count": 13,
   "metadata": {
    "scrolled": true
   },
   "outputs": [
    {
     "name": "stdout",
     "output_type": "stream",
     "text": [
      "783152/783152 [==============================] - 6s 7us/step\n",
      "198130/198130 [==============================] - 1s 7us/step\n",
      "0.554059611560546 0.5763617413508346\n",
      "0.7038735747337341 0.6866198778152466\n"
     ]
    }
   ],
   "source": [
    "from keras.models import load_model\n",
    "\n",
    "best_model = load_model('../models/daily_market.h5')\n",
    "train_loss, train_accuracy = best_model.evaluate(X_train_scaled, y_train_cat)\n",
    "test_loss, test_accuracy = best_model.evaluate(X_test_scaled, y_test_cat)\n",
    "print(train_loss, test_loss)\n",
    "print(train_accuracy, test_accuracy)"
   ]
  },
  {
   "cell_type": "code",
   "execution_count": 14,
   "metadata": {},
   "outputs": [],
   "source": [
    "predictions = pd.DataFrame(zip(best_model.predict(X_test_scaled)[:, 1], y_test_cat[:, 1]),\n",
    "                           columns=['prediction', 'signal'])"
   ]
  },
  {
   "cell_type": "code",
   "execution_count": 15,
   "metadata": {},
   "outputs": [],
   "source": [
    "predictions['prediction_correct'] = ((predictions.prediction >= 0.5) & (predictions.signal == 1)) | \\\n",
    "                                    ((predictions.prediction < 0.5) & (predictions.signal == 0))"
   ]
  },
  {
   "cell_type": "code",
   "execution_count": 16,
   "metadata": {
    "scrolled": true
   },
   "outputs": [
    {
     "data": {
      "image/png": "[encoded data removed]",
      "text/plain": [
       "<Figure size 432x288 with 1 Axes>"
      ]
     },
     "metadata": {
      "needs_background": "light"
     },
     "output_type": "display_data"
    }
   ],
   "source": [
    "def buy_signal_curve():\n",
    "    curve = []\n",
    "    odds = np.arange(.5, 1.0, .01)\n",
    "    for o in odds:\n",
    "        total = len(predictions[predictions.prediction > o])\n",
    "        correct = len(predictions[(predictions.prediction > o) & (predictions.prediction_correct == True)])\n",
    "        if total == 0:\n",
    "            curve.append(1)\n",
    "        else:\n",
    "            curve.append(correct / total)\n",
    "    plt.plot(odds, curve)\n",
    "    \n",
    "buy_signal_curve()"
   ]
  },
  {
   "cell_type": "code",
   "execution_count": 17,
   "metadata": {},
   "outputs": [
    {
     "data": {
      "image/png": "[encoded data removed]",
      "text/plain": [
       "<Figure size 432x288 with 1 Axes>"
      ]
     },
     "metadata": {
      "needs_background": "light"
     },
     "output_type": "display_data"
    }
   ],
   "source": [
    "def buy_signal_curve_2():\n",
    "    curve = []\n",
    "    odds = np.arange(.5, 1.0, .01)\n",
    "    for o in odds:\n",
    "        total = len(predictions[predictions.prediction > o])\n",
    "        correct = len(predictions[(predictions.prediction > o) & (predictions.signal == 1)])\n",
    "        if total == 0:\n",
    "            curve.append(1)\n",
    "        else:\n",
    "            curve.append(total)\n",
    "    plt.plot(odds, curve)\n",
    "    \n",
    "buy_signal_curve_2()"
   ]
  },
  {
   "cell_type": "code",
   "execution_count": 18,
   "metadata": {},
   "outputs": [
    {
     "data": {
      "text/plain": [
       "<matplotlib.axes._subplots.AxesSubplot at 0x1559e9160>"
      ]
     },
     "execution_count": 18,
     "metadata": {},
     "output_type": "execute_result"
    },
    {
     "data": {
      "image/png": "[encoded data removed]",
      "text/plain": [
       "<Figure size 432x288 with 1 Axes>"
      ]
     },
     "metadata": {
      "needs_background": "light"
     },
     "output_type": "display_data"
    }
   ],
   "source": [
    "predictions.prediction.plot(kind='hist')"
   ]
  }
 ],
 "metadata": {
  "kernelspec": {
   "display_name": "Python 3",
   "language": "python",
   "name": "python3"
  },
  "language_info": {
   "codemirror_mode": {
    "name": "ipython",
    "version": 3
   },
   "file_extension": ".py",
   "mimetype": "text/x-python",
   "name": "python",
   "nbconvert_exporter": "python",
   "pygments_lexer": "ipython3",
   "version": "3.7.3"
  }
 },
 "nbformat": 4,
 "nbformat_minor": 2
}
