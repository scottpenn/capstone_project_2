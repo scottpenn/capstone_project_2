{
 "cells": [
  {
   "cell_type": "markdown",
   "metadata": {},
   "source": [
    "### Bonus: A Shallow Dive into Deep Learning\n",
    "\n",
    "To put what I've learned in the Deep Learning Unit into practice, I will attempt to improve upon my Gradient Boosting model from the Machine Learning notebook."
   ]
  },
  {
   "cell_type": "code",
   "execution_count": 1,
   "metadata": {},
   "outputs": [],
   "source": [
    "# Import pandas for reading in the data\n",
    "import pandas as pd\n",
    "import matplotlib.pyplot as plt\n",
    "import numpy as np\n",
    "import sys"
   ]
  },
  {
   "cell_type": "markdown",
   "metadata": {},
   "source": [
    "The initial setup is the same as before."
   ]
  },
  {
   "cell_type": "code",
   "execution_count": 2,
   "metadata": {},
   "outputs": [],
   "source": [
    "top_stocks = pd.read_hdf('../data/clean/computed_stocks.h5', key='stocks_current')\n",
    "\n",
    "top_stocks.reset_index(inplace=True)\n",
    "top_stocks.drop_duplicates(['symbol', 'date'], inplace=True)\n",
    "top_stocks.set_index('date', inplace=True)"
   ]
  },
  {
   "cell_type": "code",
   "execution_count": 3,
   "metadata": {},
   "outputs": [],
   "source": [
    "top_stocks.index = pd.to_datetime(top_stocks.index)"
   ]
  },
  {
   "cell_type": "code",
   "execution_count": 4,
   "metadata": {},
   "outputs": [
    {
     "name": "stdout",
     "output_type": "stream",
     "text": [
      "<class 'pandas.core.frame.DataFrame'>\n",
      "DatetimeIndex: 528064 entries, 2015-06-17 00:00:00-04:00 to 2020-05-12 00:00:00-04:00\n",
      "Data columns (total 72 columns):\n",
      "symbol                                   528064 non-null object\n",
      "close                                    528064 non-null float64\n",
      "bb_upper_5                               528064 non-null float64\n",
      "linear_regression_angle_20               528064 non-null float64\n",
      "bb_width_20                              528064 non-null float64\n",
      "mom_5                                    528064 non-null float64\n",
      "natr_5                                   528064 non-null float64\n",
      "tema_20                                  528064 non-null float64\n",
      "tsf_20                                   528064 non-null float64\n",
      "bb_middle_20                             528064 non-null float64\n",
      "linear_regression_slope_5                528064 non-null float64\n",
      "linear_regression_angle_5                528064 non-null float64\n",
      "natr_20                                  528064 non-null float64\n",
      "macd_hist                                528064 non-null float64\n",
      "linear_regression_5                      528064 non-null float64\n",
      "linear_regression_intercept_5            528064 non-null float64\n",
      "median_price                             528064 non-null float64\n",
      "tema_5                                   528064 non-null float64\n",
      "rsi_20                                   528064 non-null float64\n",
      "wcl_price                                528064 non-null float64\n",
      "bb_lower_20                              528064 non-null float64\n",
      "linear_regression_20                     528064 non-null float64\n",
      "bb_lower_5                               528064 non-null float64\n",
      "tsf_5                                    528064 non-null float64\n",
      "macd_line                                528064 non-null float64\n",
      "obv                                      528064 non-null float64\n",
      "linear_regression_slope_20               528064 non-null float64\n",
      "t3_20                                    528064 non-null float64\n",
      "bb_middle_5                              528064 non-null float64\n",
      "t3_5                                     528064 non-null float64\n",
      "mom_20                                   528064 non-null float64\n",
      "rsi_5                                    528064 non-null float64\n",
      "bb_width_5                               528064 non-null float64\n",
      "bb_upper_20                              528064 non-null float64\n",
      "macd_signal                              528064 non-null float64\n",
      "linear_regression_intercept_20           528064 non-null float64\n",
      "bb_upper_5_market                        528064 non-null float64\n",
      "linear_regression_angle_20_market        528064 non-null float64\n",
      "bb_width_20_market                       528064 non-null float64\n",
      "mom_5_market                             528064 non-null float64\n",
      "natr_5_market                            528064 non-null float64\n",
      "tema_20_market                           528064 non-null float64\n",
      "tsf_20_market                            528064 non-null float64\n",
      "bb_middle_20_market                      528064 non-null float64\n",
      "linear_regression_slope_5_market         528064 non-null float64\n",
      "linear_regression_angle_5_market         528064 non-null float64\n",
      "natr_20_market                           528064 non-null float64\n",
      "macd_hist_market                         528064 non-null float64\n",
      "linear_regression_5_market               528064 non-null float64\n",
      "linear_regression_intercept_5_market     528064 non-null float64\n",
      "median_price_market                      528064 non-null float64\n",
      "tema_5_market                            528064 non-null float64\n",
      "rsi_20_market                            528064 non-null float64\n",
      "wcl_price_market                         528064 non-null float64\n",
      "bb_lower_20_market                       528064 non-null float64\n",
      "linear_regression_20_market              528064 non-null float64\n",
      "bb_lower_5_market                        528064 non-null float64\n",
      "tsf_5_market                             528064 non-null float64\n",
      "macd_line_market                         528064 non-null float64\n",
      "obv_market                               528064 non-null float64\n",
      "linear_regression_slope_20_market        528064 non-null float64\n",
      "t3_20_market                             528064 non-null float64\n",
      "bb_middle_5_market                       528064 non-null float64\n",
      "t3_5_market                              528064 non-null float64\n",
      "mom_20_market                            528064 non-null float64\n",
      "rsi_5_market                             528064 non-null float64\n",
      "bb_width_5_market                        528064 non-null float64\n",
      "bb_upper_20_market                       528064 non-null float64\n",
      "macd_signal_market                       528064 non-null float64\n",
      "linear_regression_intercept_20_market    528064 non-null float64\n",
      "buy_signal                               528064 non-null float64\n",
      "forecast                                 528064 non-null float64\n",
      "dtypes: float64(71), object(1)\n",
      "memory usage: 294.1+ MB\n"
     ]
    }
   ],
   "source": [
    "top_stocks.info()"
   ]
  },
  {
   "cell_type": "code",
   "execution_count": 5,
   "metadata": {},
   "outputs": [],
   "source": [
    "import json\n",
    "COLUMNS = []\n",
    "\n",
    "with open('../models/columns.json') as column_file:\n",
    "    COLUMNS = json.load(column_file)"
   ]
  },
  {
   "cell_type": "code",
   "execution_count": 6,
   "metadata": {},
   "outputs": [
    {
     "name": "stderr",
     "output_type": "stream",
     "text": [
      "Using Theano backend.\n"
     ]
    }
   ],
   "source": [
    "from sklearn.model_selection import train_test_split\n",
    "from sklearn.preprocessing import MinMaxScaler, QuantileTransformer\n",
    "from imblearn.under_sampling import RandomUnderSampler\n",
    "\n",
    "X = top_stocks[COLUMNS]\n",
    "y = top_stocks[['buy_signal']]\n",
    "    \n",
    "X_train, X_test, y_train, y_test = train_test_split(X, y, test_size=0.2)"
   ]
  },
  {
   "cell_type": "code",
   "execution_count": 7,
   "metadata": {},
   "outputs": [],
   "source": [
    "sm = RandomUnderSampler()\n",
    "X_train, y_train = sm.fit_resample(X_train, y_train)"
   ]
  },
  {
   "cell_type": "markdown",
   "metadata": {},
   "source": [
    "To create the neural network model, I will use the Keras library, which is built upon TensorFlow. Keras requires that the result column is in a categorical format, but it provides the function \"to_categorical\" for this purpose."
   ]
  },
  {
   "cell_type": "markdown",
   "metadata": {},
   "source": [
    "The data must first be scaled to improve accuracy. The test data is not scaled independently, but according to the fit of the train data. After testing both the StandardScaler and the MinMaxScaler, the StandardScaler performs better and converges in fewer epochs."
   ]
  },
  {
   "cell_type": "code",
   "execution_count": 8,
   "metadata": {},
   "outputs": [],
   "source": [
    "from pickle import dump\n",
    "from sklearn.preprocessing import MinMaxScaler, QuantileTransformer\n",
    "\n",
    "scaler = QuantileTransformer(output_distribution='normal')\n",
    "X_train_scaled = scaler.fit_transform(X_train)\n",
    "X_test_scaled = scaler.transform(X_test)\n",
    "\n",
    "dump(scaler, open('../models/scaler.pkl', 'wb'))"
   ]
  },
  {
   "cell_type": "code",
   "execution_count": 9,
   "metadata": {},
   "outputs": [],
   "source": [
    "from keras.utils import to_categorical\n",
    "\n",
    "y_train_cat = to_categorical(y_train) \n",
    "y_test_cat = to_categorical(y_test)"
   ]
  },
  {
   "cell_type": "markdown",
   "metadata": {},
   "source": [
    "To build the neural network, I used a simple sequential model with just one hidden layer containing 100 nodes. I tested many different configurations, but adding layers and nodes did not improve the final test accuracy score. The Rectified Linear Unit or \"RELU\" activation function performs better than sigmoid activation functions like \"tanh\". The output layer must have 2 nodes, representing a win or a loss. The \"softmax\" activation function is also necessary for binary classification, as it converts the outputs to probabilities and ensures that they add up to 1."
   ]
  },
  {
   "cell_type": "code",
   "execution_count": 10,
   "metadata": {},
   "outputs": [],
   "source": [
    "from keras.models import Sequential\n",
    "from keras.layers import Dense, Activation, Dropout\n",
    "\n",
    "model = Sequential()\n",
    "\n",
    "model.add(Dense(200, activation='relu', input_dim=X_train_scaled.shape[1]))\n",
    "model.add(Dense(100, activation='relu'))\n",
    "model.add(Dense(50, activation='relu'))\n",
    "model.add(Dense(2, activation='softmax'))"
   ]
  },
  {
   "cell_type": "markdown",
   "metadata": {},
   "source": [
    "The model was compiled with the \"adam\" optimizer. I also chose the \"categorical_crossentropy\" loss function, a good default for classification. "
   ]
  },
  {
   "cell_type": "code",
   "execution_count": 11,
   "metadata": {},
   "outputs": [],
   "source": [
    "from keras.metrics import accuracy\n",
    "from keras.optimizers import Adam\n",
    "\n",
    "model.compile(optimizer='adam', loss='categorical_crossentropy', metrics=['accuracy'])"
   ]
  },
  {
   "cell_type": "markdown",
   "metadata": {},
   "source": [
    "When fitting the model, I used two callbacks provided by Keras. The EarlyStopping callback stops when the validation loss function does not improve after five epochs. The ModelCheckpoint callback saves the model with the best validation accuracy score. I experimented with splitting the training data to create an additional validation set, but setting the test data as the validation set optimizes for test set accuracy."
   ]
  },
  {
   "cell_type": "code",
   "execution_count": 12,
   "metadata": {
    "scrolled": false
   },
   "outputs": [
    {
     "name": "stdout",
     "output_type": "stream",
     "text": [
      "Train on 417380 samples, validate on 105613 samples\n",
      "Epoch 1/20\n",
      "417380/417380 [==============================] - 12s 28us/step - loss: 0.6684 - accuracy: 0.5730 - val_loss: 0.6398 - val_accuracy: 0.6137\n",
      "Epoch 2/20\n",
      "417380/417380 [==============================] - 12s 29us/step - loss: 0.6261 - accuracy: 0.6336 - val_loss: 0.6191 - val_accuracy: 0.6456\n",
      "Epoch 3/20\n",
      "417380/417380 [==============================] - 12s 29us/step - loss: 0.6089 - accuracy: 0.6544 - val_loss: 0.6128 - val_accuracy: 0.6521\n",
      "Epoch 4/20\n",
      "417380/417380 [==============================] - 12s 29us/step - loss: 0.6001 - accuracy: 0.6636 - val_loss: 0.5995 - val_accuracy: 0.6646\n",
      "Epoch 5/20\n",
      "417380/417380 [==============================] - 12s 29us/step - loss: 0.5941 - accuracy: 0.6695 - val_loss: 0.6006 - val_accuracy: 0.6634\n",
      "Epoch 6/20\n",
      "417380/417380 [==============================] - 12s 29us/step - loss: 0.5899 - accuracy: 0.6742 - val_loss: 0.5931 - val_accuracy: 0.6708\n",
      "Epoch 7/20\n",
      "417380/417380 [==============================] - 12s 29us/step - loss: 0.5865 - accuracy: 0.6767 - val_loss: 0.5923 - val_accuracy: 0.6730\n",
      "Epoch 8/20\n",
      "417380/417380 [==============================] - 12s 29us/step - loss: 0.5837 - accuracy: 0.6793 - val_loss: 0.5926 - val_accuracy: 0.6717\n",
      "Epoch 9/20\n",
      "417380/417380 [==============================] - 12s 29us/step - loss: 0.5811 - accuracy: 0.6820 - val_loss: 0.5854 - val_accuracy: 0.6791\n",
      "Epoch 10/20\n",
      "417380/417380 [==============================] - 12s 29us/step - loss: 0.5788 - accuracy: 0.6835 - val_loss: 0.5863 - val_accuracy: 0.6793\n",
      "Epoch 11/20\n",
      "417380/417380 [==============================] - 13s 30us/step - loss: 0.5770 - accuracy: 0.6856 - val_loss: 0.5868 - val_accuracy: 0.6779\n",
      "Epoch 12/20\n",
      "417380/417380 [==============================] - 14s 33us/step - loss: 0.5749 - accuracy: 0.6874 - val_loss: 0.5871 - val_accuracy: 0.6785\n"
     ]
    }
   ],
   "source": [
    "from keras.callbacks.callbacks import EarlyStopping\n",
    "from keras.callbacks.callbacks import ModelCheckpoint\n",
    "\n",
    "es = EarlyStopping(monitor='val_loss', patience=3)\n",
    "mc = ModelCheckpoint('../models/daily.h5', monitor='val_loss', save_best_only=True)\n",
    "\n",
    "history = model.fit(X_train_scaled, y_train_cat, \n",
    "          epochs=20, \n",
    "          callbacks= [es, mc], \n",
    "          batch_size=64,\n",
    "          validation_data=(X_test_scaled, y_test_cat), \n",
    "          shuffle=True)"
   ]
  },
  {
   "cell_type": "markdown",
   "metadata": {},
   "source": [
    "An evaluation of the best model shows a test accuracy of 66.5%. This outperforms any of my previous Machine Learning models, even after hyperparameter tuning. "
   ]
  },
  {
   "cell_type": "code",
   "execution_count": 13,
   "metadata": {
    "scrolled": true
   },
   "outputs": [
    {
     "name": "stdout",
     "output_type": "stream",
     "text": [
      "417380/417380 [==============================] - 4s 8us/step\n",
      "105613/105613 [==============================] - 1s 9us/step\n",
      "0.5724815985651385 0.5853612834943369\n",
      "0.6899060606956482 0.6791398525238037\n"
     ]
    }
   ],
   "source": [
    "from keras.models import load_model\n",
    "\n",
    "best_model = load_model('../models/daily.h5')\n",
    "train_loss, train_accuracy = best_model.evaluate(X_train_scaled, y_train_cat)\n",
    "test_loss, test_accuracy = best_model.evaluate(X_test_scaled, y_test_cat)\n",
    "print(train_loss, test_loss)\n",
    "print(train_accuracy, test_accuracy)"
   ]
  },
  {
   "cell_type": "code",
   "execution_count": 14,
   "metadata": {},
   "outputs": [],
   "source": [
    "predictions = pd.DataFrame(zip(best_model.predict(X_test_scaled)[:, 1], y_test_cat[:, 1]),\n",
    "                           columns=['prediction', 'signal'])"
   ]
  },
  {
   "cell_type": "code",
   "execution_count": 15,
   "metadata": {},
   "outputs": [],
   "source": [
    "predictions['prediction_correct'] = ((predictions.prediction >= 0.5) & (predictions.signal == 1)) | \\\n",
    "                                    ((predictions.prediction < 0.5) & (predictions.signal == 0))"
   ]
  },
  {
   "cell_type": "code",
   "execution_count": 16,
   "metadata": {
    "scrolled": true
   },
   "outputs": [
    {
     "data": {
      "image/png": "[encoded data removed]",
      "text/plain": [
       "<Figure size 432x288 with 1 Axes>"
      ]
     },
     "metadata": {
      "needs_background": "light"
     },
     "output_type": "display_data"
    }
   ],
   "source": [
    "def buy_signal_curve():\n",
    "    curve = []\n",
    "    odds = np.arange(.5, 1.0, .01)\n",
    "    for o in odds:\n",
    "        total = len(predictions[predictions.prediction > o])\n",
    "        correct = len(predictions[(predictions.prediction > o) & (predictions.prediction_correct == True)])\n",
    "        if total == 0:\n",
    "            curve.append(1)\n",
    "        else:\n",
    "            curve.append(correct / total)\n",
    "    plt.plot(odds, curve)\n",
    "    \n",
    "buy_signal_curve()"
   ]
  },
  {
   "cell_type": "code",
   "execution_count": 17,
   "metadata": {},
   "outputs": [
    {
     "data": {
      "image/png": "[encoded data removed]",
      "text/plain": [
       "<Figure size 432x288 with 1 Axes>"
      ]
     },
     "metadata": {
      "needs_background": "light"
     },
     "output_type": "display_data"
    }
   ],
   "source": [
    "def buy_signal_curve_2():\n",
    "    curve = []\n",
    "    odds = np.arange(.5, 1.0, .01)\n",
    "    for o in odds:\n",
    "        total = len(predictions[predictions.prediction > o])\n",
    "        correct = len(predictions[(predictions.prediction > o) & (predictions.signal == 1)])\n",
    "        if total == 0:\n",
    "            curve.append(1)\n",
    "        else:\n",
    "            curve.append(total)\n",
    "    plt.plot(odds, curve)\n",
    "    \n",
    "buy_signal_curve_2()"
   ]
  },
  {
   "cell_type": "markdown",
   "metadata": {},
   "source": [
    "I do not believe that the model has much room for improvement. For proof, I trained the model for 100 epochs, and plotted its history. As shown below, the test loss steadily increases after only a few epochs. Similarly, the test accuracy decreases after only a few epochs, then converges. Even at a training accuracy of 75%, the model is overfitting.\n",
    "\n",
    "The presence of upsets in the match data throw off any attempt at finding general patterns in the features. Increasing the training accuracy can only reduce the model's ability to generalize for the test data. To improve the model at this point, I would need to add new features that can generalize more effectively when encountering upsets in the training data."
   ]
  },
  {
   "cell_type": "markdown",
   "metadata": {},
   "source": [
    ". | .\n",
    "- | - \n",
    "![loss](epoch-loss.png) | ![loss](epoch-accuracy.png) "
   ]
  },
  {
   "cell_type": "code",
   "execution_count": 18,
   "metadata": {},
   "outputs": [
    {
     "data": {
      "text/plain": [
       "<matplotlib.axes._subplots.AxesSubplot at 0x1c7484ec18>"
      ]
     },
     "execution_count": 18,
     "metadata": {},
     "output_type": "execute_result"
    },
    {
     "data": {
      "image/png": "[encoded data removed]",
      "text/plain": [
       "<Figure size 432x288 with 1 Axes>"
      ]
     },
     "metadata": {
      "needs_background": "light"
     },
     "output_type": "display_data"
    }
   ],
   "source": [
    "predictions.prediction.plot(kind='hist')"
   ]
  },
  {
   "cell_type": "code",
   "execution_count": 19,
   "metadata": {},
   "outputs": [],
   "source": [
    "symbols = top_stocks.symbol.unique()"
   ]
  },
  {
   "cell_type": "code",
   "execution_count": 20,
   "metadata": {},
   "outputs": [],
   "source": [
    "def backtest(forecasts, predictions, buy):\n",
    "    baseline = 100\n",
    "    model = 100\n",
    "    position = 100\n",
    "    trade = 100\n",
    "    buy_signal = False\n",
    "    for date, prediction in zip(forecasts.index, predictions):\n",
    "        if prediction > buy:\n",
    "            if buy_signal == False:\n",
    "                trade = 100\n",
    "                position = trade\n",
    "                model -= position\n",
    "                buy_signal = True\n",
    "        elif prediction <= buy:\n",
    "            if buy_signal == True:\n",
    "                model += position\n",
    "                buy_signal = False\n",
    "        if buy_signal == True:\n",
    "            position += position * forecasts[date]\n",
    "        baseline += baseline * forecasts[date]\n",
    "    if buy_signal == True:\n",
    "        model += position\n",
    "    return baseline, model"
   ]
  },
  {
   "cell_type": "code",
   "execution_count": 21,
   "metadata": {},
   "outputs": [
    {
     "data": {
      "application/vnd.jupyter.widget-view+json": {
       "model_id": "57ad3214f9004ed4b558a51584aa9913",
       "version_major": 2,
       "version_minor": 0
      },
      "text/plain": [
       "HBox(children=(FloatProgress(value=0.0, max=50.0), HTML(value='')))"
      ]
     },
     "metadata": {},
     "output_type": "display_data"
    },
    {
     "name": "stdout",
     "output_type": "stream",
     "text": [
      "A 202.4242424242425 638.0608613544043\n",
      "AA 19.453734671125968 829.8860813308178\n",
      "AAL 22.843530591775345 744.4623515993305\n",
      "AAPL 241.67321288295375 596.1894079430832\n",
      "AAXN 363.2532850022657 516.5235687623831\n",
      "ABB 80.16157989228006 510.79342923662824\n",
      "ABBV 131.1347203777482 520.8341744804277\n",
      "ABC 75.46408393866014 487.45346643799667\n",
      "ABEV 31.803278688524557 477.64154656341407\n",
      "ABT 189.74675725756634 558.2026298165486\n",
      "ACB 5.486189935679151 163.3934903539078\n",
      "ACN 186.732693696482 600.0801990506984\n",
      "ADBE 460.22333461686543 752.1778579560196\n",
      "ADI 154.395359214636 720.0991681221811\n",
      "ADM 66.43109540636026 504.0709243570764\n",
      "ADP 161.60912638847196 564.4900864966007\n",
      "ADSK 330.1166588894073 836.4681080617664\n",
      "ADT 15.407690209980904 397.5947722939118\n",
      "AEO 44.09038238702204 605.8215158732771\n",
      "AES 84.93050475493796 552.1101276451409\n",
      "AFL 102.41716023691372 503.59477523357\n",
      "AGNC 58.82647943831497 318.35705286306404\n",
      "AIG 40.349175557710886 576.9563705849084\n",
      "AKAM 130.98475484136765 576.1687614498244\n",
      "ALL 137.06460256028566 489.7202380892214\n",
      "ALLY 60.310612597066545 670.2481080177079\n",
      "AMAT 263.5107471852614 878.2744373683952\n",
      "AMD 2112.550607287453 1145.6597261467693\n",
      "AMGN 152.15547703180255 529.4444375883022\n",
      "AMT 245.590735231619 469.00323866683016\n",
      "AMTD 89.92380451918038 723.3252658622127\n",
      "AMX 60.1158860453888 545.8633123984748\n",
      "AMZN 553.4980481989668 679.0660880981237\n",
      "ANF 47.16726618705036 783.671336430125\n",
      "ANTM 162.14579801404727 577.8074918949313\n",
      "APA 18.605860932893986 1018.8189810305582\n",
      "APTV 61.91688734976581 447.9436611801866\n",
      "AR 7.012700165654344 816.2300192189407\n",
      "ARNC 32.17054263565886 474.6595221919383\n",
      "ASML 272.8900018549435 753.9017819360304\n",
      "ATUS 125.599128540305 445.18816020163655\n",
      "ATVI 296.22034579814954 644.6201296210361\n",
      "AU 271.8171926006526 634.3365803490055\n",
      "AUY 153.9393939393939 662.2526980421825\n",
      "AVGO 187.0490812808755 725.8341068351165\n",
      "AVTR 124.48398576512452 234.33067463615745\n",
      "AXP 97.14890438246998 613.3689166404604\n",
      "AXTA 53.64145658263322 539.7059967566229\n",
      "AZN 167.70770163735602 399.5450810069432\n",
      "BA 84.71031165028222 634.6876053813439\n",
      "\n"
     ]
    },
    {
     "data": {
      "text/plain": [
       "(5000, 9038.906111275573, 30088.938323456237)"
      ]
     },
     "execution_count": 21,
     "metadata": {},
     "output_type": "execute_result"
    }
   ],
   "source": [
    "from tqdm.notebook import tqdm\n",
    "\n",
    "def calculate_profit(symbol, buy):\n",
    "    X = top_stocks[top_stocks.symbol == symbol][COLUMNS]\n",
    "    if X.shape[0] == 0:\n",
    "        return 0, 0\n",
    "    X_scaled = scaler.transform(X)\n",
    "    predictions = best_model.predict(X_scaled)[:, 1]\n",
    "    forecasts = top_stocks[top_stocks.symbol == symbol].forecast\n",
    "    \n",
    "    return backtest(forecasts, predictions, buy)\n",
    "\n",
    "baselines = []\n",
    "models = []\n",
    "\n",
    "num_symbols = 50\n",
    "\n",
    "for symbol in tqdm(symbols[:num_symbols]):\n",
    "    baseline, model = calculate_profit(symbol, .5)\n",
    "    print(symbol, baseline, model)\n",
    "    if baseline == 0:\n",
    "        num_symbols -= 1\n",
    "    baselines.append(baseline)\n",
    "    models.append(model)\n",
    "\n",
    "num_symbols * 100, sum(baselines), sum(models)"
   ]
  },
  {
   "cell_type": "markdown",
   "metadata": {},
   "source": [
    "### Conclusions\n",
    "\n",
    "- Neural networks are not only useful for image and audio recognition. They can also be a powerful tool for classification.\n",
    "- Simple models work well for simple data. Complexity should be added only when needed.\n",
    "- Beware of overfitting. Longer training time does not mean better accuracy on unseen data.\n",
    "- Utilize callbacks to save the best model, and to stop training early.\n",
    "- If you're stuck, it might be time to look at the dataset's features."
   ]
  }
 ],
 "metadata": {
  "kernelspec": {
   "display_name": "Python 3",
   "language": "python",
   "name": "python3"
  },
  "language_info": {
   "codemirror_mode": {
    "name": "ipython",
    "version": 3
   },
   "file_extension": ".py",
   "mimetype": "text/x-python",
   "name": "python",
   "nbconvert_exporter": "python",
   "pygments_lexer": "ipython3",
   "version": "3.7.3"
  }
 },
 "nbformat": 4,
 "nbformat_minor": 2
}
