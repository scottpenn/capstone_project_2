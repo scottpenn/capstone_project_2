{
 "cells": [
  {
   "cell_type": "markdown",
   "metadata": {},
   "source": [
    "### Bonus: A Shallow Dive into Deep Learning\n",
    "\n",
    "To put what I've learned in the Deep Learning Unit into practice, I will attempt to improve upon my Gradient Boosting model from the Machine Learning notebook."
   ]
  },
  {
   "cell_type": "code",
   "execution_count": 1,
   "metadata": {},
   "outputs": [],
   "source": [
    "# Import pandas for reading in the data\n",
    "import pandas as pd\n",
    "import matplotlib.pyplot as plt\n",
    "import numpy as np\n",
    "import sys"
   ]
  },
  {
   "cell_type": "markdown",
   "metadata": {},
   "source": [
    "The initial setup is the same as before."
   ]
  },
  {
   "cell_type": "code",
   "execution_count": 2,
   "metadata": {},
   "outputs": [],
   "source": [
    "top_stocks = pd.read_hdf('../data/clean/all_stocks.h5', key='daily')\n",
    "\n",
    "top_stocks.reset_index(inplace=True)\n",
    "top_stocks.drop_duplicates(['symbol', 'date'], inplace=True)\n",
    "top_stocks.set_index('date', inplace=True)"
   ]
  },
  {
   "cell_type": "code",
   "execution_count": 8,
   "metadata": {},
   "outputs": [],
   "source": [
    "top_stocks.index = pd.to_datetime(top_stocks.index)"
   ]
  },
  {
   "cell_type": "code",
   "execution_count": 9,
   "metadata": {},
   "outputs": [
    {
     "name": "stdout",
     "output_type": "stream",
     "text": [
      "<class 'pandas.core.frame.DataFrame'>\n",
      "DatetimeIndex: 467494 entries, 2008-02-07 to 2020-03-31\n",
      "Columns: 288 entries, symbol to buy_signal\n",
      "dtypes: float64(286), int64(1), object(1)\n",
      "memory usage: 1.0+ GB\n"
     ]
    }
   ],
   "source": [
    "top_stocks.info()"
   ]
  },
  {
   "cell_type": "code",
   "execution_count": 10,
   "metadata": {},
   "outputs": [],
   "source": [
    "import json\n",
    "COLUMNS = []\n",
    "\n",
    "with open('../models/columns.json') as column_file:\n",
    "    COLUMNS = json.load(column_file)"
   ]
  },
  {
   "cell_type": "code",
   "execution_count": 23,
   "metadata": {},
   "outputs": [],
   "source": [
    "from sklearn.model_selection import train_test_split\n",
    "from sklearn.preprocessing import MinMaxScaler, QuantileTransformer\n",
    "from imblearn.under_sampling import RandomUnderSampler\n",
    "\n",
    "X = top_stocks.loc[:'2020-02'][COLUMNS]\n",
    "y = top_stocks.loc[:'2020-02'][['buy_signal']]\n",
    "\n",
    "X_backtest = top_stocks.loc['2020-03':][COLUMNS]\n",
    "y_backtest = top_stocks.loc['2020-03':][['buy_signal']]\n",
    "    \n",
    "X_train, X_test, y_train, y_test = train_test_split(X, y, test_size=0.5)"
   ]
  },
  {
   "cell_type": "code",
   "execution_count": 24,
   "metadata": {},
   "outputs": [],
   "source": [
    "sm = RandomUnderSampler()\n",
    "X_train, y_train = sm.fit_resample(X_train, y_train)"
   ]
  },
  {
   "cell_type": "markdown",
   "metadata": {},
   "source": [
    "To create the neural network model, I will use the Keras library, which is built upon TensorFlow. Keras requires that the result column is in a categorical format, but it provides the function \"to_categorical\" for this purpose."
   ]
  },
  {
   "cell_type": "markdown",
   "metadata": {},
   "source": [
    "The data must first be scaled to improve accuracy. The test data is not scaled independently, but according to the fit of the train data. After testing both the StandardScaler and the MinMaxScaler, the StandardScaler performs better and converges in fewer epochs."
   ]
  },
  {
   "cell_type": "code",
   "execution_count": 25,
   "metadata": {},
   "outputs": [],
   "source": [
    "from pickle import dump\n",
    "from sklearn.preprocessing import MinMaxScaler, QuantileTransformer\n",
    "\n",
    "scaler = QuantileTransformer(output_distribution='normal')\n",
    "X_train_scaled = scaler.fit_transform(X_train)\n",
    "X_test_scaled = scaler.transform(X_test)\n",
    "X_backtest_scaled = scaler.transform(X_backtest)\n",
    "\n",
    "dump(scaler, open('../models/scaler.pkl', 'wb'))"
   ]
  },
  {
   "cell_type": "code",
   "execution_count": 26,
   "metadata": {},
   "outputs": [],
   "source": [
    "from keras.utils import to_categorical\n",
    "\n",
    "y_train_cat = to_categorical(y_train) \n",
    "y_test_cat = to_categorical(y_test)\n",
    "y_backtest_cat = to_categorical(y_backtest)"
   ]
  },
  {
   "cell_type": "markdown",
   "metadata": {},
   "source": [
    "To build the neural network, I used a simple sequential model with just one hidden layer containing 100 nodes. I tested many different configurations, but adding layers and nodes did not improve the final test accuracy score. The Rectified Linear Unit or \"RELU\" activation function performs better than sigmoid activation functions like \"tanh\". The output layer must have 2 nodes, representing a win or a loss. The \"softmax\" activation function is also necessary for binary classification, as it converts the outputs to probabilities and ensures that they add up to 1."
   ]
  },
  {
   "cell_type": "code",
   "execution_count": 27,
   "metadata": {},
   "outputs": [],
   "source": [
    "from keras.models import Sequential\n",
    "from keras.layers import Dense, Activation, Dropout\n",
    "\n",
    "model = Sequential()\n",
    "\n",
    "model.add(Dense(200, activation='relu', input_dim=X_train_scaled.shape[1]))\n",
    "model.add(Dense(150, activation='relu'))\n",
    "model.add(Dense(100, activation='relu'))\n",
    "model.add(Dense(50, activation='relu'))\n",
    "model.add(Dense(2, activation='softmax'))"
   ]
  },
  {
   "cell_type": "markdown",
   "metadata": {},
   "source": [
    "The model was compiled with the \"adam\" optimizer. I also chose the \"categorical_crossentropy\" loss function, a good default for classification. "
   ]
  },
  {
   "cell_type": "code",
   "execution_count": 28,
   "metadata": {},
   "outputs": [],
   "source": [
    "from keras.metrics import accuracy\n",
    "from keras.optimizers import Adam\n",
    "\n",
    "model.compile(optimizer='adam', loss='categorical_crossentropy', metrics=['accuracy'])"
   ]
  },
  {
   "cell_type": "markdown",
   "metadata": {},
   "source": [
    "When fitting the model, I used two callbacks provided by Keras. The EarlyStopping callback stops when the validation loss function does not improve after five epochs. The ModelCheckpoint callback saves the model with the best validation accuracy score. I experimented with splitting the training data to create an additional validation set, but setting the test data as the validation set optimizes for test set accuracy."
   ]
  },
  {
   "cell_type": "code",
   "execution_count": 29,
   "metadata": {
    "scrolled": false
   },
   "outputs": [
    {
     "name": "stdout",
     "output_type": "stream",
     "text": [
      "Train on 226252 samples, validate on 232889 samples\n",
      "Epoch 1/20\n",
      "226252/226252 [==============================] - 31s 136us/step - loss: 0.6934 - accuracy: 0.5158 - val_loss: 0.6922 - val_accuracy: 0.5117\n",
      "Epoch 2/20\n",
      "226252/226252 [==============================] - 31s 138us/step - loss: 0.6911 - accuracy: 0.5237 - val_loss: 0.6901 - val_accuracy: 0.5289\n",
      "Epoch 3/20\n",
      "226252/226252 [==============================] - 30s 134us/step - loss: 0.6902 - accuracy: 0.5299 - val_loss: 0.6906 - val_accuracy: 0.5254\n",
      "Epoch 4/20\n",
      "226252/226252 [==============================] - 30s 132us/step - loss: 0.6900 - accuracy: 0.5302 - val_loss: 0.6900 - val_accuracy: 0.5276\n",
      "Epoch 5/20\n",
      "226252/226252 [==============================] - 31s 136us/step - loss: 0.6895 - accuracy: 0.5326 - val_loss: 0.6907 - val_accuracy: 0.5243\n",
      "Epoch 6/20\n",
      "226252/226252 [==============================] - 32s 141us/step - loss: 0.6890 - accuracy: 0.5353 - val_loss: 0.6897 - val_accuracy: 0.5321\n",
      "Epoch 7/20\n",
      "226252/226252 [==============================] - 30s 131us/step - loss: 0.6885 - accuracy: 0.5359 - val_loss: 0.6899 - val_accuracy: 0.5304\n",
      "Epoch 8/20\n",
      "226252/226252 [==============================] - 29s 129us/step - loss: 0.6879 - accuracy: 0.5388 - val_loss: 0.6901 - val_accuracy: 0.5316\n",
      "Epoch 9/20\n",
      "226252/226252 [==============================] - 31s 136us/step - loss: 0.6873 - accuracy: 0.5410 - val_loss: 0.6894 - val_accuracy: 0.5321\n",
      "Epoch 10/20\n",
      "226252/226252 [==============================] - 30s 133us/step - loss: 0.6865 - accuracy: 0.5432 - val_loss: 0.6905 - val_accuracy: 0.5313\n",
      "Epoch 11/20\n",
      "226252/226252 [==============================] - 31s 136us/step - loss: 0.6855 - accuracy: 0.5450 - val_loss: 0.6901 - val_accuracy: 0.5339\n",
      "Epoch 12/20\n",
      "226252/226252 [==============================] - 32s 139us/step - loss: 0.6846 - accuracy: 0.5472 - val_loss: 0.6899 - val_accuracy: 0.5332\n",
      "Epoch 13/20\n",
      "226252/226252 [==============================] - 32s 141us/step - loss: 0.6836 - accuracy: 0.5485 - val_loss: 0.6916 - val_accuracy: 0.5280\n",
      "Epoch 14/20\n",
      "226252/226252 [==============================] - 33s 144us/step - loss: 0.6821 - accuracy: 0.5528 - val_loss: 0.6945 - val_accuracy: 0.5296\n",
      "Epoch 15/20\n",
      "226252/226252 [==============================] - 31s 136us/step - loss: 0.6803 - accuracy: 0.5561 - val_loss: 0.6927 - val_accuracy: 0.5308\n",
      "Epoch 16/20\n",
      "226252/226252 [==============================] - 31s 139us/step - loss: 0.6784 - accuracy: 0.5605 - val_loss: 0.6940 - val_accuracy: 0.5280\n",
      "Epoch 17/20\n",
      "226252/226252 [==============================] - 31s 139us/step - loss: 0.6765 - accuracy: 0.5631 - val_loss: 0.6991 - val_accuracy: 0.5291\n",
      "Epoch 18/20\n",
      "226252/226252 [==============================] - 32s 140us/step - loss: 0.6742 - accuracy: 0.5668 - val_loss: 0.6972 - val_accuracy: 0.5292\n",
      "Epoch 19/20\n",
      "226252/226252 [==============================] - 32s 141us/step - loss: 0.6718 - accuracy: 0.5692 - val_loss: 0.7000 - val_accuracy: 0.5289\n",
      "Epoch 20/20\n",
      "226252/226252 [==============================] - 33s 144us/step - loss: 0.6685 - accuracy: 0.5744 - val_loss: 0.7042 - val_accuracy: 0.5280\n"
     ]
    }
   ],
   "source": [
    "from keras.callbacks.callbacks import EarlyStopping\n",
    "from keras.callbacks.callbacks import ModelCheckpoint\n",
    "\n",
    "es = EarlyStopping(monitor='loss', patience=3)\n",
    "mc = ModelCheckpoint('../models/buy_signal.h5', monitor='val_loss', save_best_only=True)\n",
    "\n",
    "history = model.fit(X_train_scaled, y_train_cat, \n",
    "          epochs=20, \n",
    "          callbacks= [es, mc], \n",
    "          batch_size=128,\n",
    "          validation_data=(X_test_scaled, y_test_cat), \n",
    "          shuffle=True)"
   ]
  },
  {
   "cell_type": "markdown",
   "metadata": {},
   "source": [
    "An evaluation of the best model shows a test accuracy of 66.5%. This outperforms any of my previous Machine Learning models, even after hyperparameter tuning. "
   ]
  },
  {
   "cell_type": "code",
   "execution_count": 31,
   "metadata": {
    "scrolled": true
   },
   "outputs": [
    {
     "name": "stdout",
     "output_type": "stream",
     "text": [
      "226252/226252 [==============================] - 16s 71us/step\n",
      "232889/232889 [==============================] - 17s 74us/step\n",
      "1716/1716 [==============================] - 0s 162us/step\n"
     ]
    },
    {
     "data": {
      "text/plain": [
       "(0.5476150512695312, 0.5320689082145691, 0.5268065333366394)"
      ]
     },
     "execution_count": 31,
     "metadata": {},
     "output_type": "execute_result"
    }
   ],
   "source": [
    "from keras.models import load_model\n",
    "\n",
    "best_model = load_model('../models/buy_signal.h5')\n",
    "_, train_accuracy = best_model.evaluate(X_train_scaled, y_train_cat)\n",
    "_, test_accuracy = best_model.evaluate(X_test_scaled, y_test_cat)\n",
    "_, backtest_accuracy = best_model.evaluate(X_backtest_scaled, y_backtest_cat)\n",
    "train_accuracy, test_accuracy, backtest_accuracy"
   ]
  },
  {
   "cell_type": "code",
   "execution_count": 32,
   "metadata": {},
   "outputs": [],
   "source": [
    "predictions = pd.DataFrame(zip(best_model.predict(X_test_scaled)[:, 1], y_test_cat[:, 1]),\n",
    "                           columns=['prediction', 'signal'])"
   ]
  },
  {
   "cell_type": "code",
   "execution_count": 33,
   "metadata": {},
   "outputs": [],
   "source": [
    "predictions['prediction_correct'] = ((predictions.prediction >= 0.5) & (predictions.signal == 1)) | \\\n",
    "                                    ((predictions.prediction < 0.5) & (predictions.signal == 0))"
   ]
  },
  {
   "cell_type": "code",
   "execution_count": 34,
   "metadata": {
    "scrolled": true
   },
   "outputs": [
    {
     "data": {
      "image/png": "[encoded data removed]",
      "text/plain": [
       "<Figure size 432x288 with 1 Axes>"
      ]
     },
     "metadata": {
      "needs_background": "light"
     },
     "output_type": "display_data"
    }
   ],
   "source": [
    "def buy_signal_curve():\n",
    "    curve = []\n",
    "    odds = np.arange(.5, 1.0, .01)\n",
    "    for o in odds:\n",
    "        total = len(predictions[predictions.prediction > o])\n",
    "        correct = len(predictions[(predictions.prediction > o) & (predictions.prediction_correct == True)])\n",
    "        if total == 0:\n",
    "            curve.append(1)\n",
    "        else:\n",
    "            curve.append(correct / total)\n",
    "    plt.plot(odds, curve)\n",
    "    \n",
    "buy_signal_curve()"
   ]
  },
  {
   "cell_type": "code",
   "execution_count": 35,
   "metadata": {},
   "outputs": [
    {
     "data": {
      "image/png": "[encoded data removed]",
      "text/plain": [
       "<Figure size 432x288 with 1 Axes>"
      ]
     },
     "metadata": {
      "needs_background": "light"
     },
     "output_type": "display_data"
    }
   ],
   "source": [
    "def buy_signal_curve_2():\n",
    "    curve = []\n",
    "    odds = np.arange(.5, 1.0, .01)\n",
    "    for o in odds:\n",
    "        total = len(predictions[predictions.prediction > o])\n",
    "        correct = len(predictions[(predictions.prediction > o) & (predictions.signal == 1)])\n",
    "        if total == 0:\n",
    "            curve.append(1)\n",
    "        else:\n",
    "            curve.append(total)\n",
    "    plt.plot(odds, curve)\n",
    "    \n",
    "buy_signal_curve_2()"
   ]
  },
  {
   "cell_type": "markdown",
   "metadata": {},
   "source": [
    "I do not believe that the model has much room for improvement. For proof, I trained the model for 100 epochs, and plotted its history. As shown below, the test loss steadily increases after only a few epochs. Similarly, the test accuracy decreases after only a few epochs, then converges. Even at a training accuracy of 75%, the model is overfitting.\n",
    "\n",
    "The presence of upsets in the match data throw off any attempt at finding general patterns in the features. Increasing the training accuracy can only reduce the model's ability to generalize for the test data. To improve the model at this point, I would need to add new features that can generalize more effectively when encountering upsets in the training data."
   ]
  },
  {
   "cell_type": "markdown",
   "metadata": {},
   "source": [
    ". | .\n",
    "- | - \n",
    "![loss](epoch-loss.png) | ![loss](epoch-accuracy.png) "
   ]
  },
  {
   "cell_type": "code",
   "execution_count": 36,
   "metadata": {},
   "outputs": [
    {
     "data": {
      "text/plain": [
       "<matplotlib.axes._subplots.AxesSubplot at 0x11fd4ed30>"
      ]
     },
     "execution_count": 36,
     "metadata": {},
     "output_type": "execute_result"
    },
    {
     "data": {
      "image/png": "[encoded data removed]",
      "text/plain": [
       "<Figure size 432x288 with 1 Axes>"
      ]
     },
     "metadata": {
      "needs_background": "light"
     },
     "output_type": "display_data"
    }
   ],
   "source": [
    "predictions.prediction.plot(kind='hist')"
   ]
  },
  {
   "cell_type": "code",
   "execution_count": 37,
   "metadata": {},
   "outputs": [],
   "source": [
    "symbols = top_stocks.symbol.unique()"
   ]
  },
  {
   "cell_type": "code",
   "execution_count": 39,
   "metadata": {},
   "outputs": [],
   "source": [
    "def backtest(forecasts, predictions, buy):\n",
    "    baseline = 100\n",
    "    model = 100\n",
    "    position = 100\n",
    "    trade = 100\n",
    "    buy_signal = False\n",
    "    for date, prediction in zip(forecasts.index, predictions):\n",
    "        if prediction > buy:\n",
    "            if buy_signal == False:\n",
    "                trade = 100\n",
    "                position = trade\n",
    "                model -= position\n",
    "                buy_signal = True\n",
    "        elif prediction <= buy:\n",
    "            if buy_signal == True:\n",
    "                model += position\n",
    "                buy_signal = False\n",
    "        if buy_signal == True:\n",
    "            position += position * forecasts[date]\n",
    "        baseline += baseline * forecasts[date]\n",
    "    if buy_signal == True:\n",
    "        model += position\n",
    "    return baseline, model"
   ]
  },
  {
   "cell_type": "code",
   "execution_count": 48,
   "metadata": {},
   "outputs": [
    {
     "data": {
      "application/vnd.jupyter.widget-view+json": {
       "model_id": "c5fcdb07545f49ed83d9eff8a9c2481b",
       "version_major": 2,
       "version_minor": 0
      },
      "text/plain": [
       "HBox(children=(FloatProgress(value=0.0, max=50.0), HTML(value='')))"
      ]
     },
     "metadata": {},
     "output_type": "display_data"
    },
    {
     "name": "stdout",
     "output_type": "stream",
     "text": [
      "AAL 56.680801879274355 100\n",
      "AAPL 80.62314033347202 117.71965389785206\n",
      "ABBV 82.78272200685849 98.31695158677957\n",
      "ABT 93.82428516378656 98.25874781068819\n",
      "AMAT 0 0\n",
      "AMD 91.99325893307109 104.18734535800793\n",
      "AMGN 93.21866183006665 122.5757058365004\n",
      "AMX 68.05556051461095 113.35551190787677\n",
      "AMZN 97.63299976172563 116.73299613818463\n",
      "ATVI 94.90014830036947 99.73560559709061\n",
      "AUY 73.86934781736177 93.58092058869853\n",
      "BABA 88.89942238922494 98.19587678618917\n",
      "BAC 0 0\n",
      "BB 66.1417312117709 100\n",
      "BBD 54.86211966093762 100\n",
      "BIDU 80.88101599759689 108.79217321218269\n",
      "BSM 0 0\n",
      "BSX 78.88685699749736 108.79124214537136\n",
      "C 56.975884610227 112.74855036621445\n",
      "CHK 68.1818212605705 100\n",
      "CMCSA 76.24646712115866 105.4135994479421\n",
      "CSCO 93.10178172406906 121.83476161843696\n",
      "CX 56.50887283882031 100\n",
      "CY 100.4291862006187 138.41124363455717\n",
      "DAL 50.61492984831564 85.63844504070221\n",
      "EBAY 80.03337435865666 91.24584283413755\n",
      "F 61.11111405455045 114.53869660854258\n",
      "FB 81.24618413763298 115.72823336431597\n",
      "FCX 60.09523755028135 100.64516069489633\n",
      "FIT 102.00308349808341 98.6132561028546\n",
      "FTAI 33.57664209985756 52.97320963544519\n",
      "GE 62.801069918789665 115.77929295821642\n",
      "GILD 96.16710964036713 92.68276656973624\n",
      "GM 61.298536543968076 90.33771343607252\n",
      "GOOGL 79.49824126357468 113.12427661898792\n",
      "GRPN 66.15384968074835 100\n",
      "HD 77.68548446820658 107.66451371461737\n",
      "HPE 74.32117663727342 112.83741383819428\n",
      "HPQ 67.88654958024372 109.424876240191\n",
      "IAA 63.25080428285045 95.30764366517487\n",
      "IBN 54.712969369480696 103.6031043033153\n",
      "INFY 75.09652961034577 94.76248688988221\n",
      "INTC 89.17153797866159 137.74074017937338\n",
      "ITUB 57.22299941401864 100\n",
      "JD 94.48037082734443 101.42681955008709\n",
      "JNPR 87.84277902449921 100.41797244648458\n",
      "JPM 69.42067391438238 132.1408618873707\n",
      "KO 0 0\n",
      "KTB 45.27145647620609 100\n",
      "LVS 69.17267490233597 105.01326378620124\n",
      "\n"
     ]
    },
    {
     "data": {
      "text/plain": [
       "(4600, 3414.831465633763, 4830.297476297374)"
      ]
     },
     "execution_count": 48,
     "metadata": {},
     "output_type": "execute_result"
    }
   ],
   "source": [
    "from tqdm.notebook import tqdm\n",
    "\n",
    "def calculate_profit(symbol, buy):\n",
    "    X = top_stocks[top_stocks.symbol == symbol].loc['2020-03':][COLUMNS]\n",
    "    if X.shape[0] == 0:\n",
    "        return 0, 0\n",
    "    X_scaled = scaler.transform(X)\n",
    "    predictions = best_model.predict(X_scaled)[:, 1]\n",
    "    forecasts = top_stocks[top_stocks.symbol == symbol].loc['2020-03':].forecast\n",
    "    \n",
    "    return backtest(forecasts, predictions, buy)\n",
    "\n",
    "baselines = []\n",
    "models = []\n",
    "\n",
    "num_symbols = 50\n",
    "\n",
    "for symbol in tqdm(symbols[:num_symbols]):\n",
    "    baseline, model = calculate_profit(symbol, .55)\n",
    "    print(symbol, baseline, model)\n",
    "    if baseline == 0:\n",
    "        num_symbols -= 1\n",
    "    baselines.append(baseline)\n",
    "    models.append(model)\n",
    "\n",
    "num_symbols * 100, sum(baselines), sum(models)"
   ]
  },
  {
   "cell_type": "markdown",
   "metadata": {},
   "source": [
    "### Conclusions\n",
    "\n",
    "- Neural networks are not only useful for image and audio recognition. They can also be a powerful tool for classification.\n",
    "- Simple models work well for simple data. Complexity should be added only when needed.\n",
    "- Beware of overfitting. Longer training time does not mean better accuracy on unseen data.\n",
    "- Utilize callbacks to save the best model, and to stop training early.\n",
    "- If you're stuck, it might be time to look at the dataset's features."
   ]
  }
 ],
 "metadata": {
  "kernelspec": {
   "display_name": "Python 3",
   "language": "python",
   "name": "python3"
  },
  "language_info": {
   "codemirror_mode": {
    "name": "ipython",
    "version": 3
   },
   "file_extension": ".py",
   "mimetype": "text/x-python",
   "name": "python",
   "nbconvert_exporter": "python",
   "pygments_lexer": "ipython3",
   "version": "3.7.3"
  }
 },
 "nbformat": 4,
 "nbformat_minor": 2
}
