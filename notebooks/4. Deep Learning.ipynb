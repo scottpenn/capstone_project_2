{
 "cells": [
  {
   "cell_type": "markdown",
   "metadata": {},
   "source": [
    "### Deep Learning\n",
    "\n",
    "Now that we have the features we want, we need to format the data in a way that can used easily in a neural network."
   ]
  },
  {
   "cell_type": "code",
   "execution_count": 1,
   "metadata": {},
   "outputs": [],
   "source": [
    "# Import pandas for reading in the data\n",
    "import pandas as pd\n",
    "import matplotlib.pyplot as plt\n",
    "import numpy as np\n",
    "import sys"
   ]
  },
  {
   "cell_type": "code",
   "execution_count": 2,
   "metadata": {},
   "outputs": [],
   "source": [
    "from sklearn.metrics import roc_curve, roc_auc_score\n",
    "from sklearn.metrics import accuracy_score, classification_report, f1_score"
   ]
  },
  {
   "cell_type": "markdown",
   "metadata": {},
   "source": [
    "The initial setup is the same as before. I make sure to remove any duplicate data as a precaution."
   ]
  },
  {
   "cell_type": "code",
   "execution_count": 3,
   "metadata": {},
   "outputs": [],
   "source": [
    "top_stocks = pd.read_hdf('../data/clean/computed_stocks.h5', key='top_stocks')\n",
    "\n",
    "top_stocks.reset_index(inplace=True)\n",
    "top_stocks.drop_duplicates(['symbol', 'date'], inplace=True)\n",
    "top_stocks.set_index('date', inplace=True)"
   ]
  },
  {
   "cell_type": "code",
   "execution_count": 4,
   "metadata": {},
   "outputs": [],
   "source": [
    "top_stocks.index = pd.to_datetime(top_stocks.index)"
   ]
  },
  {
   "cell_type": "markdown",
   "metadata": {},
   "source": [
    "When backtesting, you should withhold a portion of the data. In my case, I'll be saving the 2008, 2011, and 2013 data for later. Once you are satisfied with your results, you can use the entire dataset for the final model used on new data."
   ]
  },
  {
   "cell_type": "code",
   "execution_count": 5,
   "metadata": {},
   "outputs": [],
   "source": [
    "# top_stocks = pd.concat([top_stocks['2007'],\n",
    "#                         top_stocks['2009':'2010'],\n",
    "#                         top_stocks['2012'],\n",
    "#                         top_stocks['2014':]])"
   ]
  },
  {
   "cell_type": "markdown",
   "metadata": {},
   "source": [
    "The feature columns were saved in the previous step, and need to be imported. When using the market features, remove the final line that filters the market features from the solumn set."
   ]
  },
  {
   "cell_type": "code",
   "execution_count": 6,
   "metadata": {},
   "outputs": [],
   "source": [
    "import json\n",
    "COLUMNS = []\n",
    "\n",
    "with open('../models/columns.json') as column_file:\n",
    "    COLUMNS = json.load(column_file)\n",
    "    COLUMNS = list(filter(lambda x: 'market' not in x, COLUMNS))"
   ]
  },
  {
   "cell_type": "markdown",
   "metadata": {},
   "source": [
    "The columns make up the feature set, and the buy signal is the target variable. You can create a regression model by using the stock forecast as your target variable, but I have found that classifcation produces better results. The model will simply predict whether the stock will go up or down, and not by how much. "
   ]
  },
  {
   "cell_type": "code",
   "execution_count": 7,
   "metadata": {},
   "outputs": [],
   "source": [
    "from sklearn.model_selection import train_test_split\n",
    "from sklearn.preprocessing import MinMaxScaler, QuantileTransformer\n",
    "from imblearn.under_sampling import RandomUnderSampler\n",
    "\n",
    "X = top_stocks[COLUMNS]\n",
    "y = top_stocks[['buy_signal']]"
   ]
  },
  {
   "cell_type": "markdown",
   "metadata": {},
   "source": [
    "The train_test_split function conveniently separates our data into training and testing sets. If you want repeatable results, you should set the random seed here."
   ]
  },
  {
   "cell_type": "code",
   "execution_count": 8,
   "metadata": {},
   "outputs": [],
   "source": [
    "X_train, X_test, y_train, y_test = train_test_split(X, y, test_size=0.2)"
   ]
  },
  {
   "cell_type": "markdown",
   "metadata": {},
   "source": [
    "When the two target classes are unbalanced, a model will over-predict the majority class. In the case of stock data, the forecast is more likely to be positive than negative.\n",
    "\n",
    "To counteract this, there are two options. You can over-sample the data and copy random instances of the minority class until the dataset is balanced. You can also under-sample, picking out balanced data from the existing datapoints. Under-sampling is significantly faster for large datasets, and is the solution I ultimately used."
   ]
  },
  {
   "cell_type": "code",
   "execution_count": 9,
   "metadata": {},
   "outputs": [],
   "source": [
    "sm = RandomUnderSampler()\n",
    "X_train, y_train = sm.fit_resample(X_train, y_train)"
   ]
  },
  {
   "cell_type": "markdown",
   "metadata": {},
   "source": [
    "The data must first be scaled to improve accuracy. The test data is not scaled independently, but according to the fit of the train data. Because many of the features have significant outliers, the StandardScaler and MinMaxScaler are not appropriate for this dataset. Scikit-learn provides a QuantileTransformer that accounts for these outliers, ignoring them when scaling the data. Any outliers are then placed at the minimum or maximum values. Changing the scaler accounted for one of the most significant improvements in my final model."
   ]
  },
  {
   "cell_type": "code",
   "execution_count": 10,
   "metadata": {},
   "outputs": [],
   "source": [
    "from pickle import dump\n",
    "from sklearn.preprocessing import MinMaxScaler, QuantileTransformer\n",
    "\n",
    "scaler = QuantileTransformer(output_distribution='normal')\n",
    "X_train_scaled = scaler.fit_transform(X_train)\n",
    "X_test_scaled = scaler.transform(X_test)\n",
    "\n",
    "dump(scaler, open('../models/scaler.pkl', 'wb'))"
   ]
  },
  {
   "cell_type": "markdown",
   "metadata": {},
   "source": [
    "To create the neural network model, I will use the Keras library, which is built upon TensorFlow. Keras requires that the result column is in a categorical format, but it provides the function \"to_categorical\" for this purpose."
   ]
  },
  {
   "cell_type": "code",
   "execution_count": 11,
   "metadata": {},
   "outputs": [],
   "source": [
    "from keras.utils import to_categorical\n",
    "\n",
    "y_train_cat = to_categorical(y_train) \n",
    "y_test_cat = to_categorical(y_test)"
   ]
  },
  {
   "cell_type": "markdown",
   "metadata": {},
   "source": [
    "To build the neural network, I used a sequential model with just multiple hidden layers containing successively fewer nodes. I tested many different configurations, but adding layers and nodes did not improve the final test accuracy score. The Rectified Linear Unit or \"RELU\" activation function performs better than sigmoid activation functions like \"tanh\". The output layer must have 2 nodes, representing a positive forecast or a negative forecast. The \"softmax\" activation function is also necessary for binary classification, as it converts the outputs to probabilities and ensures that they add up to 1."
   ]
  },
  {
   "cell_type": "code",
   "execution_count": 12,
   "metadata": {},
   "outputs": [],
   "source": [
    "from keras.models import Sequential\n",
    "from keras.layers import Dense, Activation, Dropout\n",
    "\n",
    "model = Sequential()\n",
    "\n",
    "model.add(Dense(200, activation='relu', input_dim=X_train_scaled.shape[1]))\n",
    "model.add(Dense(100, activation='relu'))\n",
    "model.add(Dense(50, activation='relu'))\n",
    "model.add(Dense(2, activation='softmax'))"
   ]
  },
  {
   "cell_type": "markdown",
   "metadata": {},
   "source": [
    "The model was compiled with the \"adam\" optimizer. I also chose the \"categorical_crossentropy\" loss function, a good default for classification. "
   ]
  },
  {
   "cell_type": "code",
   "execution_count": 13,
   "metadata": {},
   "outputs": [],
   "source": [
    "from keras.metrics import Accuracy, AUC\n",
    "from keras.optimizers import Adam\n",
    "\n",
    "model.compile(optimizer='adam', loss='binary_crossentropy', metrics=['accuracy', 'AUC'])"
   ]
  },
  {
   "cell_type": "markdown",
   "metadata": {},
   "source": [
    "When fitting the model, I used two callbacks provided by Keras. The EarlyStopping callback stops when the validation loss function does not improve after five epochs. The ModelCheckpoint callback saves the model with the best validation accuracy score. I experimented with splitting the training data to create an additional validation set, but setting the test data as the validation set optimizes for test set accuracy."
   ]
  },
  {
   "cell_type": "code",
   "execution_count": 14,
   "metadata": {
    "scrolled": false
   },
   "outputs": [
    {
     "name": "stdout",
     "output_type": "stream",
     "text": [
      "Epoch 1/20\n",
      "2186/2186 [==============================] - 7s 3ms/step - loss: 0.6918 - accuracy: 0.5186 - auc: 0.5281 - val_loss: 0.6897 - val_accuracy: 0.5353 - val_auc: 0.5464\n",
      "Epoch 2/20\n",
      "2186/2186 [==============================] - 7s 3ms/step - loss: 0.6892 - accuracy: 0.5276 - auc: 0.5423 - val_loss: 0.6870 - val_accuracy: 0.5428 - val_auc: 0.5602\n",
      "Epoch 3/20\n",
      "2186/2186 [==============================] - 7s 3ms/step - loss: 0.6872 - accuracy: 0.5336 - auc: 0.5512 - val_loss: 0.6879 - val_accuracy: 0.5305 - val_auc: 0.5482\n",
      "Epoch 4/20\n",
      "2186/2186 [==============================] - 7s 3ms/step - loss: 0.6852 - accuracy: 0.5383 - auc: 0.5587 - val_loss: 0.6846 - val_accuracy: 0.5465 - val_auc: 0.5666\n",
      "Epoch 5/20\n",
      "2186/2186 [==============================] - 7s 3ms/step - loss: 0.6833 - accuracy: 0.5421 - auc: 0.5649 - val_loss: 0.6846 - val_accuracy: 0.5404 - val_auc: 0.5612\n",
      "Epoch 6/20\n",
      "2186/2186 [==============================] - 7s 3ms/step - loss: 0.6814 - accuracy: 0.5454 - auc: 0.5709 - val_loss: 0.6818 - val_accuracy: 0.5494 - val_auc: 0.5730\n",
      "Epoch 7/20\n",
      "2186/2186 [==============================] - 7s 3ms/step - loss: 0.6800 - accuracy: 0.5485 - auc: 0.5752 - val_loss: 0.6820 - val_accuracy: 0.5459 - val_auc: 0.5702\n",
      "Epoch 8/20\n",
      "2186/2186 [==============================] - 7s 3ms/step - loss: 0.6785 - accuracy: 0.5513 - auc: 0.5794 - val_loss: 0.6823 - val_accuracy: 0.5438 - val_auc: 0.5669\n",
      "Epoch 9/20\n",
      "2186/2186 [==============================] - 7s 3ms/step - loss: 0.6772 - accuracy: 0.5535 - auc: 0.5830 - val_loss: 0.6794 - val_accuracy: 0.5567 - val_auc: 0.5829\n",
      "Epoch 10/20\n",
      "2186/2186 [==============================] - 7s 3ms/step - loss: 0.6759 - accuracy: 0.5555 - auc: 0.5861 - val_loss: 0.6791 - val_accuracy: 0.5566 - val_auc: 0.5829\n",
      "Epoch 11/20\n",
      "2186/2186 [==============================] - 7s 3ms/step - loss: 0.6748 - accuracy: 0.5572 - auc: 0.5894 - val_loss: 0.6790 - val_accuracy: 0.5558 - val_auc: 0.5822\n",
      "Epoch 12/20\n",
      "2186/2186 [==============================] - 7s 3ms/step - loss: 0.6738 - accuracy: 0.5587 - auc: 0.5919 - val_loss: 0.6786 - val_accuracy: 0.5555 - val_auc: 0.5838\n",
      "Epoch 13/20\n",
      "2186/2186 [==============================] - 7s 3ms/step - loss: 0.6728 - accuracy: 0.5609 - auc: 0.5945 - val_loss: 0.6783 - val_accuracy: 0.5562 - val_auc: 0.5842\n",
      "Epoch 14/20\n",
      "2186/2186 [==============================] - 7s 3ms/step - loss: 0.6719 - accuracy: 0.5616 - auc: 0.5964 - val_loss: 0.6799 - val_accuracy: 0.5539 - val_auc: 0.5799\n",
      "Epoch 15/20\n",
      "2186/2186 [==============================] - 7s 3ms/step - loss: 0.6712 - accuracy: 0.5629 - auc: 0.5982 - val_loss: 0.6799 - val_accuracy: 0.5544 - val_auc: 0.5806\n",
      "Epoch 16/20\n",
      "2186/2186 [==============================] - 7s 3ms/step - loss: 0.6702 - accuracy: 0.5647 - auc: 0.6006 - val_loss: 0.6774 - val_accuracy: 0.5605 - val_auc: 0.5898\n",
      "Epoch 17/20\n",
      "2186/2186 [==============================] - 7s 3ms/step - loss: 0.6696 - accuracy: 0.5657 - auc: 0.6022 - val_loss: 0.6796 - val_accuracy: 0.5567 - val_auc: 0.5837\n",
      "Epoch 18/20\n",
      "2186/2186 [==============================] - 7s 3ms/step - loss: 0.6688 - accuracy: 0.5669 - auc: 0.6040 - val_loss: 0.6784 - val_accuracy: 0.5561 - val_auc: 0.5848\n",
      "Epoch 19/20\n",
      "2186/2186 [==============================] - 7s 3ms/step - loss: 0.6682 - accuracy: 0.5682 - auc: 0.6058 - val_loss: 0.6780 - val_accuracy: 0.5581 - val_auc: 0.5874\n",
      "Epoch 20/20\n",
      "2186/2186 [==============================] - 7s 3ms/step - loss: 0.6674 - accuracy: 0.5689 - auc: 0.6076 - val_loss: 0.6794 - val_accuracy: 0.5540 - val_auc: 0.5830\n"
     ]
    }
   ],
   "source": [
    "from keras.callbacks import EarlyStopping\n",
    "from keras.callbacks import ModelCheckpoint\n",
    "\n",
    "es = EarlyStopping(monitor='val_loss', patience=5)\n",
    "mc = ModelCheckpoint('../models/model.h5', monitor='val_loss', save_best_only=True)\n",
    "\n",
    "history = model.fit(X_train_scaled, y_train_cat, \n",
    "          epochs=20, \n",
    "          callbacks= [es, mc], \n",
    "          batch_size=512,\n",
    "          validation_data=(X_test_scaled, y_test_cat), \n",
    "          shuffle=True)"
   ]
  },
  {
   "cell_type": "markdown",
   "metadata": {},
   "source": [
    "An evaluation of the best model shows a test accuracy of ~56%. This might seem low, but for a subject with as little rhyme or reason as the stock market, this result is a success in my book. I'll be looking more at how to maximize this model's success in the Backtesting notebook."
   ]
  },
  {
   "cell_type": "code",
   "execution_count": 17,
   "metadata": {
    "scrolled": true
   },
   "outputs": [
    {
     "name": "stdout",
     "output_type": "stream",
     "text": [
      "34963/34963 [==============================] - 23s 661us/step - loss: 0.6691 - accuracy: 0.5671 - auc_2: 0.6044\n",
      "9496/9496 [==============================] - 6s 669us/step - loss: 0.6774 - accuracy: 0.5605 - auc_2: 0.5898\n",
      "0.6691067814826965 0.6774027347564697\n",
      "0.5670921802520752 0.5604712963104248\n",
      "0.6044074296951294 0.5897751450538635\n"
     ]
    }
   ],
   "source": [
    "from keras.models import load_model\n",
    "\n",
    "best_model = load_model('../models/model.h5')\n",
    "train_loss, train_accuracy, train_auc = best_model.evaluate(X_train_scaled, y_train_cat)\n",
    "test_loss, test_accuracy, test_auc = best_model.evaluate(X_test_scaled, y_test_cat)\n",
    "print(train_loss, test_loss)\n",
    "print(train_accuracy, test_accuracy)\n",
    "print(train_auc, test_auc)"
   ]
  },
  {
   "cell_type": "markdown",
   "metadata": {},
   "source": [
    "When you call predict on the best model, it gives you not just the class prediction, but also the probability for that prediction. We can use this in a few interesting ways, using the test data."
   ]
  },
  {
   "cell_type": "code",
   "execution_count": 18,
   "metadata": {},
   "outputs": [],
   "source": [
    "predictions = pd.DataFrame(zip(best_model.predict(X_test_scaled)[:, 1], y_test_cat[:, 1]),\n",
    "                           columns=['prediction', 'signal'])"
   ]
  },
  {
   "cell_type": "markdown",
   "metadata": {},
   "source": [
    "First I'll mark whether each prediction was correct or not."
   ]
  },
  {
   "cell_type": "code",
   "execution_count": 19,
   "metadata": {},
   "outputs": [],
   "source": [
    "predictions['prediction_correct'] = ((predictions.prediction >= 0.5) & (predictions.signal == 1)) | \\\n",
    "                                    ((predictions.prediction < 0.5) & (predictions.signal == 0))"
   ]
  },
  {
   "cell_type": "markdown",
   "metadata": {},
   "source": [
    "As the probability of the model's prediction goes up, so does its success rate. That's perfect! We can just buy stocks with a 99% probability to maximize profit!"
   ]
  },
  {
   "cell_type": "code",
   "execution_count": 20,
   "metadata": {
    "scrolled": true
   },
   "outputs": [
    {
     "data": {
      "image/png": "[encoded data removed]",
      "text/plain": [
       "<Figure size 432x288 with 1 Axes>"
      ]
     },
     "metadata": {
      "needs_background": "light"
     },
     "output_type": "display_data"
    }
   ],
   "source": [
    "def buy_signal_curve():\n",
    "    curve = []\n",
    "    odds = np.arange(.5, 1.0, .01)\n",
    "    for o in odds:\n",
    "        total = len(predictions[predictions.prediction > o])\n",
    "        correct = len(predictions[(predictions.prediction > o) & (predictions.prediction_correct == True)])\n",
    "        if total == 0:\n",
    "            curve.append(1)\n",
    "        else:\n",
    "            curve.append(correct / total)\n",
    "    plt.plot(odds, curve)\n",
    "    plt.title('Prediction success rate at different model probablities.')\n",
    "    plt.xlabel('Probability')\n",
    "    plt.ylabel('% Correct')\n",
    "    \n",
    "buy_signal_curve()"
   ]
  },
  {
   "cell_type": "markdown",
   "metadata": {},
   "source": [
    "Not so fast. If you plot the number of test predictions by success rate, the number of predictions beyond 50% confidence drops dramatically. "
   ]
  },
  {
   "cell_type": "code",
   "execution_count": 28,
   "metadata": {},
   "outputs": [
    {
     "data": {
      "image/png": "[encoded data removed]",
      "text/plain": [
       "<Figure size 432x288 with 1 Axes>"
      ]
     },
     "metadata": {
      "needs_background": "light"
     },
     "output_type": "display_data"
    }
   ],
   "source": [
    "def buy_signal_curve_2():\n",
    "    curve = []\n",
    "    odds = np.arange(.5, 1.0, .01)\n",
    "    for o in odds:\n",
    "        total = len(predictions[predictions.prediction > o])\n",
    "        correct = len(predictions[(predictions.prediction > o) & (predictions.signal == 1)])\n",
    "        if total == 0:\n",
    "            curve.append(1)\n",
    "        else:\n",
    "            curve.append(total)\n",
    "    plt.plot(odds, curve)\n",
    "    plt.title('Number of observations for predictions above 0.5 probability')\n",
    "    plt.xlabel('Probability')\n",
    "    plt.ylabel('Count')\n",
    "    \n",
    "buy_signal_curve_2()"
   ]
  },
  {
   "cell_type": "markdown",
   "metadata": {},
   "source": [
    "A histogram of probability counts shows how narrow the distribution actually is."
   ]
  },
  {
   "cell_type": "code",
   "execution_count": 34,
   "metadata": {
    "scrolled": true
   },
   "outputs": [
    {
     "data": {
      "image/png": "[encoded data removed]",
      "text/plain": [
       "<Figure size 432x288 with 1 Axes>"
      ]
     },
     "metadata": {
      "needs_background": "light"
     },
     "output_type": "display_data"
    }
   ],
   "source": [
    "_ = plt.hist(predictions.prediction, bins=20)"
   ]
  },
  {
   "cell_type": "markdown",
   "metadata": {},
   "source": [
    "Finally, I plot various model metrics, such as the ROC AUC. Both the AUC score and the F1 score beat the base XGBoost model."
   ]
  },
  {
   "cell_type": "code",
   "execution_count": 25,
   "metadata": {},
   "outputs": [],
   "source": [
    "def plot_classifier(model, X_train, y_train, X_test, y_test):    \n",
    "    \n",
    "    y_pred_train = model.predict(X_train)[:, 1]\n",
    "    fpr_train, tpr_train, _ = roc_curve(y_train, y_pred_train)\n",
    "    \n",
    "    y_pred_test = model.predict(X_test)[:, 1]\n",
    "    fpr, tpr, _ = roc_curve(y_test, y_pred_test)\n",
    "    \n",
    "    plt.plot([0, 1], [0, 1], 'k--', label='Coin Flip')\n",
    "    plt.plot(fpr_train, tpr_train, label='Training Data')\n",
    "    plt.plot(fpr, tpr, label='Testing Data')\n",
    "    plt.xlabel('False positive rate')\n",
    "    plt.ylabel('True positive rate')\n",
    "    plt.title('ROC curve')\n",
    "    plt.legend(loc='upper left')\n",
    "    plt.show()\n",
    "     \n",
    "    print(f'Train AUC: {roc_auc_score(y_train, y_pred_train)}, Train F1 Score: {f1_score(y_train, y_pred_train.round())}')\n",
    "    print(f'Test AUC: {roc_auc_score(y_test, y_pred_test)}, Test F1 Score: {f1_score(y_test, y_pred_test.round())}')\n",
    "    print(f'Test Accuracy: {accuracy_score(y_test, y_pred_test.round())}')"
   ]
  },
  {
   "cell_type": "code",
   "execution_count": 26,
   "metadata": {},
   "outputs": [
    {
     "data": {
      "image/png": "[encoded data removed]",
      "text/plain": [
       "<Figure size 432x288 with 1 Axes>"
      ]
     },
     "metadata": {
      "needs_background": "light"
     },
     "output_type": "display_data"
    },
    {
     "name": "stdout",
     "output_type": "stream",
     "text": [
      "Train AUC: 0.60575124329126, Train F1 Score: 0.6114704454935244\n",
      "Test AUC: 0.5805015516055859, Test F1 Score: 0.6208455054664588\n",
      "Test Accuracy: 0.5604712774185056\n"
     ]
    }
   ],
   "source": [
    "plot_classifier(best_model, X_train_scaled, y_train, X_test_scaled, y_test)"
   ]
  }
 ],
 "metadata": {
  "kernelspec": {
   "display_name": "Python 3",
   "language": "python",
   "name": "python3"
  },
  "language_info": {
   "codemirror_mode": {
    "name": "ipython",
    "version": 3
   },
   "file_extension": ".py",
   "mimetype": "text/x-python",
   "name": "python",
   "nbconvert_exporter": "python",
   "pygments_lexer": "ipython3",
   "version": "3.7.6"
  }
 },
 "nbformat": 4,
 "nbformat_minor": 2
}
