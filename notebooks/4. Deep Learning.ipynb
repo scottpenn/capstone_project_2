{
 "cells": [
  {
   "cell_type": "markdown",
   "metadata": {},
   "source": [
    "### Deep Learning\n",
    "\n",
    "Now that we have the features we want, we need to format the data in a way that can used easily in a neural network."
   ]
  },
  {
   "cell_type": "code",
   "execution_count": 1,
   "metadata": {},
   "outputs": [],
   "source": [
    "# Import pandas for reading in the data\n",
    "import pandas as pd\n",
    "import matplotlib.pyplot as plt\n",
    "import numpy as np\n",
    "import sys"
   ]
  },
  {
   "cell_type": "code",
   "execution_count": 2,
   "metadata": {},
   "outputs": [],
   "source": [
    "from sklearn.metrics import roc_curve, roc_auc_score\n",
    "from sklearn.metrics import accuracy_score, classification_report, f1_score"
   ]
  },
  {
   "cell_type": "markdown",
   "metadata": {},
   "source": [
    "The initial setup is the same as before. I make sure to remove any duplicate data as a precaution."
   ]
  },
  {
   "cell_type": "code",
   "execution_count": 3,
   "metadata": {},
   "outputs": [],
   "source": [
    "top_stocks = pd.read_hdf('../data/clean/computed_stocks.h5', key='top_stocks')\n",
    "\n",
    "top_stocks.reset_index(inplace=True)\n",
    "top_stocks.drop_duplicates(['symbol', 'date'], inplace=True)\n",
    "top_stocks.set_index('date', inplace=True)"
   ]
  },
  {
   "cell_type": "code",
   "execution_count": 4,
   "metadata": {},
   "outputs": [],
   "source": [
    "top_stocks.index = pd.to_datetime(top_stocks.index)"
   ]
  },
  {
   "cell_type": "markdown",
   "metadata": {},
   "source": [
    "When backtesting, you should withhold a portion of the data. In my case, I'll be saving the 2008, 2011, and 2013 data for later. Once you are satisfied with your results, you can use the entire dataset for the final model used on new data."
   ]
  },
  {
   "cell_type": "code",
   "execution_count": 5,
   "metadata": {},
   "outputs": [],
   "source": [
    "# top_stocks = pd.concat([top_stocks['2007'],\n",
    "#                         top_stocks['2009':'2010'],\n",
    "#                         top_stocks['2012'],\n",
    "#                         top_stocks['2014':]])"
   ]
  },
  {
   "cell_type": "markdown",
   "metadata": {},
   "source": [
    "The feature columns were saved in the previous step, and need to be imported. When using the market features, remove the final line that filters the market features from the solumn set."
   ]
  },
  {
   "cell_type": "code",
   "execution_count": 6,
   "metadata": {},
   "outputs": [],
   "source": [
    "import json\n",
    "COLUMNS = []\n",
    "\n",
    "with open('../models/columns.json') as column_file:\n",
    "    COLUMNS = json.load(column_file)\n",
    "#     COLUMNS = list(filter(lambda x: 'market' not in x, COLUMNS))"
   ]
  },
  {
   "cell_type": "markdown",
   "metadata": {},
   "source": [
    "The columns make up the feature set, and the buy signal is the target variable. You can create a regression model by using the stock forecast as your target variable, but I have found that classifcation produces better results. The model will simply predict whether the stock will go up or down, and not by how much. "
   ]
  },
  {
   "cell_type": "code",
   "execution_count": 7,
   "metadata": {},
   "outputs": [],
   "source": [
    "from sklearn.model_selection import train_test_split\n",
    "from sklearn.preprocessing import MinMaxScaler, QuantileTransformer\n",
    "from imblearn.under_sampling import RandomUnderSampler\n",
    "\n",
    "X = top_stocks[COLUMNS]\n",
    "y = top_stocks[['buy_signal']]"
   ]
  },
  {
   "cell_type": "markdown",
   "metadata": {},
   "source": [
    "The train_test_split function conveniently separates our data into training and testing sets. If you want repeatable results, you should set the random seed here."
   ]
  },
  {
   "cell_type": "code",
   "execution_count": 8,
   "metadata": {},
   "outputs": [],
   "source": [
    "X_train, X_test, y_train, y_test = train_test_split(X, y, test_size=0.2)"
   ]
  },
  {
   "cell_type": "markdown",
   "metadata": {},
   "source": [
    "When the two target classes are unbalanced, a model will over-predict the majority class. In the case of stock data, the forecast is more likely to be positive than negative.\n",
    "\n",
    "To counteract this, there are two options. You can over-sample the data and copy random instances of the minority class until the dataset is balanced. You can also under-sample, picking out balanced data from the existing datapoints. Under-sampling is significantly faster for large datasets, and is the solution I ultimately used."
   ]
  },
  {
   "cell_type": "code",
   "execution_count": 9,
   "metadata": {},
   "outputs": [],
   "source": [
    "sm = RandomUnderSampler()\n",
    "X_train, y_train = sm.fit_resample(X_train, y_train)"
   ]
  },
  {
   "cell_type": "markdown",
   "metadata": {},
   "source": [
    "The data must first be scaled to improve accuracy. The test data is not scaled independently, but according to the fit of the train data. Because many of the features have significant outliers, the StandardScaler and MinMaxScaler are not appropriate for this dataset. Scikit-learn provides a QuantileTransformer that accounts for these outliers, ignoring them when scaling the data. Any outliers are then placed at the minimum or maximum values. Changing the scaler accounted for one of the most significant improvements in my final model."
   ]
  },
  {
   "cell_type": "code",
   "execution_count": 10,
   "metadata": {},
   "outputs": [],
   "source": [
    "from pickle import dump\n",
    "from sklearn.preprocessing import MinMaxScaler, QuantileTransformer\n",
    "\n",
    "scaler = QuantileTransformer(output_distribution='normal')\n",
    "X_train_scaled = scaler.fit_transform(X_train)\n",
    "X_test_scaled = scaler.transform(X_test)\n",
    "\n",
    "dump(scaler, open('../models/scaler_market.pkl', 'wb'))"
   ]
  },
  {
   "cell_type": "markdown",
   "metadata": {},
   "source": [
    "To create the neural network model, I will use the Keras library, which is built upon TensorFlow. Keras requires that the result column is in a categorical format, but it provides the function \"to_categorical\" for this purpose."
   ]
  },
  {
   "cell_type": "code",
   "execution_count": 11,
   "metadata": {},
   "outputs": [],
   "source": [
    "from keras.utils import to_categorical\n",
    "\n",
    "y_train_cat = to_categorical(y_train) \n",
    "y_test_cat = to_categorical(y_test)"
   ]
  },
  {
   "cell_type": "markdown",
   "metadata": {},
   "source": [
    "To build the neural network, I used a sequential model with just multiple hidden layers containing successively fewer nodes. I tested many different configurations, but adding layers and nodes did not improve the final test accuracy score. The Rectified Linear Unit or \"RELU\" activation function performs better than sigmoid activation functions like \"tanh\". The output layer must have 2 nodes, representing a positive forecast or a negative forecast. The \"softmax\" activation function is also necessary for binary classification, as it converts the outputs to probabilities and ensures that they add up to 1."
   ]
  },
  {
   "cell_type": "code",
   "execution_count": 12,
   "metadata": {},
   "outputs": [],
   "source": [
    "from keras.models import Sequential\n",
    "from keras.layers import Dense, Activation, Dropout\n",
    "\n",
    "model = Sequential()\n",
    "\n",
    "model.add(Dense(200, activation='relu', input_dim=X_train_scaled.shape[1]))\n",
    "model.add(Dense(100, activation='relu'))\n",
    "model.add(Dense(50, activation='relu'))\n",
    "model.add(Dense(2, activation='softmax'))"
   ]
  },
  {
   "cell_type": "markdown",
   "metadata": {},
   "source": [
    "The model was compiled with the \"adam\" optimizer. I also chose the \"categorical_crossentropy\" loss function, a good default for classification. "
   ]
  },
  {
   "cell_type": "code",
   "execution_count": 13,
   "metadata": {},
   "outputs": [],
   "source": [
    "from keras.metrics import Accuracy, AUC\n",
    "from keras.optimizers import Adam\n",
    "\n",
    "model.compile(optimizer='adam', loss='binary_crossentropy', metrics=['accuracy', 'AUC'])"
   ]
  },
  {
   "cell_type": "markdown",
   "metadata": {},
   "source": [
    "When fitting the model, I used two callbacks provided by Keras. The EarlyStopping callback stops when the validation loss function does not improve after five epochs. The ModelCheckpoint callback saves the model with the best validation accuracy score. I experimented with splitting the training data to create an additional validation set, but setting the test data as the validation set optimizes for test set accuracy."
   ]
  },
  {
   "cell_type": "code",
   "execution_count": 14,
   "metadata": {
    "scrolled": false
   },
   "outputs": [
    {
     "name": "stdout",
     "output_type": "stream",
     "text": [
      "Epoch 1/20\n",
      "2186/2186 [==============================] - 7s 3ms/step - loss: 0.6443 - accuracy: 0.6114 - auc: 0.6663 - val_loss: 0.6018 - val_accuracy: 0.6689 - val_auc: 0.7360\n",
      "Epoch 2/20\n",
      "2186/2186 [==============================] - 8s 4ms/step - loss: 0.5887 - accuracy: 0.6815 - auc: 0.7510 - val_loss: 0.5765 - val_accuracy: 0.6933 - val_auc: 0.7650\n",
      "Epoch 3/20\n",
      "2186/2186 [==============================] - 8s 4ms/step - loss: 0.5728 - accuracy: 0.6960 - auc: 0.7687 - val_loss: 0.5671 - val_accuracy: 0.7006 - val_auc: 0.7749\n",
      "Epoch 4/20\n",
      "2186/2186 [==============================] - 8s 3ms/step - loss: 0.5660 - accuracy: 0.7014 - auc: 0.7756 - val_loss: 0.5652 - val_accuracy: 0.7023 - val_auc: 0.7765\n",
      "Epoch 5/20\n",
      "2186/2186 [==============================] - 7s 3ms/step - loss: 0.5617 - accuracy: 0.7048 - auc: 0.7799 - val_loss: 0.5649 - val_accuracy: 0.7032 - val_auc: 0.7773\n",
      "Epoch 6/20\n",
      "2186/2186 [==============================] - 7s 3ms/step - loss: 0.5582 - accuracy: 0.7069 - auc: 0.7832 - val_loss: 0.5657 - val_accuracy: 0.7036 - val_auc: 0.7764\n",
      "Epoch 7/20\n",
      "2186/2186 [==============================] - 7s 3ms/step - loss: 0.5556 - accuracy: 0.7092 - auc: 0.7856 - val_loss: 0.5604 - val_accuracy: 0.7051 - val_auc: 0.7811\n",
      "Epoch 8/20\n",
      "2186/2186 [==============================] - 7s 3ms/step - loss: 0.5532 - accuracy: 0.7109 - auc: 0.7879 - val_loss: 0.5578 - val_accuracy: 0.7091 - val_auc: 0.7842\n",
      "Epoch 9/20\n",
      "2186/2186 [==============================] - 8s 4ms/step - loss: 0.5515 - accuracy: 0.7126 - auc: 0.7896 - val_loss: 0.5563 - val_accuracy: 0.7104 - val_auc: 0.7855\n",
      "Epoch 10/20\n",
      "2186/2186 [==============================] - 8s 4ms/step - loss: 0.5497 - accuracy: 0.7133 - auc: 0.7911 - val_loss: 0.5547 - val_accuracy: 0.7109 - val_auc: 0.7870\n",
      "Epoch 11/20\n",
      "2186/2186 [==============================] - 7s 3ms/step - loss: 0.5481 - accuracy: 0.7145 - auc: 0.7927 - val_loss: 0.5549 - val_accuracy: 0.7106 - val_auc: 0.7868\n",
      "Epoch 12/20\n",
      "2186/2186 [==============================] - 8s 4ms/step - loss: 0.5467 - accuracy: 0.7158 - auc: 0.7940 - val_loss: 0.5588 - val_accuracy: 0.7072 - val_auc: 0.7828\n",
      "Epoch 13/20\n",
      "2186/2186 [==============================] - 8s 3ms/step - loss: 0.5454 - accuracy: 0.7171 - auc: 0.7952 - val_loss: 0.5537 - val_accuracy: 0.7114 - val_auc: 0.7882\n",
      "Epoch 14/20\n",
      "2186/2186 [==============================] - 8s 4ms/step - loss: 0.5438 - accuracy: 0.7180 - auc: 0.7967 - val_loss: 0.5544 - val_accuracy: 0.7115 - val_auc: 0.7874\n",
      "Epoch 15/20\n",
      "2186/2186 [==============================] - 12s 5ms/step - loss: 0.5428 - accuracy: 0.7190 - auc: 0.7976 - val_loss: 0.5575 - val_accuracy: 0.7085 - val_auc: 0.7843\n",
      "Epoch 16/20\n",
      "2186/2186 [==============================] - 10s 4ms/step - loss: 0.5419 - accuracy: 0.7198 - auc: 0.7985 - val_loss: 0.5512 - val_accuracy: 0.7139 - val_auc: 0.7906\n",
      "Epoch 17/20\n",
      "2186/2186 [==============================] - 8s 4ms/step - loss: 0.5410 - accuracy: 0.7206 - auc: 0.7993 - val_loss: 0.5537 - val_accuracy: 0.7120 - val_auc: 0.7881\n",
      "Epoch 18/20\n",
      "2186/2186 [==============================] - 8s 4ms/step - loss: 0.5401 - accuracy: 0.7213 - auc: 0.8000 - val_loss: 0.5565 - val_accuracy: 0.7097 - val_auc: 0.7857\n",
      "Epoch 19/20\n",
      "2186/2186 [==============================] - 9s 4ms/step - loss: 0.5390 - accuracy: 0.7217 - auc: 0.8010 - val_loss: 0.5539 - val_accuracy: 0.7124 - val_auc: 0.7888\n",
      "Epoch 20/20\n",
      "2186/2186 [==============================] - 9s 4ms/step - loss: 0.5383 - accuracy: 0.7221 - auc: 0.8017 - val_loss: 0.5504 - val_accuracy: 0.7149 - val_auc: 0.7916\n"
     ]
    }
   ],
   "source": [
    "from keras.callbacks import EarlyStopping\n",
    "from keras.callbacks import ModelCheckpoint\n",
    "\n",
    "es = EarlyStopping(monitor='val_loss', patience=5)\n",
    "mc = ModelCheckpoint('../models/model_market.h5', monitor='val_loss', save_best_only=True)\n",
    "\n",
    "history = model.fit(X_train_scaled, y_train_cat, \n",
    "          epochs=20, \n",
    "          callbacks= [es, mc], \n",
    "          batch_size=512,\n",
    "          validation_data=(X_test_scaled, y_test_cat), \n",
    "          shuffle=True)"
   ]
  },
  {
   "cell_type": "markdown",
   "metadata": {},
   "source": [
    "An evaluation of the best model shows a test accuracy of ~56%. This might seem low, but for a subject with as little rhyme or reason as the stock market, this result is a success in my book. I'll be looking more at how to maximize this model's success in the Backtesting notebook."
   ]
  },
  {
   "cell_type": "code",
   "execution_count": 15,
   "metadata": {
    "scrolled": true
   },
   "outputs": [
    {
     "name": "stdout",
     "output_type": "stream",
     "text": [
      "34968/34968 [==============================] - 25s 724us/step - loss: 0.5329 - accuracy: 0.7263 - auc: 0.8065\n",
      "9496/9496 [==============================] - 7s 721us/step - loss: 0.5504 - accuracy: 0.7149 - auc: 0.7916\n",
      "0.5328681468963623 0.5503581762313843\n",
      "0.7263007164001465 0.7148837447166443\n",
      "0.8064607977867126 0.7916390299797058\n"
     ]
    }
   ],
   "source": [
    "from keras.models import load_model\n",
    "\n",
    "best_model = load_model('../models/model_market.h5')\n",
    "train_loss, train_accuracy, train_auc = best_model.evaluate(X_train_scaled, y_train_cat)\n",
    "test_loss, test_accuracy, test_auc = best_model.evaluate(X_test_scaled, y_test_cat)\n",
    "print(train_loss, test_loss)\n",
    "print(train_accuracy, test_accuracy)\n",
    "print(train_auc, test_auc)"
   ]
  },
  {
   "cell_type": "markdown",
   "metadata": {},
   "source": [
    "When you call predict on the best model, it gives you not just the class prediction, but also the probability for that prediction. We can use this in a few interesting ways, using the test data."
   ]
  },
  {
   "cell_type": "code",
   "execution_count": 16,
   "metadata": {},
   "outputs": [],
   "source": [
    "predictions = pd.DataFrame(zip(best_model.predict(X_test_scaled)[:, 1], y_test_cat[:, 1]),\n",
    "                           columns=['prediction', 'signal'])"
   ]
  },
  {
   "cell_type": "markdown",
   "metadata": {},
   "source": [
    "First I'll mark whether each prediction was correct or not."
   ]
  },
  {
   "cell_type": "code",
   "execution_count": 17,
   "metadata": {},
   "outputs": [],
   "source": [
    "predictions['prediction_correct'] = ((predictions.prediction >= 0.5) & (predictions.signal == 1)) | \\\n",
    "                                    ((predictions.prediction < 0.5) & (predictions.signal == 0))"
   ]
  },
  {
   "cell_type": "markdown",
   "metadata": {},
   "source": [
    "As the probability of the model's prediction goes up, so does its success rate. That's perfect! We can just buy stocks with a 99% probability to maximize profit!"
   ]
  },
  {
   "cell_type": "code",
   "execution_count": 18,
   "metadata": {
    "scrolled": true
   },
   "outputs": [
    {
     "data": {
      "image/png": "[encoded data removed]",
      "text/plain": [
       "<Figure size 432x288 with 1 Axes>"
      ]
     },
     "metadata": {
      "needs_background": "light"
     },
     "output_type": "display_data"
    }
   ],
   "source": [
    "def buy_signal_curve():\n",
    "    curve = []\n",
    "    odds = np.arange(.5, 1.0, .01)\n",
    "    for o in odds:\n",
    "        total = len(predictions[predictions.prediction > o])\n",
    "        correct = len(predictions[(predictions.prediction > o) & (predictions.prediction_correct == True)])\n",
    "        if total == 0:\n",
    "            curve.append(1)\n",
    "        else:\n",
    "            curve.append(correct / total)\n",
    "    plt.plot(odds, curve)\n",
    "    plt.title('Prediction success rate at different model probablities.')\n",
    "    plt.xlabel('Probability')\n",
    "    plt.ylabel('% Correct')\n",
    "    \n",
    "buy_signal_curve()"
   ]
  },
  {
   "cell_type": "markdown",
   "metadata": {},
   "source": [
    "Not so fast. If you plot the number of test predictions by success rate, the number of predictions beyond 50% confidence drops dramatically. "
   ]
  },
  {
   "cell_type": "code",
   "execution_count": 19,
   "metadata": {},
   "outputs": [
    {
     "data": {
      "image/png": "[encoded data removed]",
      "text/plain": [
       "<Figure size 432x288 with 1 Axes>"
      ]
     },
     "metadata": {
      "needs_background": "light"
     },
     "output_type": "display_data"
    }
   ],
   "source": [
    "def buy_signal_curve_2():\n",
    "    curve = []\n",
    "    odds = np.arange(.5, 1.0, .01)\n",
    "    for o in odds:\n",
    "        total = len(predictions[predictions.prediction > o])\n",
    "        correct = len(predictions[(predictions.prediction > o) & (predictions.signal == 1)])\n",
    "        if total == 0:\n",
    "            curve.append(1)\n",
    "        else:\n",
    "            curve.append(total)\n",
    "    plt.plot(odds, curve)\n",
    "    plt.title('Number of observations for predictions above 0.5 probability')\n",
    "    plt.xlabel('Probability')\n",
    "    plt.ylabel('Count')\n",
    "    \n",
    "buy_signal_curve_2()"
   ]
  },
  {
   "cell_type": "markdown",
   "metadata": {},
   "source": [
    "A histogram of probability counts shows how narrow the distribution actually is."
   ]
  },
  {
   "cell_type": "code",
   "execution_count": 20,
   "metadata": {
    "scrolled": true
   },
   "outputs": [
    {
     "data": {
      "image/png": "[encoded data removed]",
      "text/plain": [
       "<Figure size 432x288 with 1 Axes>"
      ]
     },
     "metadata": {
      "needs_background": "light"
     },
     "output_type": "display_data"
    }
   ],
   "source": [
    "_ = plt.hist(predictions.prediction, bins=20)"
   ]
  },
  {
   "cell_type": "markdown",
   "metadata": {},
   "source": [
    "Finally, I plot various model metrics, such as the ROC AUC. Both the AUC score and the F1 score beat the base XGBoost model."
   ]
  },
  {
   "cell_type": "code",
   "execution_count": 21,
   "metadata": {},
   "outputs": [],
   "source": [
    "def plot_classifier(model, X_train, y_train, X_test, y_test):    \n",
    "    \n",
    "    y_pred_train = model.predict(X_train)[:, 1]\n",
    "    fpr_train, tpr_train, _ = roc_curve(y_train, y_pred_train)\n",
    "    \n",
    "    y_pred_test = model.predict(X_test)[:, 1]\n",
    "    fpr, tpr, _ = roc_curve(y_test, y_pred_test)\n",
    "    \n",
    "    plt.plot([0, 1], [0, 1], 'k--', label='Coin Flip')\n",
    "    plt.plot(fpr_train, tpr_train, label='Training Data')\n",
    "    plt.plot(fpr, tpr, label='Testing Data')\n",
    "    plt.xlabel('False positive rate')\n",
    "    plt.ylabel('True positive rate')\n",
    "    plt.title('ROC curve')\n",
    "    plt.legend(loc='upper left')\n",
    "    plt.show()\n",
    "     \n",
    "    print(f'Train AUC: {roc_auc_score(y_train, y_pred_train)}, Train F1 Score: {f1_score(y_train, y_pred_train.round())}')\n",
    "    print(f'Test AUC: {roc_auc_score(y_test, y_pred_test)}, Test F1 Score: {f1_score(y_test, y_pred_test.round())}')\n",
    "    print(f'Test Accuracy: {accuracy_score(y_test, y_pred_test.round())}')"
   ]
  },
  {
   "cell_type": "code",
   "execution_count": 22,
   "metadata": {},
   "outputs": [
    {
     "data": {
      "image/png": "[encoded data removed]",
      "text/plain": [
       "<Figure size 432x288 with 1 Axes>"
      ]
     },
     "metadata": {
      "needs_background": "light"
     },
     "output_type": "display_data"
    },
    {
     "name": "stdout",
     "output_type": "stream",
     "text": [
      "Train AUC: 0.8064300624053962, Train F1 Score: 0.7335125822282552\n",
      "Test AUC: 0.7895383966736879, Test F1 Score: 0.7374647716597472\n",
      "Test Accuracy: 0.7148837438910006\n"
     ]
    }
   ],
   "source": [
    "plot_classifier(best_model, X_train_scaled, y_train, X_test_scaled, y_test)"
   ]
  }
 ],
 "metadata": {
  "kernelspec": {
   "display_name": "Python 3",
   "language": "python",
   "name": "python3"
  },
  "language_info": {
   "codemirror_mode": {
    "name": "ipython",
    "version": 3
   },
   "file_extension": ".py",
   "mimetype": "text/x-python",
   "name": "python",
   "nbconvert_exporter": "python",
   "pygments_lexer": "ipython3",
   "version": "3.7.6"
  }
 },
 "nbformat": 4,
 "nbformat_minor": 2
}
