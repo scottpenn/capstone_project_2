{
 "cells": [
  {
   "cell_type": "code",
   "execution_count": 1,
   "metadata": {},
   "outputs": [],
   "source": [
    "%load_ext autoreload\n",
    "%autoreload 2"
   ]
  },
  {
   "cell_type": "code",
   "execution_count": 2,
   "metadata": {},
   "outputs": [],
   "source": [
    "import warnings\n",
    "warnings.filterwarnings('ignore')"
   ]
  },
  {
   "cell_type": "code",
   "execution_count": 3,
   "metadata": {},
   "outputs": [],
   "source": [
    "import sys\n",
    "sys.path.append('../code')\n",
    "import compute_indicators as ci"
   ]
  },
  {
   "cell_type": "code",
   "execution_count": 4,
   "metadata": {},
   "outputs": [],
   "source": [
    "import numpy as np\n",
    "import pandas as pd\n",
    "import talib as ta\n",
    "from tqdm.notebook import tqdm"
   ]
  },
  {
   "cell_type": "code",
   "execution_count": 5,
   "metadata": {},
   "outputs": [],
   "source": [
    "import alpaca_trade_api as tradeapi\n",
    "\n",
    "key_id = None\n",
    "secret_key = None\n",
    "with open('../files/private/alpakey') as key_file:\n",
    "    keys = key_file.readlines()\n",
    "    key_id_control = keys[0].strip()\n",
    "    secret_key_control = keys[1].strip()\n",
    "    key_id_market = keys[2].strip()\n",
    "    secret_key_market = keys[3].strip()\n",
    "    key_id_no_market = keys[4].strip()\n",
    "    secret_key_no_market = keys[5].strip()\n",
    "    \n",
    "api_url = \"https://paper-api.alpaca.markets\"\n",
    "\n",
    "alpaca_control = tradeapi.REST(key_id_control, secret_key_control, api_url, api_version='v2')\n",
    "alpaca_market = tradeapi.REST(key_id_market, secret_key_market, api_url, api_version='v2')\n",
    "alpaca_no_market = tradeapi.REST(key_id_no_market, secret_key_no_market, api_url, api_version='v2')"
   ]
  },
  {
   "cell_type": "code",
   "execution_count": 6,
   "metadata": {},
   "outputs": [],
   "source": [
    "import json\n",
    "\n",
    "symbols = []\n",
    "with open('../files/public/sp_100.json') as top_symbols:\n",
    "    symbols = json.load(top_symbols)"
   ]
  },
  {
   "cell_type": "code",
   "execution_count": 7,
   "metadata": {},
   "outputs": [],
   "source": [
    "columns_market = json.load(open('../models/columns.json', 'rb'))\n",
    "\n",
    "columns_no_market = list(filter(lambda x: 'market' not in x, columns_market))"
   ]
  },
  {
   "cell_type": "code",
   "execution_count": 8,
   "metadata": {},
   "outputs": [
    {
     "name": "stderr",
     "output_type": "stream",
     "text": [
      "Using Theano backend.\n"
     ]
    }
   ],
   "source": [
    "from keras.models import load_model\n",
    "\n",
    "model_market = load_model('../models/daily_market.h5')\n",
    "model_no_market = load_model('../models/daily.h5')"
   ]
  },
  {
   "cell_type": "code",
   "execution_count": 9,
   "metadata": {},
   "outputs": [],
   "source": [
    "from pickle import load\n",
    "\n",
    "scaler_market = load(open('../models/scaler_market.pkl', 'rb'))\n",
    "scaler_no_market = load(open('../models/scaler.pkl', 'rb'))"
   ]
  },
  {
   "cell_type": "code",
   "execution_count": 10,
   "metadata": {},
   "outputs": [
    {
     "data": {
      "application/vnd.jupyter.widget-view+json": {
       "model_id": "79edd27cd33c4105a65d75cf3ab74fb4",
       "version_major": 2,
       "version_minor": 0
      },
      "text/plain": [
       "HBox(children=(FloatProgress(value=0.0, max=101.0), HTML(value='')))"
      ]
     },
     "metadata": {},
     "output_type": "display_data"
    },
    {
     "name": "stdout",
     "output_type": "stream",
     "text": [
      "\n"
     ]
    }
   ],
   "source": [
    "stocks = []\n",
    "\n",
    "for symbol in tqdm(symbols):\n",
    "    try:\n",
    "        stock = alpaca_control.polygon.historic_agg_v2(symbol, 1, 'day',\n",
    "                                               _from='2018-01-01', to='2021-06-01', limit=500).df\n",
    "        stock['symbol'] = symbol\n",
    "        stocks.append(stock)\n",
    "    except Exception as e:\n",
    "        print(e)\n",
    "        continue"
   ]
  },
  {
   "cell_type": "code",
   "execution_count": 11,
   "metadata": {},
   "outputs": [],
   "source": [
    "stocks = pd.concat(stocks)"
   ]
  },
  {
   "cell_type": "code",
   "execution_count": 12,
   "metadata": {},
   "outputs": [],
   "source": [
    "stocks.reset_index(inplace=True)"
   ]
  },
  {
   "cell_type": "code",
   "execution_count": 13,
   "metadata": {},
   "outputs": [],
   "source": [
    "stocks.columns = ['date', 'open', 'high', 'low', 'close', 'volume', 'symbol']\n",
    "stocks.set_index('symbol', inplace=True)\n",
    "stocks.date = pd.to_datetime(stocks.date, utc=True)"
   ]
  },
  {
   "cell_type": "code",
   "execution_count": 14,
   "metadata": {},
   "outputs": [],
   "source": [
    "market = alpaca_control.polygon.historic_agg_v2('SPY', 1, 'day',\n",
    "                                        _from='2018-01-01', to='2021-06-01').df\n",
    "market['symbol'] = 'SPY'\n",
    "market.reset_index(inplace=True)\n",
    "market.columns = ['date', 'open', 'high', 'low', 'close', 'volume', 'symbol']\n",
    "market.set_index('symbol', inplace=True)\n",
    "market.date = pd.to_datetime(market.date, utc=True)"
   ]
  },
  {
   "cell_type": "code",
   "execution_count": 15,
   "metadata": {},
   "outputs": [],
   "source": [
    "open_positions_control = {position.symbol: position for position in alpaca_control.list_positions()}\n",
    "open_positions_market = {position.symbol: position for position in alpaca_market.list_positions()}\n",
    "open_positions_no_market = {position.symbol: position for position in alpaca_no_market.list_positions()}"
   ]
  },
  {
   "cell_type": "code",
   "execution_count": 16,
   "metadata": {},
   "outputs": [],
   "source": [
    "def buy_stock(api, symbol, qty):\n",
    "    try:\n",
    "        api.submit_order(\n",
    "            symbol=symbol,\n",
    "            side='buy',\n",
    "            type='market',\n",
    "            qty=qty,\n",
    "            time_in_force='day'\n",
    "        )\n",
    "    except Exception as e:\n",
    "        print(f'An error occured attempting to buy {qty} shares of {symbol}', e)  "
   ]
  },
  {
   "cell_type": "code",
   "execution_count": 17,
   "metadata": {},
   "outputs": [],
   "source": [
    "def sell_stock(api, symbol, qty):\n",
    "    try:\n",
    "        api.submit_order(\n",
    "            symbol=symbol,\n",
    "            side='sell',\n",
    "            type='market',\n",
    "            qty=qty,\n",
    "            time_in_force='day'\n",
    "        )\n",
    "    except Exception as e:\n",
    "        print(f'An error occured attempting to sell {qty} shares of {symbol}', e)"
   ]
  },
  {
   "cell_type": "code",
   "execution_count": 18,
   "metadata": {},
   "outputs": [],
   "source": [
    "def predict(stock, columns, model, scaler):\n",
    "    return ci.predict_today(stock, columns, model, scaler)"
   ]
  },
  {
   "cell_type": "code",
   "execution_count": 19,
   "metadata": {},
   "outputs": [
    {
     "data": {
      "application/vnd.jupyter.widget-view+json": {
       "model_id": "fb2f074a8bdb4685a82443c52f0d559a",
       "version_major": 2,
       "version_minor": 0
      },
      "text/plain": [
       "HBox(children=(FloatProgress(value=0.0, max=101.0), HTML(value='')))"
      ]
     },
     "metadata": {},
     "output_type": "display_data"
    },
    {
     "name": "stdout",
     "output_type": "stream",
     "text": [
      "An error occured attempting to buy 0.0 shares of AMZN qty must be > 0\n",
      "An error occured attempting to buy 0.0 shares of BKNG qty must be > 0\n",
      "An error occured attempting to buy 0.0 shares of GOOG qty must be > 0\n",
      "An error occured attempting to buy 0.0 shares of GOOGL qty must be > 0\n",
      "\n"
     ]
    }
   ],
   "source": [
    "alpaca_control.cancel_all_orders()\n",
    "\n",
    "stocks_by_symbol = stocks.groupby('symbol')\n",
    "\n",
    "for symbol in tqdm(symbols):\n",
    "    if symbol not in open_positions_control:\n",
    "        last_close = stocks_by_symbol.get_group(symbol).close.iloc[-1]\n",
    "        qty = 1000 // last_close\n",
    "        buy_stock(alpaca_control, symbol, qty)"
   ]
  },
  {
   "cell_type": "code",
   "execution_count": 20,
   "metadata": {},
   "outputs": [
    {
     "data": {
      "application/vnd.jupyter.widget-view+json": {
       "model_id": "b294b3dd000742529df341d506ffcf78",
       "version_major": 2,
       "version_minor": 0
      },
      "text/plain": [
       "HBox(children=(FloatProgress(value=0.0, max=101.0), HTML(value='')))"
      ]
     },
     "metadata": {},
     "output_type": "display_data"
    },
    {
     "name": "stdout",
     "output_type": "stream",
     "text": [
      "\n"
     ]
    }
   ],
   "source": [
    "alpaca_market.cancel_all_orders()\n",
    "\n",
    "stocks_by_symbol = stocks.groupby('symbol')\n",
    "\n",
    "ci.compute(market)\n",
    "\n",
    "for symbol in tqdm(symbols):\n",
    "    if symbol in stocks.index: \n",
    "        stock = stocks_by_symbol.get_group(symbol)\n",
    "        ci.compute(stock)\n",
    "        stock = stock.merge(market, on='date', suffixes=['', '_market'])\n",
    "        prediction, last_close = predict(stock, columns_market, model_market, scaler_market)\n",
    "        if (prediction >= 0.5) and (symbol not in open_positions_market):\n",
    "            qty = 1000 // last_close\n",
    "            buy_stock(alpaca_market, symbol, qty)\n",
    "        elif (prediction < 0.5) and (symbol in open_positions_market):\n",
    "            qty = open_positions_market[symbol].qty\n",
    "            sell_stock(alpaca_market, symbol, qty)"
   ]
  },
  {
   "cell_type": "code",
   "execution_count": 25,
   "metadata": {},
   "outputs": [
    {
     "data": {
      "application/vnd.jupyter.widget-view+json": {
       "model_id": "305f0af2d33246e7b7c3cc8a6dffdcf8",
       "version_major": 2,
       "version_minor": 0
      },
      "text/plain": [
       "HBox(children=(FloatProgress(value=0.0, max=101.0), HTML(value='')))"
      ]
     },
     "metadata": {},
     "output_type": "display_data"
    },
    {
     "name": "stdout",
     "output_type": "stream",
     "text": [
      "AAPL 0.46053404\n",
      "ABBV 0.5054922\n",
      "ABT 0.5054922\n",
      "ACN 0.50218797\n",
      "ADBE 0.46398082\n",
      "AIG 0.5047265\n",
      "ALL 0.5054922\n",
      "AMGN 0.51267433\n",
      "AMT 0.5054922\n",
      "AMZN 0.5054922\n",
      "AXP 0.50506943\n",
      "BA 0.5395724\n",
      "BAC 0.41742536\n",
      "BIIB 0.5054922\n",
      "BK 0.5015514\n",
      "BKNG 0.5054922\n",
      "BLK 0.48573357\n",
      "BMY 0.4303198\n",
      "BRK.B 0.5054922\n",
      "C 0.4441053\n",
      "CAT 0.5054922\n",
      "CHTR 0.5030154\n",
      "CL 0.5054922\n",
      "CMCSA 0.49134445\n",
      "COF 0.46591407\n",
      "COP 0.4564997\n",
      "COST 0.5054922\n",
      "CRM 0.4685685\n",
      "CSCO 0.51355493\n",
      "CVS 0.5054922\n",
      "CVX 0.5054922\n",
      "DD 0.44868514\n",
      "DHR 0.50318795\n",
      "DIS 0.490082\n",
      "DOW 0.46788916\n",
      "DUK 0.5054922\n",
      "EMR 0.47675183\n",
      "EXC 0.5054922\n",
      "F 0.5027878\n",
      "FB 0.5054922\n",
      "FDX 0.49786106\n",
      "GD 0.51578456\n",
      "GE 0.5054922\n",
      "GILD 0.5181354\n",
      "GM 0.5054922\n",
      "GOOG 0.48291233\n",
      "GOOGL 0.4798887\n",
      "GS 0.4843163\n",
      "HD 0.49583232\n",
      "HON 0.5054922\n",
      "IBM 0.50371885\n",
      "INTC 0.46072558\n",
      "JNJ 0.5054922\n",
      "JPM 0.43033037\n",
      "KHC 0.5209504\n",
      "KMI 0.50306726\n",
      "KO 0.5054922\n",
      "LLY 0.5194993\n",
      "LMT 0.5355057\n",
      "LOW 0.48295772\n",
      "MA 0.4717656\n",
      "MCD 0.50378454\n",
      "MDLZ 0.49225184\n",
      "MDT 0.5620785\n",
      "MET 0.4817457\n",
      "MMM 0.47484684\n",
      "MO 0.543062\n",
      "MRK 0.5148444\n",
      "MS 0.45294246\n",
      "MSFT 0.4679153\n",
      "NEE 0.5054922\n",
      "NFLX 0.51597697\n",
      "NKE 0.47843567\n",
      "NVDA 0.49312773\n",
      "ORCL 0.5161533\n",
      "OXY 0.47758314\n",
      "PEP 0.5214296\n",
      "PFE 0.48455685\n",
      "PG 0.5068319\n",
      "PM 0.502775\n",
      "PYPL 0.4545453\n",
      "QCOM 0.5054922\n",
      "RTX 0\n",
      "SBUX 0.5054922\n",
      "SLB 0.5054922\n",
      "SO 0.5144377\n",
      "SPG 0.49421674\n",
      "T 0.46166262\n",
      "TGT 0.5032957\n",
      "TMO 0.52942294\n",
      "TXN 0.5010909\n",
      "UNH 0.4893104\n",
      "UNP 0.5054922\n",
      "UPS 0.5174679\n",
      "USB 0.48899302\n",
      "V 0.4731589\n",
      "VZ 0.50537515\n",
      "WBA 0.5054922\n",
      "WFC 0.47744128\n",
      "WMT 0.51330537\n",
      "XOM 0.5054922\n",
      "\n"
     ]
    }
   ],
   "source": [
    "alpaca_no_market.cancel_all_orders()\n",
    "\n",
    "stocks_by_symbol = stocks.groupby('symbol')\n",
    "\n",
    "for symbol in tqdm(symbols):\n",
    "    if symbol in stocks.index: \n",
    "        stock = stocks_by_symbol.get_group(symbol)\n",
    "        ci.compute(stock)\n",
    "        prediction, last_close = predict(stock, columns_no_market, model_no_market, scaler_no_market)\n",
    "        if (prediction >= 0.5) and (symbol not in open_positions_no_market):\n",
    "            qty = 1000 // last_close\n",
    "            buy_stock(alpaca_no_market, symbol, qty)\n",
    "        elif (prediction < 0.5) and (symbol in open_positions_no_market):\n",
    "            qty = open_positions_no_market[symbol].qty\n",
    "            sell_stock(alapca_no_market, symbol, qty)"
   ]
  }
 ],
 "metadata": {
  "kernelspec": {
   "display_name": "Python 3",
   "language": "python",
   "name": "python3"
  },
  "language_info": {
   "codemirror_mode": {
    "name": "ipython",
    "version": 3
   },
   "file_extension": ".py",
   "mimetype": "text/x-python",
   "name": "python",
   "nbconvert_exporter": "python",
   "pygments_lexer": "ipython3",
   "version": "3.7.3"
  }
 },
 "nbformat": 4,
 "nbformat_minor": 2
}
