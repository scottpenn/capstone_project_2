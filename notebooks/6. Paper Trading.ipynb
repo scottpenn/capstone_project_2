{
 "cells": [
  {
   "cell_type": "code",
   "execution_count": 1,
   "metadata": {},
   "outputs": [],
   "source": [
    "%load_ext autoreload\n",
    "%autoreload 2"
   ]
  },
  {
   "cell_type": "code",
   "execution_count": 2,
   "metadata": {},
   "outputs": [],
   "source": [
    "import warnings\n",
    "warnings.filterwarnings('ignore')"
   ]
  },
  {
   "cell_type": "code",
   "execution_count": 3,
   "metadata": {},
   "outputs": [],
   "source": [
    "import sys\n",
    "sys.path.append('../code')\n",
    "import compute_indicators as ci"
   ]
  },
  {
   "cell_type": "code",
   "execution_count": 4,
   "metadata": {},
   "outputs": [],
   "source": [
    "import numpy as np\n",
    "import pandas as pd\n",
    "import talib as ta\n",
    "from tqdm.notebook import tqdm\n",
    "import time"
   ]
  },
  {
   "cell_type": "code",
   "execution_count": 5,
   "metadata": {},
   "outputs": [],
   "source": [
    "import alpaca_trade_api as tradeapi\n",
    "\n",
    "key_id = None\n",
    "secret_key = None\n",
    "with open('../files/private/alpakey') as key_file:\n",
    "    keys = key_file.readlines()\n",
    "    key_id = keys[0].strip()\n",
    "    secret_key = keys[1].strip()\n",
    "    \n",
    "api_url = \"https://paper-api.alpaca.markets\"\n",
    "\n",
    "alpaca = tradeapi.REST(key_id, secret_key, api_url, api_version='v2')"
   ]
  },
  {
   "cell_type": "code",
   "execution_count": 6,
   "metadata": {},
   "outputs": [],
   "source": [
    "import json\n",
    "\n",
    "symbols = []\n",
    "with open('../files/public/sp_500.json') as top_symbols:\n",
    "    symbols = json.load(top_symbols)\n",
    "    \n",
    "symbols.append('SPY')"
   ]
  },
  {
   "cell_type": "code",
   "execution_count": 7,
   "metadata": {},
   "outputs": [],
   "source": [
    "columns = json.load(open('../models/columns.json', 'rb'))"
   ]
  },
  {
   "cell_type": "code",
   "execution_count": 8,
   "metadata": {},
   "outputs": [
    {
     "name": "stderr",
     "output_type": "stream",
     "text": [
      "Using Theano backend.\n"
     ]
    }
   ],
   "source": [
    "from keras.models import load_model\n",
    "\n",
    "model = load_model('../models/model.h5')"
   ]
  },
  {
   "cell_type": "code",
   "execution_count": 9,
   "metadata": {},
   "outputs": [],
   "source": [
    "from pickle import load\n",
    "\n",
    "scaler = load(open('../models/scaler.pkl', 'rb'))"
   ]
  },
  {
   "cell_type": "code",
   "execution_count": 10,
   "metadata": {},
   "outputs": [],
   "source": [
    "def buy_stock(api, symbol, qty):\n",
    "    try:\n",
    "        api.submit_order(\n",
    "            symbol=symbol,\n",
    "            side='buy',\n",
    "            type='market',\n",
    "            qty=qty,\n",
    "            time_in_force='day'\n",
    "        )\n",
    "    except Exception as e:\n",
    "        print(f'An error occured attempting to buy {qty} shares of {symbol}', e)  "
   ]
  },
  {
   "cell_type": "code",
   "execution_count": 11,
   "metadata": {},
   "outputs": [],
   "source": [
    "def sell_stock(api, symbol, qty):\n",
    "    try:\n",
    "        api.submit_order(\n",
    "            symbol=symbol,\n",
    "            side='sell',\n",
    "            type='market',\n",
    "            qty=qty,\n",
    "            time_in_force='day'\n",
    "        )\n",
    "    except Exception as e:\n",
    "        print(f'An error occured attempting to sell {qty} shares of {symbol}', e)"
   ]
  },
  {
   "cell_type": "code",
   "execution_count": 12,
   "metadata": {},
   "outputs": [],
   "source": [
    "def predict(stock, columns, model, scaler):\n",
    "    return ci.predict_today(stock, columns, model, scaler)"
   ]
  },
  {
   "cell_type": "code",
   "execution_count": 13,
   "metadata": {},
   "outputs": [
    {
     "data": {
      "application/vnd.jupyter.widget-view+json": {
       "model_id": "0f2adab83b4b430b9914c169a0926072",
       "version_major": 2,
       "version_minor": 0
      },
      "text/plain": [
       "HBox(children=(FloatProgress(value=0.0, max=506.0), HTML(value='')))"
      ]
     },
     "metadata": {},
     "output_type": "display_data"
    },
    {
     "name": "stdout",
     "output_type": "stream",
     "text": [
      "500 Server Error: Internal Server Error for url: https://api.polygon.io/v2/aggs/ticker/COO/range/5/minute/2020-07-22/2020-07-24?unadjusted=False&limit=300&apiKey=PKHFDGG79TL869ZQDE2E\n",
      "500 Server Error: Internal Server Error for url: https://api.polygon.io/v2/aggs/ticker/PWR/range/5/minute/2020-07-22/2020-07-24?unadjusted=False&limit=300&apiKey=PKHFDGG79TL869ZQDE2E\n",
      "500 Server Error: Internal Server Error for url: https://api.polygon.io/v2/aggs/ticker/VRSN/range/5/minute/2020-07-22/2020-07-24?unadjusted=False&limit=300&apiKey=PKHFDGG79TL869ZQDE2E\n",
      "\n"
     ]
    },
    {
     "data": {
      "application/vnd.jupyter.widget-view+json": {
       "model_id": "9b78049ba4de48f99175b7dd7d493db0",
       "version_major": 2,
       "version_minor": 0
      },
      "text/plain": [
       "HBox(children=(FloatProgress(value=0.0, max=506.0), HTML(value='')))"
      ]
     },
     "metadata": {},
     "output_type": "display_data"
    },
    {
     "name": "stdout",
     "output_type": "stream",
     "text": [
      "An error occured attempting to buy 0.0 shares of AMZN qty must be > 0\n",
      "\n"
     ]
    },
    {
     "data": {
      "application/vnd.jupyter.widget-view+json": {
       "model_id": "ba51f45ddb544a96983c8185ae476129",
       "version_major": 2,
       "version_minor": 0
      },
      "text/plain": [
       "HBox(children=(FloatProgress(value=0.0, max=506.0), HTML(value='')))"
      ]
     },
     "metadata": {},
     "output_type": "display_data"
    },
    {
     "name": "stdout",
     "output_type": "stream",
     "text": [
      "500 Server Error: Internal Server Error for url: https://api.polygon.io/v2/aggs/ticker/ADP/range/5/minute/2020-07-22/2020-07-24?unadjusted=False&limit=300&apiKey=PKHFDGG79TL869ZQDE2E\n",
      "500 Server Error: Internal Server Error for url: https://api.polygon.io/v2/aggs/ticker/AIV/range/5/minute/2020-07-22/2020-07-24?unadjusted=False&limit=300&apiKey=PKHFDGG79TL869ZQDE2E\n",
      "500 Server Error: Internal Server Error for url: https://api.polygon.io/v2/aggs/ticker/AIZ/range/5/minute/2020-07-22/2020-07-24?unadjusted=False&limit=300&apiKey=PKHFDGG79TL869ZQDE2E\n",
      "500 Server Error: Internal Server Error for url: https://api.polygon.io/v2/aggs/ticker/ATO/range/5/minute/2020-07-22/2020-07-24?unadjusted=False&limit=300&apiKey=PKHFDGG79TL869ZQDE2E\n",
      "500 Server Error: Internal Server Error for url: https://api.polygon.io/v2/aggs/ticker/CNC/range/5/minute/2020-07-22/2020-07-24?unadjusted=False&limit=300&apiKey=PKHFDGG79TL869ZQDE2E\n",
      "500 Server Error: Internal Server Error for url: https://api.polygon.io/v2/aggs/ticker/CSX/range/5/minute/2020-07-22/2020-07-24?unadjusted=False&limit=300&apiKey=PKHFDGG79TL869ZQDE2E\n",
      "500 Server Error: Internal Server Error for url: https://api.polygon.io/v2/aggs/ticker/CXO/range/5/minute/2020-07-22/2020-07-24?unadjusted=False&limit=300&apiKey=PKHFDGG79TL869ZQDE2E\n",
      "500 Server Error: Internal Server Error for url: https://api.polygon.io/v2/aggs/ticker/EXPD/range/5/minute/2020-07-22/2020-07-24?unadjusted=False&limit=300&apiKey=PKHFDGG79TL869ZQDE2E\n",
      "500 Server Error: Internal Server Error for url: https://api.polygon.io/v2/aggs/ticker/KEY/range/5/minute/2020-07-22/2020-07-24?unadjusted=False&limit=300&apiKey=PKHFDGG79TL869ZQDE2E\n",
      "500 Server Error: Internal Server Error for url: https://api.polygon.io/v2/aggs/ticker/KLAC/range/5/minute/2020-07-22/2020-07-24?unadjusted=False&limit=300&apiKey=PKHFDGG79TL869ZQDE2E\n",
      "500 Server Error: Internal Server Error for url: https://api.polygon.io/v2/aggs/ticker/KR/range/5/minute/2020-07-22/2020-07-24?unadjusted=False&limit=300&apiKey=PKHFDGG79TL869ZQDE2E\n",
      "500 Server Error: Internal Server Error for url: https://api.polygon.io/v2/aggs/ticker/XOM/range/5/minute/2020-07-22/2020-07-24?unadjusted=False&limit=300&apiKey=PKHFDGG79TL869ZQDE2E\n",
      "500 Server Error: Internal Server Error for url: https://api.polygon.io/v2/aggs/ticker/XRAY/range/5/minute/2020-07-22/2020-07-24?unadjusted=False&limit=300&apiKey=PKHFDGG79TL869ZQDE2E\n",
      "500 Server Error: Internal Server Error for url: https://api.polygon.io/v2/aggs/ticker/XRX/range/5/minute/2020-07-22/2020-07-24?unadjusted=False&limit=300&apiKey=PKHFDGG79TL869ZQDE2E\n",
      "500 Server Error: Internal Server Error for url: https://api.polygon.io/v2/aggs/ticker/ZION/range/5/minute/2020-07-22/2020-07-24?unadjusted=False&limit=300&apiKey=PKHFDGG79TL869ZQDE2E\n",
      "\n"
     ]
    },
    {
     "data": {
      "application/vnd.jupyter.widget-view+json": {
       "model_id": "65e08bcb3983452bba418012c5a1c431",
       "version_major": 2,
       "version_minor": 0
      },
      "text/plain": [
       "HBox(children=(FloatProgress(value=0.0, max=506.0), HTML(value='')))"
      ]
     },
     "metadata": {},
     "output_type": "display_data"
    },
    {
     "name": "stdout",
     "output_type": "stream",
     "text": [
      "An error occured attempting to buy 0.0 shares of AMZN qty must be > 0\n",
      "\n"
     ]
    },
    {
     "data": {
      "application/vnd.jupyter.widget-view+json": {
       "model_id": "f9691c3a22934e35a0541d78de5fb9b4",
       "version_major": 2,
       "version_minor": 0
      },
      "text/plain": [
       "HBox(children=(FloatProgress(value=0.0, max=506.0), HTML(value='')))"
      ]
     },
     "metadata": {},
     "output_type": "display_data"
    },
    {
     "name": "stdout",
     "output_type": "stream",
     "text": [
      "500 Server Error: Internal Server Error for url: https://api.polygon.io/v2/aggs/ticker/BAC/range/5/minute/2020-07-22/2020-07-24?unadjusted=False&limit=300&apiKey=PKHFDGG79TL869ZQDE2E\n",
      "500 Server Error: Internal Server Error for url: https://api.polygon.io/v2/aggs/ticker/BMY/range/5/minute/2020-07-22/2020-07-24?unadjusted=False&limit=300&apiKey=PKHFDGG79TL869ZQDE2E\n",
      "500 Server Error: Internal Server Error for url: https://api.polygon.io/v2/aggs/ticker/FITB/range/5/minute/2020-07-22/2020-07-24?unadjusted=False&limit=300&apiKey=PKHFDGG79TL869ZQDE2E\n",
      "500 Server Error: Internal Server Error for url: https://api.polygon.io/v2/aggs/ticker/PPL/range/5/minute/2020-07-22/2020-07-24?unadjusted=False&limit=300&apiKey=PKHFDGG79TL869ZQDE2E\n",
      "500 Server Error: Internal Server Error for url: https://api.polygon.io/v2/aggs/ticker/SNA/range/5/minute/2020-07-22/2020-07-24?unadjusted=False&limit=300&apiKey=PKHFDGG79TL869ZQDE2E\n",
      "\n"
     ]
    },
    {
     "data": {
      "application/vnd.jupyter.widget-view+json": {
       "model_id": "5e93f9b568d345229dc1edcd418b32da",
       "version_major": 2,
       "version_minor": 0
      },
      "text/plain": [
       "HBox(children=(FloatProgress(value=0.0, max=506.0), HTML(value='')))"
      ]
     },
     "metadata": {},
     "output_type": "display_data"
    },
    {
     "name": "stdout",
     "output_type": "stream",
     "text": [
      "An error occured attempting to buy 0.0 shares of AMZN qty must be > 0\n",
      "\n"
     ]
    },
    {
     "data": {
      "application/vnd.jupyter.widget-view+json": {
       "model_id": "81f2474e3334449193bfba7b7fadf098",
       "version_major": 2,
       "version_minor": 0
      },
      "text/plain": [
       "HBox(children=(FloatProgress(value=0.0, max=506.0), HTML(value='')))"
      ]
     },
     "metadata": {},
     "output_type": "display_data"
    },
    {
     "name": "stdout",
     "output_type": "stream",
     "text": [
      "500 Server Error: Internal Server Error for url: https://api.polygon.io/v2/aggs/ticker/AKAM/range/5/minute/2020-07-22/2020-07-24?unadjusted=False&limit=300&apiKey=PKHFDGG79TL869ZQDE2E\n",
      "500 Server Error: Internal Server Error for url: https://api.polygon.io/v2/aggs/ticker/CARR/range/5/minute/2020-07-22/2020-07-24?unadjusted=False&limit=300&apiKey=PKHFDGG79TL869ZQDE2E\n",
      "500 Server Error: Internal Server Error for url: https://api.polygon.io/v2/aggs/ticker/CE/range/5/minute/2020-07-22/2020-07-24?unadjusted=False&limit=300&apiKey=PKHFDGG79TL869ZQDE2E\n",
      "500 Server Error: Internal Server Error for url: https://api.polygon.io/v2/aggs/ticker/COG/range/5/minute/2020-07-22/2020-07-24?unadjusted=False&limit=300&apiKey=PKHFDGG79TL869ZQDE2E\n",
      "500 Server Error: Internal Server Error for url: https://api.polygon.io/v2/aggs/ticker/DISCK/range/5/minute/2020-07-22/2020-07-24?unadjusted=False&limit=300&apiKey=PKHFDGG79TL869ZQDE2E\n",
      "500 Server Error: Internal Server Error for url: https://api.polygon.io/v2/aggs/ticker/HON/range/5/minute/2020-07-22/2020-07-24?unadjusted=False&limit=300&apiKey=PKHFDGG79TL869ZQDE2E\n",
      "500 Server Error: Internal Server Error for url: https://api.polygon.io/v2/aggs/ticker/MCD/range/5/minute/2020-07-22/2020-07-24?unadjusted=False&limit=300&apiKey=PKHFDGG79TL869ZQDE2E\n",
      "500 Server Error: Internal Server Error for url: https://api.polygon.io/v2/aggs/ticker/MCHP/range/5/minute/2020-07-22/2020-07-24?unadjusted=False&limit=300&apiKey=PKHFDGG79TL869ZQDE2E\n",
      "500 Server Error: Internal Server Error for url: https://api.polygon.io/v2/aggs/ticker/MMC/range/5/minute/2020-07-22/2020-07-24?unadjusted=False&limit=300&apiKey=PKHFDGG79TL869ZQDE2E\n",
      "500 Server Error: Internal Server Error for url: https://api.polygon.io/v2/aggs/ticker/NOW/range/5/minute/2020-07-22/2020-07-24?unadjusted=False&limit=300&apiKey=PKHFDGG79TL869ZQDE2E\n",
      "500 Server Error: Internal Server Error for url: https://api.polygon.io/v2/aggs/ticker/PAYC/range/5/minute/2020-07-22/2020-07-24?unadjusted=False&limit=300&apiKey=PKHFDGG79TL869ZQDE2E\n",
      "500 Server Error: Internal Server Error for url: https://api.polygon.io/v2/aggs/ticker/PHM/range/5/minute/2020-07-22/2020-07-24?unadjusted=False&limit=300&apiKey=PKHFDGG79TL869ZQDE2E\n",
      "500 Server Error: Internal Server Error for url: https://api.polygon.io/v2/aggs/ticker/TIF/range/5/minute/2020-07-22/2020-07-24?unadjusted=False&limit=300&apiKey=PKHFDGG79TL869ZQDE2E\n",
      "500 Server Error: Internal Server Error for url: https://api.polygon.io/v2/aggs/ticker/WLTW/range/5/minute/2020-07-22/2020-07-24?unadjusted=False&limit=300&apiKey=PKHFDGG79TL869ZQDE2E\n",
      "500 Server Error: Internal Server Error for url: https://api.polygon.io/v2/aggs/ticker/WYNN/range/5/minute/2020-07-22/2020-07-24?unadjusted=False&limit=300&apiKey=PKHFDGG79TL869ZQDE2E\n",
      "\n"
     ]
    },
    {
     "data": {
      "application/vnd.jupyter.widget-view+json": {
       "model_id": "17755650491c4318adbfd8a4453f13d6",
       "version_major": 2,
       "version_minor": 0
      },
      "text/plain": [
       "HBox(children=(FloatProgress(value=0.0, max=506.0), HTML(value='')))"
      ]
     },
     "metadata": {},
     "output_type": "display_data"
    },
    {
     "name": "stdout",
     "output_type": "stream",
     "text": [
      "An error occured attempting to buy 0.0 shares of AMZN qty must be > 0\n",
      "\n"
     ]
    },
    {
     "data": {
      "application/vnd.jupyter.widget-view+json": {
       "model_id": "e8eaf01371fd4bf4a2c8bf196f3e7b82",
       "version_major": 2,
       "version_minor": 0
      },
      "text/plain": [
       "HBox(children=(FloatProgress(value=0.0, max=506.0), HTML(value='')))"
      ]
     },
     "metadata": {},
     "output_type": "display_data"
    },
    {
     "name": "stdout",
     "output_type": "stream",
     "text": [
      "500 Server Error: Internal Server Error for url: https://api.polygon.io/v2/aggs/ticker/APH/range/5/minute/2020-07-22/2020-07-24?unadjusted=False&limit=300&apiKey=PKHFDGG79TL869ZQDE2E\n",
      "500 Server Error: Internal Server Error for url: https://api.polygon.io/v2/aggs/ticker/DVA/range/5/minute/2020-07-22/2020-07-24?unadjusted=False&limit=300&apiKey=PKHFDGG79TL869ZQDE2E\n",
      "500 Server Error: Internal Server Error for url: https://api.polygon.io/v2/aggs/ticker/KMI/range/5/minute/2020-07-22/2020-07-24?unadjusted=False&limit=300&apiKey=PKHFDGG79TL869ZQDE2E\n",
      "500 Server Error: Internal Server Error for url: https://api.polygon.io/v2/aggs/ticker/MDLZ/range/5/minute/2020-07-22/2020-07-24?unadjusted=False&limit=300&apiKey=PKHFDGG79TL869ZQDE2E\n",
      "500 Server Error: Internal Server Error for url: https://api.polygon.io/v2/aggs/ticker/PKI/range/5/minute/2020-07-22/2020-07-24?unadjusted=False&limit=300&apiKey=PKHFDGG79TL869ZQDE2E\n",
      "500 Server Error: Internal Server Error for url: https://api.polygon.io/v2/aggs/ticker/PWR/range/5/minute/2020-07-22/2020-07-24?unadjusted=False&limit=300&apiKey=PKHFDGG79TL869ZQDE2E\n",
      "500 Server Error: Internal Server Error for url: https://api.polygon.io/v2/aggs/ticker/PXD/range/5/minute/2020-07-22/2020-07-24?unadjusted=False&limit=300&apiKey=PKHFDGG79TL869ZQDE2E\n",
      "500 Server Error: Internal Server Error for url: https://api.polygon.io/v2/aggs/ticker/SLG/range/5/minute/2020-07-22/2020-07-24?unadjusted=False&limit=300&apiKey=PKHFDGG79TL869ZQDE2E\n",
      "\n"
     ]
    },
    {
     "data": {
      "application/vnd.jupyter.widget-view+json": {
       "model_id": "36c82cc244034825a3ad403bd69d8391",
       "version_major": 2,
       "version_minor": 0
      },
      "text/plain": [
       "HBox(children=(FloatProgress(value=0.0, max=506.0), HTML(value='')))"
      ]
     },
     "metadata": {},
     "output_type": "display_data"
    },
    {
     "name": "stdout",
     "output_type": "stream",
     "text": [
      "An error occured attempting to buy 0.0 shares of AMZN qty must be > 0\n",
      "\n"
     ]
    },
    {
     "data": {
      "application/vnd.jupyter.widget-view+json": {
       "model_id": "999d7d45ce1644cba2d73095f87ccd94",
       "version_major": 2,
       "version_minor": 0
      },
      "text/plain": [
       "HBox(children=(FloatProgress(value=0.0, max=506.0), HTML(value='')))"
      ]
     },
     "metadata": {},
     "output_type": "display_data"
    },
    {
     "name": "stdout",
     "output_type": "stream",
     "text": [
      "500 Server Error: Internal Server Error for url: https://api.polygon.io/v2/aggs/ticker/GRMN/range/5/minute/2020-07-22/2020-07-24?unadjusted=False&limit=300&apiKey=PKHFDGG79TL869ZQDE2E\n",
      "500 Server Error: Internal Server Error for url: https://api.polygon.io/v2/aggs/ticker/HRL/range/5/minute/2020-07-22/2020-07-24?unadjusted=False&limit=300&apiKey=PKHFDGG79TL869ZQDE2E\n",
      "500 Server Error: Internal Server Error for url: https://api.polygon.io/v2/aggs/ticker/ICE/range/5/minute/2020-07-22/2020-07-24?unadjusted=False&limit=300&apiKey=PKHFDGG79TL869ZQDE2E\n",
      "500 Server Error: Internal Server Error for url: https://api.polygon.io/v2/aggs/ticker/IR/range/5/minute/2020-07-22/2020-07-24?unadjusted=False&limit=300&apiKey=PKHFDGG79TL869ZQDE2E\n",
      "500 Server Error: Internal Server Error for url: https://api.polygon.io/v2/aggs/ticker/KMB/range/5/minute/2020-07-22/2020-07-24?unadjusted=False&limit=300&apiKey=PKHFDGG79TL869ZQDE2E\n",
      "500 Server Error: Internal Server Error for url: https://api.polygon.io/v2/aggs/ticker/NDAQ/range/5/minute/2020-07-22/2020-07-24?unadjusted=False&limit=300&apiKey=PKHFDGG79TL869ZQDE2E\n",
      "\n"
     ]
    },
    {
     "data": {
      "application/vnd.jupyter.widget-view+json": {
       "model_id": "107c693d78ee45619597f36082bfeb2c",
       "version_major": 2,
       "version_minor": 0
      },
      "text/plain": [
       "HBox(children=(FloatProgress(value=0.0, max=506.0), HTML(value='')))"
      ]
     },
     "metadata": {},
     "output_type": "display_data"
    },
    {
     "name": "stdout",
     "output_type": "stream",
     "text": [
      "An error occured attempting to buy 0.0 shares of AMZN qty must be > 0\n",
      "\n"
     ]
    },
    {
     "data": {
      "application/vnd.jupyter.widget-view+json": {
       "model_id": "3d9bb3cb714a49d3b1472c25951e9e9f",
       "version_major": 2,
       "version_minor": 0
      },
      "text/plain": [
       "HBox(children=(FloatProgress(value=0.0, max=506.0), HTML(value='')))"
      ]
     },
     "metadata": {},
     "output_type": "display_data"
    },
    {
     "name": "stdout",
     "output_type": "stream",
     "text": [
      "500 Server Error: Internal Server Error for url: https://api.polygon.io/v2/aggs/ticker/WYNN/range/5/minute/2020-07-22/2020-07-24?unadjusted=False&limit=300&apiKey=PKHFDGG79TL869ZQDE2E\n",
      "500 Server Error: Internal Server Error for url: https://api.polygon.io/v2/aggs/ticker/ZBH/range/5/minute/2020-07-22/2020-07-24?unadjusted=False&limit=300&apiKey=PKHFDGG79TL869ZQDE2E\n",
      "500 Server Error: Internal Server Error for url: https://api.polygon.io/v2/aggs/ticker/SPY/range/5/minute/2020-07-22/2020-07-24?unadjusted=False&limit=300&apiKey=PKHFDGG79TL869ZQDE2E\n",
      "\n"
     ]
    },
    {
     "data": {
      "application/vnd.jupyter.widget-view+json": {
       "model_id": "f9bb174be1084ecd805274b1bab04f27",
       "version_major": 2,
       "version_minor": 0
      },
      "text/plain": [
       "HBox(children=(FloatProgress(value=0.0, max=506.0), HTML(value='')))"
      ]
     },
     "metadata": {},
     "output_type": "display_data"
    },
    {
     "name": "stdout",
     "output_type": "stream",
     "text": [
      "An error occured attempting to buy 0.0 shares of AMZN qty must be > 0\n",
      "\n"
     ]
    },
    {
     "data": {
      "application/vnd.jupyter.widget-view+json": {
       "model_id": "9d8e48fb8b2c4458b03e1b5373631c80",
       "version_major": 2,
       "version_minor": 0
      },
      "text/plain": [
       "HBox(children=(FloatProgress(value=0.0, max=506.0), HTML(value='')))"
      ]
     },
     "metadata": {},
     "output_type": "display_data"
    },
    {
     "name": "stdout",
     "output_type": "stream",
     "text": [
      "\n"
     ]
    },
    {
     "data": {
      "application/vnd.jupyter.widget-view+json": {
       "model_id": "cc59d47c006149c9b293f66d8cd2b4e3",
       "version_major": 2,
       "version_minor": 0
      },
      "text/plain": [
       "HBox(children=(FloatProgress(value=0.0, max=506.0), HTML(value='')))"
      ]
     },
     "metadata": {},
     "output_type": "display_data"
    },
    {
     "name": "stdout",
     "output_type": "stream",
     "text": [
      "An error occured attempting to buy 0.0 shares of AMZN qty must be > 0\n",
      "\n"
     ]
    },
    {
     "data": {
      "application/vnd.jupyter.widget-view+json": {
       "model_id": "4599f27fd4c144ce99171cb5124da4e2",
       "version_major": 2,
       "version_minor": 0
      },
      "text/plain": [
       "HBox(children=(FloatProgress(value=0.0, max=506.0), HTML(value='')))"
      ]
     },
     "metadata": {},
     "output_type": "display_data"
    },
    {
     "name": "stdout",
     "output_type": "stream",
     "text": [
      "\n"
     ]
    },
    {
     "data": {
      "application/vnd.jupyter.widget-view+json": {
       "model_id": "369894f99b73493db9de0e93e4db7812",
       "version_major": 2,
       "version_minor": 0
      },
      "text/plain": [
       "HBox(children=(FloatProgress(value=0.0, max=506.0), HTML(value='')))"
      ]
     },
     "metadata": {},
     "output_type": "display_data"
    },
    {
     "name": "stdout",
     "output_type": "stream",
     "text": [
      "An error occured attempting to buy 0.0 shares of AMZN qty must be > 0\n",
      "\n"
     ]
    },
    {
     "ename": "KeyboardInterrupt",
     "evalue": "",
     "output_type": "error",
     "traceback": [
      "\u001b[0;31m---------------------------------------------------------------------------\u001b[0m",
      "\u001b[0;31mKeyboardInterrupt\u001b[0m                         Traceback (most recent call last)",
      "\u001b[0;32m<ipython-input-13-b754b55d4685>\u001b[0m in \u001b[0;36m<module>\u001b[0;34m\u001b[0m\n\u001b[1;32m     37\u001b[0m                 \u001b[0msell_stock\u001b[0m\u001b[0;34m(\u001b[0m\u001b[0malpaca\u001b[0m\u001b[0;34m,\u001b[0m \u001b[0msymbol\u001b[0m\u001b[0;34m,\u001b[0m \u001b[0mqty\u001b[0m\u001b[0;34m)\u001b[0m\u001b[0;34m\u001b[0m\u001b[0;34m\u001b[0m\u001b[0m\n\u001b[1;32m     38\u001b[0m \u001b[0;34m\u001b[0m\u001b[0m\n\u001b[0;32m---> 39\u001b[0;31m     \u001b[0mtime\u001b[0m\u001b[0;34m.\u001b[0m\u001b[0msleep\u001b[0m\u001b[0;34m(\u001b[0m\u001b[0;36m10\u001b[0m \u001b[0;34m*\u001b[0m \u001b[0;36m60\u001b[0m\u001b[0;34m)\u001b[0m\u001b[0;34m\u001b[0m\u001b[0;34m\u001b[0m\u001b[0m\n\u001b[0m",
      "\u001b[0;31mKeyboardInterrupt\u001b[0m: "
     ]
    }
   ],
   "source": [
    "while True:\n",
    "    stocks = []\n",
    "\n",
    "    for symbol in tqdm(symbols):\n",
    "        try:\n",
    "            stock = alpaca.polygon.historic_agg_v2(symbol, 5, 'minute',\n",
    "                                                   _from='2020-07-22', to='2020-07-24', limit=300).df\n",
    "            stock['symbol'] = symbol\n",
    "            stocks.append(stock)\n",
    "        except Exception as e:\n",
    "            print(e)\n",
    "            continue\n",
    "            \n",
    "    stocks = pd.concat(stocks)\n",
    "    stocks.reset_index(inplace=True)\n",
    "    \n",
    "    stocks.columns = ['date', 'open', 'high', 'low', 'close', 'volume', 'symbol']\n",
    "    stocks.set_index('symbol', inplace=True)\n",
    "    stocks.date = pd.to_datetime(stocks.date, utc=True)\n",
    "    \n",
    "    stocks_by_symbol = stocks.groupby('symbol')\n",
    "    \n",
    "    open_positions = {position.symbol: position for position in alpaca.list_positions()}\n",
    "    \n",
    "    alpaca.cancel_all_orders()\n",
    "\n",
    "    for symbol in tqdm(symbols):\n",
    "        if symbol in stocks.index: \n",
    "            stock = stocks_by_symbol.get_group(symbol)\n",
    "            ci.compute(stock)\n",
    "            prediction, last_close = predict(stock, columns, model, scaler)\n",
    "            if (prediction >= 0.55) and (symbol not in open_positions):\n",
    "                qty = 1000 // last_close\n",
    "                buy_stock(alpaca, symbol, qty)\n",
    "            elif (prediction < 0.55) and (symbol in open_positions):\n",
    "                qty = open_positions[symbol].qty\n",
    "                sell_stock(alpaca, symbol, qty)\n",
    "    \n",
    "    time.sleep(10 * 60)"
   ]
  }
 ],
 "metadata": {
  "kernelspec": {
   "display_name": "Python 3",
   "language": "python",
   "name": "python3"
  },
  "language_info": {
   "codemirror_mode": {
    "name": "ipython",
    "version": 3
   },
   "file_extension": ".py",
   "mimetype": "text/x-python",
   "name": "python",
   "nbconvert_exporter": "python",
   "pygments_lexer": "ipython3",
   "version": "3.7.3"
  }
 },
 "nbformat": 4,
 "nbformat_minor": 2
}
