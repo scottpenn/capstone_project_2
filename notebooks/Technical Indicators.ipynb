{
 "cells": [
  {
   "cell_type": "code",
   "execution_count": 1,
   "metadata": {},
   "outputs": [],
   "source": [
    "import numpy as np\n",
    "import pandas as pd\n",
    "import matplotlib.pyplot as plt\n",
    "from tqdm.notebook import tqdm\n",
    "import talib as ta"
   ]
  },
  {
   "cell_type": "code",
   "execution_count": 2,
   "metadata": {},
   "outputs": [],
   "source": [
    "stocks = pd.read_csv('../data/clean/top_stocks.csv', parse_dates=True)\n",
    "\n",
    "stocks = stocks.reset_index().set_index(['symbol', 'date']).sort_index().reset_index()"
   ]
  },
  {
   "cell_type": "code",
   "execution_count": 3,
   "metadata": {},
   "outputs": [],
   "source": [
    "stocks_by_symbol = stocks.groupby('symbol')"
   ]
  },
  {
   "cell_type": "code",
   "execution_count": 4,
   "metadata": {},
   "outputs": [],
   "source": [
    "symbols = stocks.symbol.unique()"
   ]
  },
  {
   "cell_type": "code",
   "execution_count": 5,
   "metadata": {},
   "outputs": [],
   "source": [
    "COLUMNS = set()"
   ]
  },
  {
   "cell_type": "code",
   "execution_count": 6,
   "metadata": {},
   "outputs": [],
   "source": [
    "def technical_indicator(stock, name, func, normalize, *args, **kwargs):\n",
    "    if 'normalize_by' not in kwargs:\n",
    "        kwargs['normalize_by'] = args[0]\n",
    "        \n",
    "    stock.loc[:, name] = func(*args) / (kwargs['normalize_by'] if normalize else 1)\n",
    "    COLUMNS.add(name)\n",
    "    \n",
    "def technical_indicator_time_periods(stock, name, func, timeperiods, normalize=False, *args, **kwargs):\n",
    "    if 'normalize_by' not in kwargs:\n",
    "        kwargs['normalize_by'] = args[0]\n",
    "    \n",
    "    for tp in timeperiods:\n",
    "        column = f'{name}_{tp}'\n",
    "        stock.loc[:, column] = func(*args, timeperiod=tp) / (kwargs['normalize_by'] if normalize else 1)\n",
    "        COLUMNS.add(column)"
   ]
  },
  {
   "cell_type": "markdown",
   "metadata": {},
   "source": [
    "## Overlap Studies"
   ]
  },
  {
   "cell_type": "code",
   "execution_count": 7,
   "metadata": {},
   "outputs": [],
   "source": [
    "def bollinger_bands(stock, timeperiods, close):\n",
    "    for tp in timeperiods:\n",
    "        column_upper = f'bb_upper_{tp}'\n",
    "        column_middle = f'bb_middle_{tp}'\n",
    "        column_lower = f'bb_lower_{tp}'\n",
    "        column_width = f'bb_width_{tp}'\n",
    "        \n",
    "        upper, middle, lower = ta.BBANDS(close, timeperiod=tp)\n",
    "        \n",
    "        stock.loc[:, column_upper] = upper / close\n",
    "        stock.loc[:, column_middle] = middle / close\n",
    "        stock.loc[:, column_lower] = lower / close\n",
    "        stock.loc[:, column_width] = (upper - lower) / close\n",
    "        \n",
    "        COLUMNS.update([column_upper, column_middle, column_lower, column_width])"
   ]
  },
  {
   "cell_type": "code",
   "execution_count": 8,
   "metadata": {},
   "outputs": [],
   "source": [
    "def double_exponential_moving_average(stock, timeperiods, close):\n",
    "    technical_indicator_time_periods(stock, 'dema', ta.DEMA, timeperiods, True, close)"
   ]
  },
  {
   "cell_type": "code",
   "execution_count": 9,
   "metadata": {},
   "outputs": [],
   "source": [
    "def exponential_moving_average(stock, timeperiods, close):\n",
    "    technical_indicator_time_periods(stock, 'ema', ta.EMA, timeperiods, True, close)"
   ]
  },
  {
   "cell_type": "code",
   "execution_count": 10,
   "metadata": {},
   "outputs": [],
   "source": [
    "def hilbert_transform_trendline(stock, close):\n",
    "    technical_indicator(stock, 'ht_trendline', ta.HT_TRENDLINE, True, close)"
   ]
  },
  {
   "cell_type": "code",
   "execution_count": 11,
   "metadata": {},
   "outputs": [],
   "source": [
    "def kaufman_adaptive_moving_average(stock, timeperiods, close):\n",
    "    technical_indicator_time_periods(stock, 'kama', ta.KAMA, timeperiods, True, close)"
   ]
  },
  {
   "cell_type": "code",
   "execution_count": 12,
   "metadata": {},
   "outputs": [],
   "source": [
    "def moving_average(stock, timeperiods, close):\n",
    "    technical_indicator_time_periods(stock, 'ma', ta.MA, timeperiods, True, close)"
   ]
  },
  {
   "cell_type": "code",
   "execution_count": 13,
   "metadata": {},
   "outputs": [],
   "source": [
    "def mesa_adaptive_moving_average(stock, close):\n",
    "    mama, fama = ta.MAMA(close, fastlimit=0.9, slowlimit=0.1)\n",
    "\n",
    "    stock.loc[:, 'mama'] = mama / close\n",
    "    stock.loc[:, 'fama'] = fama / close\n",
    "\n",
    "    COLUMNS.update(['mama', 'fama'])"
   ]
  },
  {
   "cell_type": "code",
   "execution_count": 14,
   "metadata": {},
   "outputs": [],
   "source": [
    "def midpoint_over_period(stock, timeperiods, close):\n",
    "    technical_indicator_time_periods(stock, 'midpoint', ta.MIDPOINT, timeperiods, True, close)"
   ]
  },
  {
   "cell_type": "code",
   "execution_count": 15,
   "metadata": {},
   "outputs": [],
   "source": [
    "def midpoint_price_over_period(stock, timeperiods, high, low, close):\n",
    "    technical_indicator_time_periods(stock, 'midprice', ta.MIDPRICE, timeperiods, True, high, low, normalize_by=close)"
   ]
  },
  {
   "cell_type": "code",
   "execution_count": 16,
   "metadata": {},
   "outputs": [],
   "source": [
    "def parabolic_sar(stock, high, low, close):\n",
    "    technical_indicator(stock, 'sar', ta.SAR, True, high, low, normalize_by=close)"
   ]
  },
  {
   "cell_type": "code",
   "execution_count": 17,
   "metadata": {},
   "outputs": [],
   "source": [
    "def triple_exponential_moving_average_t3(stock, timeperiods, close):\n",
    "    for tp in timeperiods:\n",
    "        column = f't3_{tp}'\n",
    "        stock.loc[:, column] = ta.T3(close, timeperiod=tp, vfactor=0.7) / close\n",
    "        COLUMNS.add(column)"
   ]
  },
  {
   "cell_type": "code",
   "execution_count": 18,
   "metadata": {},
   "outputs": [],
   "source": [
    "def triple_exponential_moving_average(stock, timeperiods, close):\n",
    "    technical_indicator_time_periods(stock, 'tema', ta.TEMA, timeperiods, True, close)"
   ]
  },
  {
   "cell_type": "code",
   "execution_count": 19,
   "metadata": {},
   "outputs": [],
   "source": [
    "def triangular_moving_average(stock, timeperiods, close):\n",
    "    technical_indicator_time_periods(stock, 'trima', ta.TRIMA, timeperiods, True, close)"
   ]
  },
  {
   "cell_type": "code",
   "execution_count": 20,
   "metadata": {},
   "outputs": [],
   "source": [
    "def weighted_moving_average(stock, timeperiods, close):\n",
    "    technical_indicator_time_periods(stock, 'wma', ta.WMA, timeperiods, True, close)"
   ]
  },
  {
   "cell_type": "markdown",
   "metadata": {},
   "source": [
    "## Momentum Indicators"
   ]
  },
  {
   "cell_type": "code",
   "execution_count": 21,
   "metadata": {},
   "outputs": [],
   "source": [
    "def average_directional_movement_index(stock, timeperiods, high, low, close):\n",
    "    technical_indicator_time_periods(stock, 'adx', ta.ADX, timeperiods, False, high, low, close)\n",
    "    technical_indicator_time_periods(stock, 'adxr', ta.ADXR, timeperiods, False, high, low, close)"
   ]
  },
  {
   "cell_type": "code",
   "execution_count": 22,
   "metadata": {},
   "outputs": [],
   "source": [
    "def absolute_price_oscillator(stock, close):\n",
    "    technical_indicator(stock, 'apo', ta.APO, True, close)"
   ]
  },
  {
   "cell_type": "code",
   "execution_count": 23,
   "metadata": {},
   "outputs": [],
   "source": [
    "def balance_of_power(stock, open_, high, low, close):\n",
    "    technical_indicator(stock, 'bop', ta.BOP, False, open_, high, low, close)"
   ]
  },
  {
   "cell_type": "code",
   "execution_count": 24,
   "metadata": {},
   "outputs": [],
   "source": [
    "def commodity_channel_index(stock, timeperiods, high, low, close):\n",
    "    technical_indicator_time_periods(stock, 'cci', ta.CCI, timeperiods, False, high, low, close)"
   ]
  },
  {
   "cell_type": "code",
   "execution_count": 25,
   "metadata": {},
   "outputs": [],
   "source": [
    "def chande_momentum_oscillator(stock, timeperiods, close):\n",
    "    technical_indicator_time_periods(stock, 'cmo', ta.CMO, timeperiods, False, close)"
   ]
  },
  {
   "cell_type": "code",
   "execution_count": 26,
   "metadata": {},
   "outputs": [],
   "source": [
    "def directional_movement(stock, timeperiods, high, low, close):\n",
    "    technical_indicator_time_periods(stock, 'plus_dm', ta.PLUS_DM, timeperiods, True, high, low, normalize_by=close)\n",
    "    technical_indicator_time_periods(stock, 'minus_dm', ta.MINUS_DM, timeperiods, True, high, low, normalize_by=close)\n",
    "    technical_indicator_time_periods(stock, 'dx', ta.DX, timeperiods, False, high, low, close)"
   ]
  },
  {
   "cell_type": "code",
   "execution_count": 27,
   "metadata": {},
   "outputs": [],
   "source": [
    "def directional_indicator(stock, timeperiods, high, low, close):\n",
    "    technical_indicator_time_periods(stock, 'plus_di', ta.PLUS_DI, timeperiods, False, high, low, close)\n",
    "    technical_indicator_time_periods(stock, 'minus_di', ta.MINUS_DI, timeperiods, False, high, low, close)"
   ]
  },
  {
   "cell_type": "code",
   "execution_count": 28,
   "metadata": {},
   "outputs": [],
   "source": [
    "def moving_average_convergence_divergence(stock, close):\n",
    "    line, hist, signal = ta.MACD(close)\n",
    "\n",
    "    stock.loc[:, 'macd_line'] = line / close\n",
    "    stock.loc[:, 'macd_hist'] = hist / close\n",
    "    stock.loc[:, 'macd_signal'] = signal / close\n",
    "\n",
    "    COLUMNS.update(['macd_line', 'macd_hist', 'macd_signal'])"
   ]
  },
  {
   "cell_type": "code",
   "execution_count": 29,
   "metadata": {},
   "outputs": [],
   "source": [
    "def money_flow_index(stock, timeperiods, high, low, close, volume):\n",
    "    technical_indicator_time_periods(stock, 'mfi', ta.MFI, timeperiods, False, high, low, close, volume)"
   ]
  },
  {
   "cell_type": "code",
   "execution_count": 30,
   "metadata": {},
   "outputs": [],
   "source": [
    "def momentum(stock, timeperiods, close):\n",
    "    technical_indicator_time_periods(stock, 'mom', ta.MOM, timeperiods, True, close)"
   ]
  },
  {
   "cell_type": "code",
   "execution_count": 31,
   "metadata": {},
   "outputs": [],
   "source": [
    "def percentage_price_oscillator(stock, close):\n",
    "    technical_indicator(stock, 'ppo', ta.PPO, True, close)"
   ]
  },
  {
   "cell_type": "code",
   "execution_count": 32,
   "metadata": {},
   "outputs": [],
   "source": [
    "def rate_of_change(stock, timeperiods, close):\n",
    "    technical_indicator_time_periods(stock, 'roc', ta.ROC, timeperiods, False, close)\n",
    "    technical_indicator_time_periods(stock, 'rocp', ta.ROCP, timeperiods, False, close)\n",
    "    technical_indicator_time_periods(stock, 'rocr', ta.ROCR, timeperiods, False, close)"
   ]
  },
  {
   "cell_type": "code",
   "execution_count": 33,
   "metadata": {},
   "outputs": [],
   "source": [
    "def relative_strength_index(stock, timeperiods, close):\n",
    "    technical_indicator_time_periods(stock, 'rsi', ta.RSI, timeperiods, False, close)"
   ]
  },
  {
   "cell_type": "code",
   "execution_count": 34,
   "metadata": {},
   "outputs": [],
   "source": [
    "def stochastic(stock, high, low, close):\n",
    "    slow_k, slow_d = ta.STOCH(high, low, close)\n",
    "    fast_k, fast_d = ta.STOCHF(high, low, close)\n",
    "    rsi_k, rsi_d = ta.STOCHRSI(close)\n",
    "\n",
    "    stock.loc[:, 'slow_k'] = slow_k\n",
    "    stock.loc[:, 'slow_d'] = slow_d\n",
    "    stock.loc[:, 'fast_k'] = fast_k\n",
    "    stock.loc[:, 'fast_d'] = fast_d\n",
    "    stock.loc[:, 'rsi_k'] = rsi_k\n",
    "    stock.loc[:, 'rsi_d'] = rsi_d\n",
    "\n",
    "    COLUMNS.update(['slow_k', 'slow_d', 'fast_k', 'fast_d', 'rsi_k', 'rsi_d'])"
   ]
  },
  {
   "cell_type": "code",
   "execution_count": 35,
   "metadata": {},
   "outputs": [],
   "source": [
    "def stochastic_rsi(stock, timeperiods, close):\n",
    "    \n",
    "\n",
    "    stock.loc[:, 'slow_k'] = slow_k\n",
    "    stock.loc[:, 'slow_d'] = slow_d\n",
    "    stock.loc[:, 'fast_k'] = fast_k\n",
    "    stock.loc[:, 'fast_d'] = fast_d\n",
    "\n",
    "    COLUMNS.update(['slow_k', 'slow_d', 'fast_k', 'fast_d'])"
   ]
  },
  {
   "cell_type": "code",
   "execution_count": 36,
   "metadata": {},
   "outputs": [],
   "source": [
    "def one_day_rate_of_change_of_a_triple_smooth_ema(stock, timeperiods, close):\n",
    "    technical_indicator_time_periods(stock, 'trix', ta.TRIX, timeperiods, True, close)"
   ]
  },
  {
   "cell_type": "code",
   "execution_count": 37,
   "metadata": {},
   "outputs": [],
   "source": [
    "def ultimate_oscillator(stock, high, low, close):\n",
    "    technical_indicator(stock, 'ult_osc', ta.ULTOSC, False, high, low, close)"
   ]
  },
  {
   "cell_type": "code",
   "execution_count": 38,
   "metadata": {},
   "outputs": [],
   "source": [
    "def williams_percent_r(stock, timeperiods, high, low, close):\n",
    "    technical_indicator_time_periods(stock, 'will_r', ta.WILLR, timeperiods, False, high, low, close)"
   ]
  },
  {
   "cell_type": "markdown",
   "metadata": {},
   "source": [
    "## Volume Indicators"
   ]
  },
  {
   "cell_type": "code",
   "execution_count": 39,
   "metadata": {},
   "outputs": [],
   "source": [
    "def chaikin_ad(stock, high, low, close, volume):\n",
    "    technical_indicator(stock, 'chaikin_ad_line', ta.AD, True, high, low, close, volume, normalize_by=volume)\n",
    "    technical_indicator(stock, 'chaikin_ad_osc', ta.ADOSC, True, high, low, close, volume, normalize_by=volume)"
   ]
  },
  {
   "cell_type": "code",
   "execution_count": 40,
   "metadata": {},
   "outputs": [],
   "source": [
    "def on_balance_volume(stock, close, volume):\n",
    "    technical_indicator(stock, 'obv', ta.OBV, True, close, volume, normalize_by=volume)"
   ]
  },
  {
   "cell_type": "markdown",
   "metadata": {},
   "source": [
    "## Volatility Indicators"
   ]
  },
  {
   "cell_type": "code",
   "execution_count": 41,
   "metadata": {},
   "outputs": [],
   "source": [
    "def normalized_average_true_range(stock, timeperiods, high, low, close):\n",
    "    technical_indicator_time_periods(stock, 'natr', ta.NATR, timeperiods, False, high, low, close)"
   ]
  },
  {
   "cell_type": "code",
   "execution_count": 42,
   "metadata": {},
   "outputs": [],
   "source": [
    "def true_range(stock, high, low, close):\n",
    "    technical_indicator(stock, 'trange', ta.TRANGE, True, high, low, close, normalize_by=close)"
   ]
  },
  {
   "cell_type": "markdown",
   "metadata": {},
   "source": [
    "## Price Transform"
   ]
  },
  {
   "cell_type": "code",
   "execution_count": 43,
   "metadata": {},
   "outputs": [],
   "source": [
    "def average_price(stock, open_, high, low, close):\n",
    "    technical_indicator(stock, 'avg_price', ta.AVGPRICE, True, open_, high, low, close, normalize_by=close)"
   ]
  },
  {
   "cell_type": "code",
   "execution_count": 44,
   "metadata": {},
   "outputs": [],
   "source": [
    "def median_price(stock, high, low, close):\n",
    "    technical_indicator(stock, 'median_price', ta.MEDPRICE, True, high, low, normalize_by=close)"
   ]
  },
  {
   "cell_type": "code",
   "execution_count": 45,
   "metadata": {},
   "outputs": [],
   "source": [
    "def typical_price(stock, high, low, close):\n",
    "    technical_indicator(stock, 'typical_price', ta.TYPPRICE, True, high, low, close, normalize_by=close)"
   ]
  },
  {
   "cell_type": "code",
   "execution_count": 46,
   "metadata": {},
   "outputs": [],
   "source": [
    "def weighted_close_price(stock, high, low, close):\n",
    "    technical_indicator(stock, 'wcl_price', ta.WCLPRICE, True, high, low, close, normalize_by=close)"
   ]
  },
  {
   "cell_type": "markdown",
   "metadata": {},
   "source": [
    "## Cycle Indicators"
   ]
  },
  {
   "cell_type": "code",
   "execution_count": 47,
   "metadata": {},
   "outputs": [],
   "source": [
    "def dominant_cycle_period(stock, close):\n",
    "    technical_indicator(stock, 'ht_dcperiod', ta.HT_DCPERIOD, False, close)"
   ]
  },
  {
   "cell_type": "code",
   "execution_count": 48,
   "metadata": {},
   "outputs": [],
   "source": [
    "def dominant_cycle_phase(stock, close):\n",
    "    technical_indicator(stock, 'ht_dcphase', ta.HT_DCPHASE, False, close)"
   ]
  },
  {
   "cell_type": "code",
   "execution_count": 49,
   "metadata": {},
   "outputs": [],
   "source": [
    "def phasor_components(stock, close):\n",
    "    inphase, quadrature = ta.HT_PHASOR(close)\n",
    "    \n",
    "    stock.loc[:, 'ht_phasor_inphase'] = inphase\n",
    "    stock.loc[:, 'ht_phasor_quadrature'] = quadrature\n",
    "    \n",
    "    COLUMNS.update(['ht_phasor_inphase', 'ht_phasor_quadrature'])"
   ]
  },
  {
   "cell_type": "code",
   "execution_count": 50,
   "metadata": {},
   "outputs": [],
   "source": [
    "def sine_wave(stock, close):\n",
    "    sine, lead = ta.HT_SINE(close)\n",
    "    \n",
    "    stock.loc[:, 'ht_sine'] = sine\n",
    "    stock.loc[:, 'ht_sine_lead'] = lead\n",
    "    \n",
    "    COLUMNS.update(['ht_sine', 'ht_sine_lead'])"
   ]
  },
  {
   "cell_type": "code",
   "execution_count": 51,
   "metadata": {},
   "outputs": [],
   "source": [
    "def trend_mode(stock, close):\n",
    "    technical_indicator(stock, 'ht_trendmode', ta.HT_TRENDMODE, False, close)"
   ]
  },
  {
   "cell_type": "markdown",
   "metadata": {},
   "source": [
    "## Pattern Recognition"
   ]
  },
  {
   "cell_type": "code",
   "execution_count": 52,
   "metadata": {},
   "outputs": [],
   "source": [
    "def pattern_recognition(stock, open_, high, low, close):\n",
    "    technical_indicator(stock, 'two_crows', ta.CDL2CROWS, False, open_, high, low, close)\n",
    "    technical_indicator(stock, 'three_black_crows', ta.CDL3BLACKCROWS, False, open_, high, low, close)\n",
    "    technical_indicator(stock, 'three_inside_up_down', ta.CDL3INSIDE, False, open_, high, low, close)\n",
    "    technical_indicator(stock, 'three_line_strike', ta.CDL3LINESTRIKE, False, open_, high, low, close)\n",
    "    technical_indicator(stock, 'three_outside_up_down', ta.CDL3OUTSIDE, False, open_, high, low, close)\n",
    "    technical_indicator(stock, 'three_stars_in_the_south', ta.CDL3STARSINSOUTH, False, open_, high, low, close)\n",
    "    technical_indicator(stock, 'three_advancing_white_soldiers', ta.CDL3WHITESOLDIERS, False, open_, high, low, close)\n",
    "    technical_indicator(stock, 'abandoned_baby', ta.CDLABANDONEDBABY, False, open_, high, low, close)\n",
    "    technical_indicator(stock, 'advance_block', ta.CDLADVANCEBLOCK, False, open_, high, low, close)\n",
    "    technical_indicator(stock, 'belt_hold', ta.CDLBELTHOLD, False, open_, high, low, close)\n",
    "    technical_indicator(stock, 'breakaway', ta.CDLBREAKAWAY, False, open_, high, low, close)\n",
    "    technical_indicator(stock, 'closing_marubozu', ta.CDLCLOSINGMARUBOZU, False, open_, high, low, close)\n",
    "    technical_indicator(stock, 'concealing_baby_swallow', ta.CDLCONCEALBABYSWALL, False, open_, high, low, close)\n",
    "    technical_indicator(stock, 'counterattack', ta.CDLCOUNTERATTACK, False, open_, high, low, close)\n",
    "    technical_indicator(stock, 'dark_cloud_cover', ta.CDLDARKCLOUDCOVER, False, open_, high, low, close)\n",
    "    technical_indicator(stock, 'doji', ta.CDLDOJI, False, open_, high, low, close)\n",
    "    technical_indicator(stock, 'doji_star', ta.CDLDOJISTAR, False, open_, high, low, close)\n",
    "    technical_indicator(stock, 'dragonfly_doji', ta.CDLDRAGONFLYDOJI, False, open_, high, low, close)\n",
    "    technical_indicator(stock, 'engulfing_patter', ta.CDLENGULFING, False, open_, high, low, close)\n",
    "    technical_indicator(stock, 'evening_doji_star', ta.CDLEVENINGDOJISTAR, False, open_, high, low, close)\n",
    "    technical_indicator(stock, 'evening_star', ta.CDLEVENINGSTAR, False, open_, high, low, close)\n",
    "    technical_indicator(stock, 'up_down_gap_side_by_side_white_lines', ta.CDLGAPSIDESIDEWHITE, False, open_, high, low, close)\n",
    "    technical_indicator(stock, 'gravestone_doji', ta.CDLGRAVESTONEDOJI, False, open_, high, low, close)\n",
    "    technical_indicator(stock, 'hammer', ta.CDLHAMMER, False, open_, high, low, close)\n",
    "    technical_indicator(stock, 'hanging_man', ta.CDLHANGINGMAN, False, open_, high, low, close)\n",
    "    technical_indicator(stock, 'harami_pattern', ta.CDLHARAMI, False, open_, high, low, close)\n",
    "    technical_indicator(stock, 'harami_cross_pattern', ta.CDLHARAMICROSS, False, open_, high, low, close)\n",
    "    technical_indicator(stock, 'high_wave_candle', ta.CDLHIGHWAVE, False, open_, high, low, close)\n",
    "    technical_indicator(stock, 'hikkake_pattern', ta.CDLHIKKAKE, False, open_, high, low, close)\n",
    "    technical_indicator(stock, 'modified_hikkake_pattern', ta.CDLHIKKAKEMOD, False, open_, high, low, close)\n",
    "    technical_indicator(stock, 'homing_pigeon', ta.CDLHOMINGPIGEON, False, open_, high, low, close)\n",
    "    technical_indicator(stock, 'identical_three_crows', ta.CDLIDENTICAL3CROWS, False, open_, high, low, close)\n",
    "    technical_indicator(stock, 'in_neck_pattern', ta.CDLINNECK, False, open_, high, low, close)\n",
    "    technical_indicator(stock, 'inverted_hammer', ta.CDLINVERTEDHAMMER, False, open_, high, low, close)\n",
    "    technical_indicator(stock, 'kicking', ta.CDLKICKING, False, open_, high, low, close)\n",
    "    technical_indicator(stock, 'kicking_by_length', ta.CDLKICKINGBYLENGTH, False, open_, high, low, close)\n",
    "    technical_indicator(stock, 'ladder_bottom', ta.CDLLADDERBOTTOM, False, open_, high, low, close)\n",
    "    technical_indicator(stock, 'long_legged_doji', ta.CDLLONGLEGGEDDOJI, False, open_, high, low, close)\n",
    "    technical_indicator(stock, 'long_line_candle', ta.CDLLONGLINE, False, open_, high, low, close)\n",
    "    technical_indicator(stock, 'marubozu', ta.CDLMARUBOZU, False, open_, high, low, close)\n",
    "    technical_indicator(stock, 'matching_low', ta.CDLMATCHINGLOW, False, open_, high, low, close)\n",
    "    technical_indicator(stock, 'mat_hold', ta.CDLMATHOLD, False, open_, high, low, close)\n",
    "    technical_indicator(stock, 'morning_doji_star', ta.CDLMORNINGDOJISTAR, False, open_, high, low, close)\n",
    "    technical_indicator(stock, 'morning_star', ta.CDLMORNINGSTAR, False, open_, high, low, close)\n",
    "    technical_indicator(stock, 'on_neck_pattern', ta.CDLONNECK, False, open_, high, low, close)\n",
    "    technical_indicator(stock, 'piercing_pattern', ta.CDLPIERCING, False, open_, high, low, close)\n",
    "    technical_indicator(stock, 'rickshaw_man', ta.CDLRICKSHAWMAN, False, open_, high, low, close)\n",
    "    technical_indicator(stock, 'rising_falling_three_methods', ta.CDLRISEFALL3METHODS, False, open_, high, low, close)\n",
    "    technical_indicator(stock, 'separating_lines', ta.CDLSEPARATINGLINES, False, open_, high, low, close)\n",
    "    technical_indicator(stock, 'shooting_star', ta.CDLSHOOTINGSTAR, False, open_, high, low, close)\n",
    "    technical_indicator(stock, 'short_line_candle', ta.CDLSHORTLINE, False, open_, high, low, close)\n",
    "    technical_indicator(stock, 'spinning_top', ta.CDLSPINNINGTOP, False, open_, high, low, close)\n",
    "    technical_indicator(stock, 'stalled_pattern', ta.CDLSTALLEDPATTERN, False, open_, high, low, close)\n",
    "    technical_indicator(stock, 'stick_sandwich', ta.CDLSTICKSANDWICH, False, open_, high, low, close)\n",
    "    technical_indicator(stock, 'takuri', ta.CDLTAKURI, False, open_, high, low, close)\n",
    "    technical_indicator(stock, 'tasuki_gap', ta.CDLTASUKIGAP, False, open_, high, low, close)\n",
    "    technical_indicator(stock, 'thrusting_pattern', ta.CDLTHRUSTING, False, open_, high, low, close)\n",
    "    technical_indicator(stock, 'tristar_pattern', ta.CDLTRISTAR, False, open_, high, low, close)\n",
    "    technical_indicator(stock, 'unique_three_river', ta.CDLUNIQUE3RIVER, False, open_, high, low, close)\n",
    "    technical_indicator(stock, 'upside_gap_two_crows', ta.CDLUPSIDEGAP2CROWS, False, open_, high, low, close)\n",
    "    technical_indicator(stock, 'upside_downside_gap_three_methods', ta.CDLXSIDEGAP3METHODS, False, open_, high, low, close)"
   ]
  },
  {
   "cell_type": "markdown",
   "metadata": {},
   "source": [
    "## Statistic Functions"
   ]
  },
  {
   "cell_type": "code",
   "execution_count": 53,
   "metadata": {},
   "outputs": [],
   "source": [
    "def beta(stock, timeperiods, high, low):\n",
    "    technical_indicator_time_periods(stock, 'beta', ta.BETA, timeperiods, False, high, low)"
   ]
  },
  {
   "cell_type": "code",
   "execution_count": 54,
   "metadata": {},
   "outputs": [],
   "source": [
    "def pearsons_correlation_coefficient(stock, timeperiods, high, low):\n",
    "    technical_indicator_time_periods(stock, 'correl', ta.CORREL, timeperiods, False, high, low)"
   ]
  },
  {
   "cell_type": "code",
   "execution_count": 55,
   "metadata": {},
   "outputs": [],
   "source": [
    "def linear_regression(stock, timeperiods, close):\n",
    "    technical_indicator_time_periods(stock, 'linear_regression', ta.LINEARREG, timeperiods, True, close)\n",
    "    technical_indicator_time_periods(stock, 'linear_regression_angle', ta.LINEARREG_ANGLE, timeperiods, False, close)\n",
    "    technical_indicator_time_periods(stock, 'linear_regression_intercept', ta.LINEARREG_INTERCEPT, timeperiods, True, close)\n",
    "    technical_indicator_time_periods(stock, 'linear_regression_slope', ta.LINEARREG_SLOPE, timeperiods, True, close)"
   ]
  },
  {
   "cell_type": "code",
   "execution_count": 56,
   "metadata": {},
   "outputs": [],
   "source": [
    "def standard_deviation(stock, timeperiods, close):\n",
    "    technical_indicator_time_periods(stock, 'std', ta.STDDEV, timeperiods, True, close)"
   ]
  },
  {
   "cell_type": "code",
   "execution_count": 57,
   "metadata": {},
   "outputs": [],
   "source": [
    "def time_series_forecast(stock, timeperiods, close):\n",
    "    technical_indicator_time_periods(stock, 'tsf', ta.TSF, timeperiods, True, close)"
   ]
  },
  {
   "cell_type": "code",
   "execution_count": 58,
   "metadata": {},
   "outputs": [],
   "source": [
    "def variance(stock, timeperiods, close):\n",
    "    technical_indicator_time_periods(stock, 'var', ta.VAR, timeperiods, True, close)"
   ]
  },
  {
   "cell_type": "markdown",
   "metadata": {},
   "source": [
    "## Compute Indicators"
   ]
  },
  {
   "cell_type": "code",
   "execution_count": 59,
   "metadata": {},
   "outputs": [],
   "source": [
    "def compute_indicators_test(stock):\n",
    "    \n",
    "    open_ = stock.loc[:, 'open']\n",
    "    high = stock.loc[:, 'high']\n",
    "    low = stock.loc[:, 'low']\n",
    "    close = stock.loc[:, 'close']\n",
    "    volume = stock.loc[:, 'volume']\n",
    "    \n",
    "    timeperiods = [5, 10, 20, 30, 50, 100]\n",
    "    \n",
    "    # Overlap Studies\n",
    "    \n",
    "    bollinger_bands(stock, timeperiods, close)\n",
    "    \n",
    "    double_exponential_moving_average(stock, timeperiods, close)\n",
    "    \n",
    "    exponential_moving_average(stock, timeperiods, close)\n",
    "    \n",
    "    hilbert_transform_trendline(stock, close)\n",
    "    \n",
    "    kaufman_adaptive_moving_average(stock, timeperiods, close)\n",
    "    \n",
    "    moving_average(stock, timeperiods, close)\n",
    "    \n",
    "    mesa_adaptive_moving_average(stock, close)\n",
    "    \n",
    "    midpoint_over_period(stock, timeperiods, close)\n",
    "    \n",
    "    midpoint_price_over_period(stock, timeperiods, high, low, close)\n",
    "    \n",
    "    parabolic_sar(stock, high, low, close)\n",
    "    \n",
    "    triple_exponential_moving_average_t3(stock, timeperiods, close)\n",
    "    \n",
    "    triple_exponential_moving_average(stock, timeperiods, close)\n",
    "    \n",
    "    triangular_moving_average(stock, timeperiods, close)\n",
    "    \n",
    "    weighted_moving_average(stock, timeperiods, close)\n",
    "    \n",
    "    # Momentum Indicators\n",
    "    \n",
    "    average_directional_movement_index(stock, timeperiods, high, low, close)\n",
    "    \n",
    "    absolute_price_oscillator(stock, close)\n",
    "    \n",
    "    balance_of_power(stock, open_, high, low, close)\n",
    "    \n",
    "    commodity_channel_index(stock, timeperiods, high, low, close)\n",
    "        \n",
    "    chande_momentum_oscillator(stock, timeperiods, close)\n",
    "    \n",
    "    directional_movement(stock, timeperiods, high, low, close)\n",
    "    \n",
    "    directional_indicator(stock, timeperiods, high, low, close)\n",
    "    \n",
    "    moving_average_convergence_divergence(stock, close)\n",
    "    \n",
    "    money_flow_index(stock, timeperiods, high, low, close, volume)\n",
    "    \n",
    "    momentum(stock, timeperiods, close)\n",
    "    \n",
    "    percentage_price_oscillator(stock, close)\n",
    "    \n",
    "    rate_of_change(stock, timeperiods, close)\n",
    "    \n",
    "    relative_strength_index(stock, timeperiods, close)\n",
    "    \n",
    "    stochastic(stock, high, low, close)\n",
    "    \n",
    "    one_day_rate_of_change_of_a_triple_smooth_ema(stock, timeperiods, close)\n",
    "    \n",
    "    ultimate_oscillator(stock, high, low, close)\n",
    "    \n",
    "    williams_percent_r(stock, timeperiods, high, low, close)\n",
    "    \n",
    "    # Volume Indicators\n",
    "    \n",
    "    chaikin_ad(stock, high, low, close, volume)\n",
    "    \n",
    "    on_balance_volume(stock, close, volume)\n",
    "    \n",
    "    # Volatility Indicators\n",
    "    \n",
    "    normalized_average_true_range(stock, timeperiods, high, low, close)\n",
    "    \n",
    "    true_range(stock, high, low, close)\n",
    "    \n",
    "    # Price Transform\n",
    "    \n",
    "    average_price(stock, open_, high, low, close)\n",
    "    \n",
    "    median_price(stock, high, low, close)\n",
    "    \n",
    "    typical_price(stock, high, low, close)\n",
    "    \n",
    "    weighted_close_price(stock, high, low, close)\n",
    "    \n",
    "    # Cycle Indicators\n",
    "    \n",
    "    dominant_cycle_period(stock, close)\n",
    "    \n",
    "    dominant_cycle_phase(stock, close)\n",
    "    \n",
    "    phasor_components(stock, close)\n",
    "    \n",
    "    sine_wave(stock, close)\n",
    "    \n",
    "    trend_mode(stock, close)\n",
    "    \n",
    "    # Pattern Recognition\n",
    "    \n",
    "    # pattern_recognition(stock, open_, high, low, close)\n",
    "    \n",
    "    # Statistic Functions\n",
    "    \n",
    "    beta(stock, timeperiods, high, low)\n",
    "    \n",
    "    pearsons_correlation_coefficient(stock, timeperiods, high, low)\n",
    "    \n",
    "    linear_regression(stock, timeperiods, close)\n",
    "    \n",
    "    standard_deviation(stock, timeperiods, close)\n",
    "    \n",
    "    time_series_forecast(stock, timeperiods, close)\n",
    "    \n",
    "    variance(stock, timeperiods, close)\n",
    "    \n",
    "    # Forecast\n",
    "    stock.loc[:, 'forecast'] = -close.diff(-1) / close\n",
    "    \n",
    "    # Buy Signal\n",
    "    stock.loc[:, 'buy_signal'] = (stock.loc[:, 'forecast'] > 0).astype(float)\n",
    "    \n",
    "    return stock"
   ]
  },
  {
   "cell_type": "code",
   "execution_count": 60,
   "metadata": {},
   "outputs": [
    {
     "data": {
      "application/vnd.jupyter.widget-view+json": {
       "model_id": "da28db0e3f1c4170996a884a12566b47",
       "version_major": 2,
       "version_minor": 0
      },
      "text/plain": [
       "HBox(children=(FloatProgress(value=1.0, bar_style='info', max=1.0), HTML(value='')))"
      ]
     },
     "metadata": {},
     "output_type": "display_data"
    },
    {
     "name": "stdout",
     "output_type": "stream",
     "text": [
      "\n"
     ]
    }
   ],
   "source": [
    "groups = np.empty(len(symbols), dtype=object)\n",
    "\n",
    "for i, symbol in tqdm(enumerate(symbols)):\n",
    "    groups[i] = stocks_by_symbol.get_group(symbol)"
   ]
  },
  {
   "cell_type": "code",
   "execution_count": 61,
   "metadata": {},
   "outputs": [
    {
     "data": {
      "application/vnd.jupyter.widget-view+json": {
       "model_id": "dcb108dedd7b409c98689f9d3317fbe6",
       "version_major": 2,
       "version_minor": 0
      },
      "text/plain": [
       "HBox(children=(FloatProgress(value=1.0, bar_style='info', max=1.0), HTML(value='')))"
      ]
     },
     "metadata": {},
     "output_type": "display_data"
    },
    {
     "name": "stderr",
     "output_type": "stream",
     "text": [
      "/usr/local/anaconda3/lib/python3.7/site-packages/pandas/core/indexing.py:376: SettingWithCopyWarning: \n",
      "A value is trying to be set on a copy of a slice from a DataFrame.\n",
      "Try using .loc[row_indexer,col_indexer] = value instead\n",
      "\n",
      "See the caveats in the documentation: http://pandas.pydata.org/pandas-docs/stable/user_guide/indexing.html#returning-a-view-versus-a-copy\n",
      "  self.obj[key] = _infer_fill_value(value)\n",
      "/usr/local/anaconda3/lib/python3.7/site-packages/pandas/core/indexing.py:494: SettingWithCopyWarning: \n",
      "A value is trying to be set on a copy of a slice from a DataFrame.\n",
      "Try using .loc[row_indexer,col_indexer] = value instead\n",
      "\n",
      "See the caveats in the documentation: http://pandas.pydata.org/pandas-docs/stable/user_guide/indexing.html#returning-a-view-versus-a-copy\n",
      "  self.obj[item] = s\n"
     ]
    },
    {
     "name": "stdout",
     "output_type": "stream",
     "text": [
      "\n"
     ]
    }
   ],
   "source": [
    "stocks = np.empty(len(groups), dtype=object)\n",
    "\n",
    "for i, group in tqdm(enumerate(groups)):\n",
    "    stocks[i] = compute_indicators_test(group)"
   ]
  },
  {
   "cell_type": "code",
   "execution_count": 62,
   "metadata": {},
   "outputs": [],
   "source": [
    "stocks = pd.concat(stocks).replace([np.inf, -np.inf], np.nan).dropna()"
   ]
  },
  {
   "cell_type": "code",
   "execution_count": 63,
   "metadata": {},
   "outputs": [],
   "source": [
    "from sklearn.ensemble import RandomForestClassifier, GradientBoostingClassifier\n",
    "from sklearn.model_selection import train_test_split\n",
    "from sklearn.preprocessing import MinMaxScaler, QuantileTransformer\n",
    "from sklearn.pipeline import make_pipeline\n",
    "from sklearn.metrics import roc_curve, roc_auc_score\n",
    "from sklearn.metrics import accuracy_score, classification_report\n",
    "from sklearn.model_selection import GridSearchCV\n",
    "from sklearn.feature_selection import chi2, SelectKBest"
   ]
  },
  {
   "cell_type": "code",
   "execution_count": 64,
   "metadata": {},
   "outputs": [],
   "source": [
    "stocks.set_index('date', inplace=True)"
   ]
  },
  {
   "cell_type": "code",
   "execution_count": 65,
   "metadata": {},
   "outputs": [],
   "source": [
    "COLUMNS = list(COLUMNS)"
   ]
  },
  {
   "cell_type": "code",
   "execution_count": 66,
   "metadata": {},
   "outputs": [],
   "source": [
    "def plot_classifier(clf, X_train, y_train, X_test, y_test):    \n",
    "    \n",
    "    y_pred_train = clf.predict_proba(X_train)[:, 1]\n",
    "    fpr_train, tpr_train, _ = roc_curve(y_train, y_pred_train)\n",
    "    \n",
    "    y_pred = clf.predict_proba(X_test)[:, 1]\n",
    "    fpr, tpr, _ = roc_curve(y_test, y_pred)\n",
    "    \n",
    "    plt.plot([0, 1], [0, 1], 'k--', label='Coin Flip')\n",
    "    plt.plot(fpr_train, tpr_train, label='Training Data')\n",
    "    plt.plot(fpr, tpr, label='Testing Data')\n",
    "    plt.xlabel('False positive rate')\n",
    "    plt.ylabel('True positive rate')\n",
    "    plt.title('ROC curve')\n",
    "    plt.legend()\n",
    "    plt.show()\n",
    "     \n",
    "    print(f'Train AUC: {roc_auc_score(y_train, y_pred_train)}')\n",
    "    print(f'Test AUC: {roc_auc_score(y_test, y_pred)}')\n",
    "    print(f'Test Accuracy: {accuracy_score(y_test, clf.predict(X_test))}')"
   ]
  },
  {
   "cell_type": "code",
   "execution_count": 67,
   "metadata": {},
   "outputs": [],
   "source": [
    "# from sklearn.model_selection import train_test_split\n",
    "# from sklearn.preprocessing import MinMaxScaler, QuantileTransformer\n",
    "# from imblearn.under_sampling import RandomUnderSampler\n",
    "\n",
    "# X = stocks[COLUMNS]\n",
    "# y = stocks['buy_signal']\n",
    "    \n",
    "# X_train, X_test, y_train, y_test = train_test_split(X, y, test_size=0.8)"
   ]
  },
  {
   "cell_type": "code",
   "execution_count": 68,
   "metadata": {},
   "outputs": [],
   "source": [
    "# rus = RandomUnderSampler()\n",
    "# X_train, y_train = rus.fit_resample(X_train, y_train)"
   ]
  },
  {
   "cell_type": "code",
   "execution_count": 69,
   "metadata": {},
   "outputs": [],
   "source": [
    "# from sklearn.preprocessing import MinMaxScaler, QuantileTransformer\n",
    "\n",
    "# scaler = QuantileTransformer(output_distribution='normal')\n",
    "# X_train_scaled = scaler.fit_transform(X_train)\n",
    "# X_test_scaled = scaler.transform(X_test)"
   ]
  },
  {
   "cell_type": "code",
   "execution_count": 70,
   "metadata": {},
   "outputs": [],
   "source": [
    "# from xgboost import XGBClassifier\n",
    "\n",
    "# clf = XGBClassifier(n_jobs=-1, verbosity=1)\n",
    "\n",
    "# clf.fit(X_train_scaled, y_train)\n",
    "\n",
    "# plot_classifier(clf, X_train_scaled, y_train, X_test_scaled, y_test)"
   ]
  },
  {
   "cell_type": "code",
   "execution_count": 71,
   "metadata": {},
   "outputs": [],
   "source": [
    "# importances = clf.feature_importances_\n",
    "# indices = np.argsort(importances)[::-1]\n",
    "# [(COLUMNS[i], importances[i]) for i in indices]"
   ]
  },
  {
   "cell_type": "code",
   "execution_count": 72,
   "metadata": {},
   "outputs": [],
   "source": [
    "import json\n",
    "\n",
    "with open('../models/columns.json', 'w+') as column_file:\n",
    "    json.dump(list(COLUMNS), column_file)"
   ]
  },
  {
   "cell_type": "code",
   "execution_count": 73,
   "metadata": {},
   "outputs": [],
   "source": [
    "stocks.to_hdf('../data/clean/all_stocks.h5', key='daily')"
   ]
  }
 ],
 "metadata": {
  "kernelspec": {
   "display_name": "Python 3",
   "language": "python",
   "name": "python3"
  },
  "language_info": {
   "codemirror_mode": {
    "name": "ipython",
    "version": 3
   },
   "file_extension": ".py",
   "mimetype": "text/x-python",
   "name": "python",
   "nbconvert_exporter": "python",
   "pygments_lexer": "ipython3",
   "version": "3.7.3"
  }
 },
 "nbformat": 4,
 "nbformat_minor": 2
}
