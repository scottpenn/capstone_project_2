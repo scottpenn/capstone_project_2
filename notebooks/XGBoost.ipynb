{
 "cells": [
  {
   "cell_type": "code",
   "execution_count": 1,
   "metadata": {},
   "outputs": [],
   "source": [
    "# Import pandas for reading in the data\n",
    "import pandas as pd\n",
    "import matplotlib.pyplot as plt\n",
    "import numpy as np\n",
    "import sys\n",
    "import json\n",
    "\n",
    "from sklearn.model_selection import train_test_split\n",
    "from sklearn.preprocessing import MinMaxScaler, QuantileTransformer\n",
    "from sklearn.metrics import roc_curve, roc_auc_score\n",
    "from sklearn.metrics import f1_score, accuracy_score\n",
    "\n",
    "from imblearn.under_sampling import RandomUnderSampler\n",
    "\n",
    "from xgboost import XGBClassifier\n",
    "\n",
    "from joblib import dump, load"
   ]
  },
  {
   "cell_type": "code",
   "execution_count": 2,
   "metadata": {},
   "outputs": [],
   "source": [
    "top_stocks = pd.read_hdf('../data/clean/computed_stocks.h5', key='top_stocks')\n",
    "\n",
    "top_stocks.reset_index(inplace=True)\n",
    "top_stocks.drop_duplicates(['symbol', 'date'], inplace=True)\n",
    "top_stocks.set_index('date', inplace=True)"
   ]
  },
  {
   "cell_type": "code",
   "execution_count": 3,
   "metadata": {},
   "outputs": [],
   "source": [
    "top_stocks.index = pd.to_datetime(top_stocks.index)"
   ]
  },
  {
   "cell_type": "code",
   "execution_count": 4,
   "metadata": {},
   "outputs": [],
   "source": [
    "# top_stocks = pd.concat([top_stocks['2007'],\n",
    "#                         top_stocks['2009':'2010'],\n",
    "#                         top_stocks['2012'],\n",
    "#                         top_stocks['2014':]])"
   ]
  },
  {
   "cell_type": "code",
   "execution_count": 5,
   "metadata": {},
   "outputs": [],
   "source": [
    "COLUMNS = []\n",
    "\n",
    "with open('../models/columns.json') as column_file:\n",
    "    COLUMNS = json.load(column_file)\n",
    "    COLUMNS = list(filter(lambda x: 'market' not in x, COLUMNS))"
   ]
  },
  {
   "cell_type": "code",
   "execution_count": 6,
   "metadata": {},
   "outputs": [],
   "source": [
    "def plot_classifier(clf, X_train, y_train, X_test, y_test):    \n",
    "    \n",
    "    y_pred_train = clf.predict_proba(X_train)[:, 1]\n",
    "    fpr_train, tpr_train, _ = roc_curve(y_train, y_pred_train)\n",
    "    \n",
    "    y_pred_test = clf.predict_proba(X_test)[:, 1]\n",
    "    fpr, tpr, _ = roc_curve(y_test, y_pred_test)\n",
    "    \n",
    "    plt.plot([0, 1], [0, 1], 'k--', label='Coin Flip')\n",
    "    plt.plot(fpr_train, tpr_train, label='Training Data')\n",
    "    plt.plot(fpr, tpr, label='Testing Data')\n",
    "    plt.xlabel('False positive rate')\n",
    "    plt.ylabel('True positive rate')\n",
    "    plt.title('ROC curve')\n",
    "    plt.legend()\n",
    "    plt.show()\n",
    "     \n",
    "    print(f'Train AUC: {roc_auc_score(y_train, y_pred_train)}, Train F1 Score: {f1_score(y_train, y_pred_train.round())}')\n",
    "    print(f'Test AUC: {roc_auc_score(y_test, y_pred_test)}, Test F1 Score: {f1_score(y_test, y_pred_test.round())}')\n",
    "    print(f'Test Accuracy: {accuracy_score(y_test, clf.predict(X_test))}')"
   ]
  },
  {
   "cell_type": "code",
   "execution_count": 7,
   "metadata": {},
   "outputs": [],
   "source": [
    "X = top_stocks[COLUMNS]\n",
    "y = top_stocks['buy_signal']\n",
    "    \n",
    "X_train, X_test, y_train, y_test = train_test_split(X, y, test_size=0.8)"
   ]
  },
  {
   "cell_type": "code",
   "execution_count": 8,
   "metadata": {},
   "outputs": [],
   "source": [
    "rus = RandomUnderSampler()\n",
    "X_train, y_train = rus.fit_resample(X_train, y_train)"
   ]
  },
  {
   "cell_type": "code",
   "execution_count": 9,
   "metadata": {},
   "outputs": [],
   "source": [
    "scaler = QuantileTransformer(output_distribution='normal')\n",
    "X_train_scaled = scaler.fit_transform(X_train)\n",
    "X_test_scaled = scaler.transform(X_test)"
   ]
  },
  {
   "cell_type": "code",
   "execution_count": 10,
   "metadata": {},
   "outputs": [
    {
     "data": {
      "text/plain": [
       "XGBClassifier(base_score=0.5, booster='gbtree', colsample_bylevel=1,\n",
       "              colsample_bynode=1, colsample_bytree=1, gamma=0, gpu_id=-1,\n",
       "              importance_type='gain', interaction_constraints='',\n",
       "              learning_rate=0.300000012, max_delta_step=0, max_depth=6,\n",
       "              min_child_weight=1, missing=nan, monotone_constraints='()',\n",
       "              n_estimators=100, n_jobs=-1, num_parallel_tree=1, random_state=0,\n",
       "              reg_alpha=0, reg_lambda=1, scale_pos_weight=1, subsample=1,\n",
       "              tree_method='exact', validate_parameters=1, verbosity=1)"
      ]
     },
     "execution_count": 10,
     "metadata": {},
     "output_type": "execute_result"
    }
   ],
   "source": [
    "clf = XGBClassifier(n_jobs=-1, verbosity=1)\n",
    "\n",
    "clf.fit(X_train_scaled, y_train)"
   ]
  },
  {
   "cell_type": "code",
   "execution_count": 11,
   "metadata": {},
   "outputs": [
    {
     "name": "stderr",
     "output_type": "stream",
     "text": [
      "/usr/local/anaconda3/lib/python3.7/site-packages/IPython/core/pylabtools.py:132: UserWarning: Creating legend with loc=\"best\" can be slow with large amounts of data.\n",
      "  fig.canvas.print_figure(bytes_io, **kw)\n"
     ]
    },
    {
     "data": {
      "image/png": "[encoded data removed]",
      "text/plain": [
       "<Figure size 432x288 with 1 Axes>"
      ]
     },
     "metadata": {
      "needs_background": "light"
     },
     "output_type": "display_data"
    },
    {
     "name": "stdout",
     "output_type": "stream",
     "text": [
      "Train AUC: 0.684570025112661, Train F1 Score: 0.6354024450520014\n",
      "Test AUC: 0.5446134396622707, Test F1 Score: 0.5666283663848225\n",
      "Test Accuracy: 0.5329672047522667\n"
     ]
    },
    {
     "data": {
      "text/plain": [
       "['XGBoost.joblib']"
      ]
     },
     "execution_count": 11,
     "metadata": {},
     "output_type": "execute_result"
    }
   ],
   "source": [
    "plot_classifier(clf, X_train_scaled, y_train, X_test_scaled, y_test)\n",
    "dump(clf, 'XGBoost.joblib')"
   ]
  },
  {
   "cell_type": "code",
   "execution_count": 12,
   "metadata": {},
   "outputs": [],
   "source": [
    "clf = load('XGBoost.joblib')"
   ]
  },
  {
   "cell_type": "code",
   "execution_count": 13,
   "metadata": {},
   "outputs": [
    {
     "data": {
      "text/plain": [
       "[('linear_regression_intercept_5', 0.033024587),\n",
       " ('bb_width_5', 0.025625102),\n",
       " ('natr_5', 0.02494089),\n",
       " ('ichimoku_b', 0.02383155),\n",
       " ('ichimoku_conversion', 0.023006551),\n",
       " ('std_20', 0.02253777),\n",
       " ('last_forecast', 0.022532932),\n",
       " ('natr_20', 0.022221368),\n",
       " ('day_of_week_0', 0.022175148),\n",
       " ('tema_5', 0.021963535),\n",
       " ('adxr_20', 0.021853587),\n",
       " ('linear_regression_20', 0.02182191),\n",
       " ('bb_middle_5', 0.021672485),\n",
       " ('ichimoku_cloud', 0.021517405),\n",
       " ('day_of_week_3', 0.02145241),\n",
       " ('tsf_20', 0.021438302),\n",
       " ('adx_20', 0.020949977),\n",
       " ('bb_middle_20', 0.020755453),\n",
       " ('trix_20', 0.02054356),\n",
       " ('linear_regression_slope_5', 0.020510333),\n",
       " ('ichimoku_base', 0.020260837),\n",
       " ('day_of_week_1', 0.02018623),\n",
       " ('macd_signal', 0.020183472),\n",
       " ('macd_hist', 0.020032093),\n",
       " ('trix_5', 0.020019773),\n",
       " ('day_of_week_2', 0.01995503),\n",
       " ('tema_20', 0.01993475),\n",
       " ('linear_regression_angle_20', 0.019922359),\n",
       " ('bb_width_20', 0.019786842),\n",
       " ('wcl_price', 0.01936152),\n",
       " ('linear_regression_5', 0.019135924),\n",
       " ('macd_line', 0.019108336),\n",
       " ('ichimoku_a', 0.01902885),\n",
       " ('linear_regression_slope_20', 0.01894874),\n",
       " ('will_r_20', 0.018942604),\n",
       " ('bb_lower_20', 0.018879524),\n",
       " ('std_5', 0.018784633),\n",
       " ('linear_regression_angle_5', 0.018778851),\n",
       " ('rsi_20', 0.018700587),\n",
       " ('linear_regression_intercept_20', 0.01865493),\n",
       " ('bb_lower_5', 0.018409703),\n",
       " ('tsf_5', 0.018307451),\n",
       " ('adx_5', 0.01806386),\n",
       " ('adxr_5', 0.01804838),\n",
       " ('bb_upper_20', 0.017953608),\n",
       " ('will_r_5', 0.017023535),\n",
       " ('bb_upper_5', 0.016803885),\n",
       " ('rsi_5', 0.016283348),\n",
       " ('day_of_week_4', 0.016125511)]"
      ]
     },
     "execution_count": 13,
     "metadata": {},
     "output_type": "execute_result"
    }
   ],
   "source": [
    "importances = clf.feature_importances_\n",
    "indices = np.argsort(importances)[::-1]\n",
    "[(COLUMNS[i], importances[i]) for i in indices]"
   ]
  }
 ],
 "metadata": {
  "kernelspec": {
   "display_name": "Python 3",
   "language": "python",
   "name": "python3"
  },
  "language_info": {
   "codemirror_mode": {
    "name": "ipython",
    "version": 3
   },
   "file_extension": ".py",
   "mimetype": "text/x-python",
   "name": "python",
   "nbconvert_exporter": "python",
   "pygments_lexer": "ipython3",
   "version": "3.7.6"
  }
 },
 "nbformat": 4,
 "nbformat_minor": 2
}
