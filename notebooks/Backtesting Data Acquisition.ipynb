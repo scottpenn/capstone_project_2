{
 "cells": [
  {
   "cell_type": "code",
   "execution_count": 1,
   "metadata": {},
   "outputs": [],
   "source": [
    "import alpaca_trade_api as tradeapi\n",
    "import numpy as np\n",
    "import pandas as pd\n",
    "import talib as ta\n",
    "import json\n",
    "import tqdm.notebook as tqdm"
   ]
  },
  {
   "cell_type": "code",
   "execution_count": 2,
   "metadata": {},
   "outputs": [],
   "source": [
    "import warnings\n",
    "warnings.filterwarnings('ignore')"
   ]
  },
  {
   "cell_type": "code",
   "execution_count": 3,
   "metadata": {},
   "outputs": [],
   "source": [
    "key_id = None\n",
    "secret_key = None\n",
    "with open('alpakey') as key_file:\n",
    "    keys = key_file.readlines()\n",
    "    key_id = keys[0].strip()\n",
    "    secret_key = keys[1].strip()\n",
    "    \n",
    "api_url = \"https://paper-api.alpaca.markets\"\n",
    "\n",
    "alpaca = tradeapi.REST(key_id, secret_key, api_url, api_version='v2')"
   ]
  },
  {
   "cell_type": "code",
   "execution_count": 4,
   "metadata": {},
   "outputs": [],
   "source": [
    "symbols = ['A', 'AA', 'AAL', 'AAPL', 'ABBV', 'ABC', 'ABEV', 'ABT', 'ACB',\n",
    "       'ACGL', 'ACM', 'ACN', 'ACWI', 'ACWX', 'ADBE', 'ADI', 'ADNT', 'ADP',\n",
    "       'ADSK', 'ADT', 'AEO', 'AEP', 'AER', 'AES', 'AFL', 'AGG', 'AGN',\n",
    "       'AGNC', 'AIG', 'AL', 'ALK', 'ALLY', 'ALXN', 'AM', 'AMAT', 'AMC',\n",
    "       'AMCR', 'AMD', 'AME', 'AMGN', 'AMH', 'AMJ', 'AMLP', 'AMRN', 'AMT',\n",
    "       'AMTD', 'AMX', 'AMZN', 'ANF', 'ANGI', 'ANTM', 'AON', 'AOS', 'APA',\n",
    "       'APLE', 'APO', 'APT', 'APTV', 'APY', 'AR', 'ARCC', 'ARMK', 'ARNC',\n",
    "       'ASHR', 'ATH', 'ATI', 'ATUS', 'ATVI', 'AUY', 'AVGO', 'AVTR',\n",
    "       'AVYA', 'AXL', 'AXP', 'AXTA', 'AYTU', 'AZN', 'BA', 'BABA', 'BAC',\n",
    "       'BAX', 'BB', 'BBBY', 'BBD', 'BBEU', 'BBVA', 'BBY', 'BCRX', 'BCS',\n",
    "       'BDN', 'BDX', 'BE', 'BEN', 'BERY', 'BGCP', 'BGS', 'BHC', 'BHP',\n",
    "       'BIDU', 'BIL', 'BILI', 'BIOC', 'BJ', 'BK', 'BKD', 'BKLN', 'BKR',\n",
    "       'BLDR', 'BLL', 'BLMN', 'BMY', 'BMY^', 'BND', 'BNDX', 'BP', 'BPY',\n",
    "       'BRFS', 'BRK.B', 'BRX', 'BSX', 'BTG', 'BTI', 'BTU', 'BUD', 'BWA',\n",
    "       'BX', 'BXMT', 'BYD', 'C', 'CAG', 'CAH', 'CAKE', 'CAR', 'CARG',\n",
    "       'CAT', 'CB', 'CBRE', 'CC', 'CCC', 'CCEP', 'CCI', 'CCJ', 'CCK',\n",
    "       'CCL', 'CCO', 'CDAY', 'CDE', 'CDEV', 'CDNS', 'CERN', 'CF', 'CFG',\n",
    "       'CFX', 'CG', 'CHK', 'CHKP', 'CHNG', 'CHRW', 'CHS', 'CHTR', 'CHWY',\n",
    "       'CI', 'CIM', 'CIT', 'CL', 'CLB', 'CLDR', 'CLF', 'CLNY', 'CLR',\n",
    "       'CLVS', 'CMA', 'CMCSA', 'CME', 'CNC', 'CNDT', 'CNK', 'CNP', 'CNQ',\n",
    "       'CNX', 'CODX', 'COF', 'COG', 'COLD', 'COMM', 'CONE', 'COP', 'COTY',\n",
    "       'COUP', 'CPB', 'CPE', 'CPRI', 'CPRT', 'CRC', 'CRM', 'CRON', 'CROX',\n",
    "       'CRWD', 'CSCO', 'CSPR', 'CSTM', 'CSX', 'CTL', 'CTSH', 'CTVA',\n",
    "       'CTXS', 'CUBE', 'CVE', 'CVET', 'CVNA', 'CVS', 'CVX', 'CX', 'CXO',\n",
    "       'CY', 'CYH', 'CZR', 'D', 'DAL', 'DB', 'DBX', 'DCP', 'DD', 'DDOG',\n",
    "       'DE', 'DEAC', 'DELL', 'DFS', 'DG', 'DGX', 'DHI', 'DHR', 'DHT',\n",
    "       'DIS', 'DISCA', 'DISCK', 'DISH', 'DK', 'DKS', 'DLR', 'DLTR', 'DNR',\n",
    "       'DO', 'DOC', 'DOCU', 'DOW', 'DRE', 'DRH', 'DRI', 'DT', 'DUK',\n",
    "       'DUST', 'DVN', 'DWT', 'DXC', 'EA', 'EAF', 'EAT', 'EB', 'EBAY',\n",
    "       'ED', 'EEM', 'EFA', 'EIX', 'EL', 'ELAN', 'EMB', 'EMR', 'ENB',\n",
    "       'ENBL', 'ENDP', 'ENLC', 'ENPH', 'EOG', 'EPD', 'EPR', 'EPRT', 'EQH',\n",
    "       'EQM', 'EQNR', 'EQR', 'EQT', 'ERI', 'ERIC', 'ERX', 'ESI', 'ESTC',\n",
    "       'ET', 'ETFC', 'ETN', 'ETRN', 'ETSY', 'EURN', 'EVRI', 'EWBC', 'EWG',\n",
    "       'EWH', 'EWJ', 'EWT', 'EWY', 'EWZ', 'EXAS', 'EXC', 'EXEL', 'EXPD',\n",
    "       'EXPE', 'EZU', 'F', 'FANG', 'FAST', 'FB', 'FCAU', 'FCEL', 'FCX',\n",
    "       'FDX', 'FE', 'FEYE', 'FEZ', 'FG', 'FG+', 'FHN', 'FIS', 'FISV',\n",
    "       'FIT', 'FITB', 'FIVE', 'FL', 'FLEX', 'FLR', 'FND', 'FNF', 'FOLD',\n",
    "       'FOSL', 'FOXA', 'FSCT', 'FSLY', 'FTCH', 'FTI', 'FTSV', 'FTV',\n",
    "       'FWONK', 'FXI', 'GCI', 'GD', 'GDDY', 'GDS', 'GDX', 'GDXJ', 'GE',\n",
    "       'GEL', 'GFI', 'GGB', 'GILD', 'GIS', 'GKOS', 'GLD', 'GLPI', 'GLUU',\n",
    "       'GLW', 'GM', 'GME', 'GNW', 'GOGO', 'GOLD', 'GOOGL', 'GOOS', 'GOVT',\n",
    "       'GPK', 'GPN', 'GPOR', 'GPRO', 'GPS', 'GRPN', 'GRUB', 'GS', 'GSK',\n",
    "       'GT', 'GUSH', 'H', 'HAL', 'HAS', 'HBAN', 'HBI', 'HCA', 'HD', 'HDB',\n",
    "       'HES', 'HFC', 'HIG', 'HL', 'HLT', 'HLX', 'HMY', 'HOG', 'HOLX',\n",
    "       'HOME', 'HON', 'HP', 'HPE', 'HPP', 'HPQ', 'HRB', 'HRL', 'HSBC',\n",
    "       'HSIC', 'HST', 'HTA', 'HTHT', 'HTZ', 'HUM', 'HUN', 'HUYA', 'HYAC',\n",
    "       'HYG', 'I', 'IAA', 'IAG', 'IAU', 'IBIO', 'IBM', 'IBN', 'ICE',\n",
    "       'IEF', 'IEFA', 'IEMG', 'IGT', 'IIVI', 'IJR', 'IMGN', 'INCY',\n",
    "       'INDA', 'INFN', 'INFO', 'INFY', 'ING', 'INO', 'INTC', 'INVH',\n",
    "       'IOVA', 'IP', 'IPG', 'IQ', 'IQV', 'IR', 'IRM', 'ISBC', 'ITUB',\n",
    "       'IVR', 'IVV', 'IVZ', 'IWM', 'IXUS', 'IYR', 'JBLU', 'JCI', 'JCP',\n",
    "       'JD', 'JDST', 'JEF', 'JNJ', 'JNK', 'JNPR', 'JNUG', 'JPM', 'JWN',\n",
    "       'K', 'KAR', 'KBH', 'KDMN', 'KDP', 'KEY', 'KEYS', 'KGC', 'KHC',\n",
    "       'KIM', 'KKR', 'KMI', 'KMX', 'KNX', 'KO', 'KOS', 'KR', 'KRE', 'KSS',\n",
    "       'LB', 'LBTYK', 'LEN', 'LIN', 'LK', 'LKQ', 'LLY', 'LM', 'LNC',\n",
    "       'LNG', 'LOW', 'LPI', 'LPX', 'LQD', 'LRCX', 'LSCC', 'LTHM', 'LULU',\n",
    "       'LUV', 'LVGO', 'LVS', 'LXP', 'LYB', 'LYFT', 'LYG', 'LYV', 'M',\n",
    "       'MA', 'MAC', 'MAR', 'MAS', 'MAT', 'MBT', 'MCD', 'MCHP', 'MCK',\n",
    "       'MD', 'MDLA', 'MDLZ', 'MDRX', 'MDT', 'MEET', 'MET', 'MFA', 'MGM',\n",
    "       'MGP', 'MGY', 'MIK', 'MLCO', 'MLPA', 'MMC', 'MMM', 'MMP', 'MNK',\n",
    "       'MNST', 'MO', 'MOMO', 'MOS', 'MPC', 'MPLX', 'MPW', 'MRK', 'MRNA',\n",
    "       'MRO', 'MRVL', 'MS', 'MSFT', 'MTCH', 'MTDR', 'MTG', 'MU', 'MUFG',\n",
    "       'MUR', 'MXIM', 'MYL', 'NAVI', 'NBL', 'NBR', 'NCLH', 'NCR', 'NEE',\n",
    "       'NEM', 'NET', 'NEX', 'NFLX', 'NGL', 'NI', 'NIO', 'NKE', 'NLOK',\n",
    "       'NLSN', 'NLY', 'NOG', 'NOK', 'NOMD', 'NOV', 'NOW', 'NRG', 'NRZ',\n",
    "       'NSC', 'NTAP', 'NTNX', 'NTR', 'NUAN', 'NUGT', 'NVDA', 'NVST',\n",
    "       'NVTA', 'NWL', 'NWSA', 'NXPI', 'NYCB', 'NYMT', 'NYT', 'O', 'OAS',\n",
    "       'OC', 'ODP', 'OHI', 'OI', 'OIBR.C', 'OIH', 'OII', 'OKE', 'OLLI',\n",
    "       'OLN', 'OMC', 'OMI', 'ON', 'ONEM', 'OPK', 'ORCL', 'OSW', 'OUT',\n",
    "       'OVV', 'OXY', 'PAA', 'PACB', 'PAGP', 'PAGS', 'PANW', 'PAYX',\n",
    "       'PBCT', 'PBF', 'PBI', 'PBR', 'PCAR', 'PCG', 'PD', 'PDCE', 'PDCO',\n",
    "       'PDD', 'PE', 'PEAK', 'PEB', 'PEG', 'PEI', 'PENN', 'PEP', 'PFE',\n",
    "       'PFF', 'PFGC', 'PG', 'PGR', 'PGRE', 'PGX', 'PHM', 'PINS', 'PK',\n",
    "       'PLAN', 'PLD', 'PLNT', 'PLUG', 'PM', 'PNC', 'PPD', 'PPG', 'PPL',\n",
    "       'PRSP', 'PRTY', 'PRU', 'PS', 'PSEC', 'PSTG', 'PSX', 'PTEN', 'PTON',\n",
    "       'PUMP', 'PXD', 'PYPL', 'QCOM', 'QD', 'QEP', 'QGEN', 'QQQ', 'QRTEA',\n",
    "       'QSR', 'QTT', 'RCL', 'RDFN', 'RDS.A', 'RDS.B', 'REAL', 'RES',\n",
    "       'REYN', 'REZI', 'RF', 'RIG', 'RLGY', 'RLJ', 'ROIC', 'ROKU', 'ROST',\n",
    "       'RPAI', 'RRC', 'RRR', 'RSX', 'RTN', 'RUN', 'RWT', 'S', 'SABR',\n",
    "       'SAN', 'SAVE', 'SBGI', 'SBH', 'SBRA', 'SBSW', 'SBUX', 'SC', 'SCHE',\n",
    "       'SCHF', 'SCHW', 'SDC', 'SDS', 'SE', 'SEAS', 'SERV', 'SFIX', 'SFM',\n",
    "       'SGMS', 'SH', 'SHAK', 'SHO', 'SHV', 'SHY', 'SIG', 'SIRI', 'SIX',\n",
    "       'SJNK', 'SKT', 'SKX', 'SLB', 'SLCA', 'SLM', 'SLV', 'SM', 'SMAR',\n",
    "       'SMFG', 'SMH', 'SNAP', 'SO', 'SONO', 'SPCE', 'SPDW', 'SPG', 'SPGI',\n",
    "       'SPLG', 'SPLK', 'SPOT', 'SPR', 'SPTS', 'SPWR', 'SPXL', 'SPXS',\n",
    "       'SPXU', 'SPY', 'SQ', 'SQQQ', 'SRE', 'SRNE', 'SSNC', 'STAY', 'STLD',\n",
    "       'STNE', 'STOR', 'STT', 'STWD', 'STX', 'SU', 'SUM', 'SVMK', 'SWK',\n",
    "       'SWKS', 'SWN', 'SYF', 'SYK', 'SYY', 'T', 'TAK', 'TAL', 'TAP',\n",
    "       'TCO', 'TCOM', 'TDC', 'TDOC', 'TEAM', 'TECK', 'TEL', 'TELL',\n",
    "       'TEVA', 'TFC', 'TGE', 'TGNA', 'TGT', 'THC', 'TIF', 'TIP', 'TJX',\n",
    "       'TLRY', 'TLT', 'TME', 'TMHC', 'TMO', 'TMUS', 'TNXP', 'TOL', 'TOT',\n",
    "       'TPH', 'TPR', 'TQQQ', 'TRGP', 'TRIL', 'TRIP', 'TRMB', 'TROW',\n",
    "       'TRU', 'TRV', 'TS', 'TSCO', 'TSG', 'TSLA', 'TSM', 'TSN', 'TTWO',\n",
    "       'TUP', 'TVTY', 'TWLO', 'TWO', 'TWTR', 'TXMD', 'TXN', 'TXRH', 'TXT',\n",
    "       'UA', 'UAA', 'UAL', 'UBER', 'UBS', 'UCO', 'UNH', 'UNIT', 'UNM',\n",
    "       'UNP', 'UNVR', 'UPS', 'UPWK', 'URBN', 'USB', 'USFD', 'USO', 'UTX',\n",
    "       'UVXY', 'UWT', 'V', 'VAL', 'VALE', 'VCSH', 'VEA', 'VEON', 'VER',\n",
    "       'VEU', 'VFC', 'VG', 'VGK', 'VIAC', 'VIAV', 'VICI', 'VIPS', 'VLO',\n",
    "       'VNO', 'VNOM', 'VNQ', 'VOD', 'VOO', 'VOYA', 'VRT', 'VST', 'VT',\n",
    "       'VTEB', 'VTI', 'VTR', 'VWO', 'VXRT', 'VXX', 'VZ', 'W', 'WAB',\n",
    "       'WBA', 'WBT', 'WDAY', 'WDC', 'WELL', 'WEN', 'WES', 'WETF', 'WFC',\n",
    "       'WH', 'WLL', 'WM', 'WMB', 'WMGI', 'WMT', 'WORK', 'WPG', 'WPX',\n",
    "       'WRK', 'WTI', 'WTRH', 'WU', 'WW', 'WWE', 'WY', 'WYNN', 'X', 'XBI',\n",
    "       'XEC', 'XEL', 'XLB', 'XLC', 'XLE', 'XLF', 'XLI', 'XLK', 'XLNX',\n",
    "       'XLP', 'XLRE', 'XLU', 'XLV', 'XLY', 'XOG', 'XOM', 'XOP', 'XPO',\n",
    "       'XRAY', 'XRT', 'XRX', 'YNDX', 'YPF', 'YUM', 'YUMC', 'Z', 'ZBH',\n",
    "       'ZEN', 'ZION', 'ZM', 'ZNGA', 'ZS', 'ZTO', 'ZTS', 'ZVZZT']"
   ]
  },
  {
   "cell_type": "code",
   "execution_count": 5,
   "metadata": {},
   "outputs": [],
   "source": [
    "barsets = []\n",
    "\n",
    "cutoff_date = '2020-02-06T12:50:00-05:00'\n",
    "\n",
    "for i in range(0, len(symbols), 100):\n",
    "    barsets.append(alpaca.get_barset(symbols[i:i+100], '15Min', 1000, until=cutoff_date).df.stack(level=0).reset_index())\n",
    "    barsets.append(alpaca.get_barset(symbols[i:i+100], '15Min', 1000, after=cutoff_date).df.stack(level=0).reset_index())"
   ]
  },
  {
   "cell_type": "code",
   "execution_count": 6,
   "metadata": {},
   "outputs": [],
   "source": [
    "all_stocks = pd.concat(barsets)"
   ]
  },
  {
   "cell_type": "code",
   "execution_count": 7,
   "metadata": {},
   "outputs": [],
   "source": [
    "all_stocks.columns = ['date', 'symbol', 'close', 'high', 'low', 'open', 'volume']"
   ]
  },
  {
   "cell_type": "code",
   "execution_count": 8,
   "metadata": {},
   "outputs": [],
   "source": [
    "stocks_by_symbol = all_stocks.groupby('symbol')"
   ]
  },
  {
   "cell_type": "code",
   "execution_count": 9,
   "metadata": {
    "scrolled": true
   },
   "outputs": [],
   "source": [
    "all_stocks[['close', 'high', 'low', 'open', 'volume']] = all_stocks[['close', 'high', 'low', 'open', 'volume']] \\\n",
    "                                                            .apply(pd.to_numeric, errors='coerce')"
   ]
  },
  {
   "cell_type": "code",
   "execution_count": 10,
   "metadata": {},
   "outputs": [],
   "source": [
    "top_stocks = all_stocks.set_index('symbol').loc[stocks_by_symbol.volume.mean().nlargest(1000).index]"
   ]
  },
  {
   "cell_type": "code",
   "execution_count": 11,
   "metadata": {},
   "outputs": [],
   "source": [
    "top_stocks.to_hdf('../Data/Clean/intraday.h5', key='intraday')"
   ]
  }
 ],
 "metadata": {
  "kernelspec": {
   "display_name": "Python 3",
   "language": "python",
   "name": "python3"
  },
  "language_info": {
   "codemirror_mode": {
    "name": "ipython",
    "version": 3
   },
   "file_extension": ".py",
   "mimetype": "text/x-python",
   "name": "python",
   "nbconvert_exporter": "python",
   "pygments_lexer": "ipython3",
   "version": "3.7.3"
  }
 },
 "nbformat": 4,
 "nbformat_minor": 2
}
