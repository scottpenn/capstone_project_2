{
 "cells": [
  {
   "cell_type": "markdown",
   "metadata": {},
   "source": [
    "## An Alternate Method for Data Acquisition\n",
    "\n",
    "I noticed some issues with the previous dataset. Notably, the volume column contained many zero values. With enough incorrect values from the source data, errors can propogate to future pipeline steps. To correct this, I will instead use [The Investors Exchange](https://iextrading.com/), which provides free historical stock data. This data is more accurate and reliable than the Kaggle repo sourced from Yahoo Finance."
   ]
  },
  {
   "cell_type": "code",
   "execution_count": 1,
   "metadata": {},
   "outputs": [],
   "source": [
    "import numpy as np\n",
    "import pandas as pd\n",
    "import matplotlib.pyplot as plt\n",
    "from tqdm.notebook import tqdm"
   ]
  },
  {
   "cell_type": "markdown",
   "metadata": {},
   "source": [
    "To acquire the data, an API key from [Alpaca](https://alpaca.markets/) is required. Alpaca provides an easy to use API for stock trading, market data acquisition, and backtesting. Some features require an authorized account, but for my needs a basic account will work. To utilize the API  you must first generate two keys, a key ID and a secret key. "
   ]
  },
  {
   "cell_type": "code",
   "execution_count": 2,
   "metadata": {},
   "outputs": [],
   "source": [
    "import alpaca_trade_api as tradeapi\n",
    "\n",
    "key_id = None\n",
    "secret_key = None\n",
    "with open('../files/private/alpakey') as key_file:\n",
    "    keys = key_file.readlines()\n",
    "    key_id = keys[0].strip()\n",
    "    secret_key = keys[1].strip()\n",
    "    \n",
    "api_url = \"https://paper-api.alpaca.markets\"\n",
    "\n",
    "alpaca = tradeapi.REST(key_id, secret_key, api_url, api_version='v2')"
   ]
  },
  {
   "cell_type": "markdown",
   "metadata": {},
   "source": [
    "'top_symbols.json' contains a list of the 500 most frequently traded stock symbols, compiled by scraping The Investors Exchange's website."
   ]
  },
  {
   "cell_type": "code",
   "execution_count": 3,
   "metadata": {},
   "outputs": [],
   "source": [
    "import json\n",
    "\n",
    "symbols = []\n",
    "with open('../files/public/top_symbols.json') as top_symbols:\n",
    "    symbols = json.load(top_symbols)"
   ]
  },
  {
   "cell_type": "markdown",
   "metadata": {},
   "source": [
    "The API restricts users to 100 symbols per call. You can specify the timeperiod between each data point, the number of data points, and the starting or ending point. The results can be returned as a DataFrame for convenience. To train the model, the last 1000 days of data will be used. This data dates back to the middle of 2016."
   ]
  },
  {
   "cell_type": "code",
   "execution_count": null,
   "metadata": {},
   "outputs": [
    {
     "data": {
      "application/vnd.jupyter.widget-view+json": {
       "model_id": "05cc2417a26f491f88d5d7fed13b9034",
       "version_major": 2,
       "version_minor": 0
      },
      "text/plain": [
       "HBox(children=(FloatProgress(value=0.0, max=498.0), HTML(value='')))"
      ]
     },
     "metadata": {},
     "output_type": "display_data"
    }
   ],
   "source": [
    "top_stocks = []\n",
    "for symbol in tqdm(symbols):\n",
    "    try:\n",
    "        stock = alpaca.polygon.historic_agg_v2(symbol, 1, 'day', _from='2008-01-01', to='2020-05-01').df\n",
    "        stock['symbol'] = symbol\n",
    "        top_stocks.append(stock)\n",
    "    except:\n",
    "        continue\n",
    "        \n",
    "top_stocks = pd.concat(top_stocks)"
   ]
  },
  {
   "cell_type": "code",
   "execution_count": null,
   "metadata": {},
   "outputs": [],
   "source": [
    "top_stocks.reset_index(inplace=True)\n",
    "top_stocks.columns = ['date', 'open', 'high', 'low', 'close', 'volume', 'symbol']"
   ]
  },
  {
   "cell_type": "markdown",
   "metadata": {},
   "source": [
    "For backtesting the model, unseen data will need to be acquired. However, due to fluctuations in the market, not every year makes for balanced data. To avoid this, I will backtest using three sets of data. \n",
    "\n",
    "##### Backtest Set 1: 2008\n",
    "    \n",
    "The market crash of 2008 was one of the worst on record. I'll choose this year to test the model's performance in the face of a recession.\n",
    "    \n",
    "##### Backtest Set 2: 2011\n",
    "\n",
    "2011 was neither a good year or a bad year for the market. There was little difference between stock prices in January and December. I'll choose this year to test the model's performance in flat years.\n",
    "\n",
    "##### Backtest Set 3: 2013\n",
    "\n",
    "By 2013, the market had rebounded from the 2008 recession. Throughout the year, stock growth never stopped. I'll choose this year to test the model's performance in a successful market."
   ]
  },
  {
   "cell_type": "code",
   "execution_count": null,
   "metadata": {},
   "outputs": [],
   "source": [
    "top_stocks.set_index('date', inplace=True)\n",
    "\n",
    "stocks_current = top_stocks['2015':'2020-05-14']\n",
    "stocks_2008 = top_stocks['2007':'2008']\n",
    "stocks_2011 = top_stocks['2010':'2011']\n",
    "stocks_2013 = top_stocks['2012':'2013']"
   ]
  },
  {
   "cell_type": "markdown",
   "metadata": {},
   "source": [
    "After the stocks have been retrieved, I concatenate them into a single DataFrame."
   ]
  },
  {
   "cell_type": "markdown",
   "metadata": {},
   "source": [
    "Some ETFs (Exchange Traded Funds) track multiple stocks and can be used to approximate the market as a whole. The SPY ETF tracks the S&P 500, a collection of stocks listed on the US markets. By combining stock data with overall market data, better predictions can be made that take into account market ups and downs. Other ETFs may work just as well, such as DIA (Dow Jones Industrial Average) or VUG (Vanguard). In my tests, they all performed similarly."
   ]
  },
  {
   "cell_type": "code",
   "execution_count": null,
   "metadata": {},
   "outputs": [],
   "source": [
    "market = alpaca.polygon.historic_agg_v2('SPY', 1, 'day', _from='2007-01-01', to='2020-05-14').df\n",
    "market.reset_index(inplace=True)\n",
    "market.columns = ['date', 'open', 'high', 'low', 'close', 'volume']"
   ]
  },
  {
   "cell_type": "code",
   "execution_count": null,
   "metadata": {},
   "outputs": [],
   "source": [
    "stocks_current = stocks_current.reset_index().merge(market, on='date', suffixes=['', '_market'])\n",
    "stocks_2008 = stocks_2008.reset_index().merge(market, on='date', suffixes=['', '_market'])\n",
    "stocks_2011 = stocks_2011.reset_index().merge(market, on='date', suffixes=['', '_market'])\n",
    "stocks_2013 = stocks_2013.reset_index().merge(market, on='date', suffixes=['', '_market'])"
   ]
  },
  {
   "cell_type": "markdown",
   "metadata": {},
   "source": [
    "The stock DataFrames are merged with the market DataFrame by date."
   ]
  },
  {
   "cell_type": "code",
   "execution_count": null,
   "metadata": {},
   "outputs": [],
   "source": [
    "stocks_current.set_index('date', inplace=True)\n",
    "stocks_2008.set_index('date', inplace=True)\n",
    "stocks_2011.set_index('date', inplace=True)\n",
    "stocks_2013.set_index('date', inplace=True)\n",
    "\n",
    "stocks_current.drop_duplicates(inplace=True)\n",
    "stocks_2008.drop_duplicates(inplace=True)\n",
    "stocks_2011.drop_duplicates(inplace=True)\n",
    "stocks_2013.drop_duplicates(inplace=True)"
   ]
  },
  {
   "cell_type": "markdown",
   "metadata": {},
   "source": [
    "The finalized data is saved for future use. This step may be skipped in future iterations once you are satisfied with the size and quality of the dataset."
   ]
  },
  {
   "cell_type": "code",
   "execution_count": null,
   "metadata": {},
   "outputs": [],
   "source": [
    "stocks_current.to_hdf('../data/raw/market_stocks.h5', key='stocks_current')\n",
    "stocks_2008.to_hdf('../data/raw/market_stocks.h5', key='stocks_2008')\n",
    "stocks_2011.to_hdf('../data/raw/market_stocks.h5', key='stocks_2011')\n",
    "stocks_2013.to_hdf('../data/raw/market_stocks.h5', key='stocks_2013')"
   ]
  }
 ],
 "metadata": {
  "kernelspec": {
   "display_name": "Python 3",
   "language": "python",
   "name": "python3"
  },
  "language_info": {
   "codemirror_mode": {
    "name": "ipython",
    "version": 3
   },
   "file_extension": ".py",
   "mimetype": "text/x-python",
   "name": "python",
   "nbconvert_exporter": "python",
   "pygments_lexer": "ipython3",
   "version": "3.7.3"
  }
 },
 "nbformat": 4,
 "nbformat_minor": 2
}
