{
 "cells": [
  {
   "cell_type": "code",
   "execution_count": 1,
   "metadata": {},
   "outputs": [],
   "source": [
    "import numpy as np\n",
    "import pandas as pd\n",
    "import matplotlib.pyplot as plt\n",
    "from tqdm.notebook import tqdm"
   ]
  },
  {
   "cell_type": "code",
   "execution_count": 2,
   "metadata": {},
   "outputs": [],
   "source": [
    "import glob\n",
    "\n",
    "# Match all stock historical data files using the glob module.\n",
    "stock_files = glob.glob('../data/raw/stocks/*.csv')"
   ]
  },
  {
   "cell_type": "code",
   "execution_count": 3,
   "metadata": {},
   "outputs": [
    {
     "data": {
      "application/vnd.jupyter.widget-view+json": {
       "model_id": "2b75fd78a0c44608b7f494a5f695d2d8",
       "version_major": 2,
       "version_minor": 0
      },
      "text/plain": [
       "HBox(children=(FloatProgress(value=0.0, max=5884.0), HTML(value='')))"
      ]
     },
     "metadata": {},
     "output_type": "display_data"
    },
    {
     "name": "stdout",
     "output_type": "stream",
     "text": [
      "\n"
     ]
    }
   ],
   "source": [
    "# You can extract the stock names from the file names using split(). No regex required!\n",
    "stock_symbols = [file.split('../data/raw/stocks/')[1].split('.csv')[0] for file in stock_files]\n",
    "\n",
    "stock_dataframes = []\n",
    "for file, symbol in zip(tqdm(stock_files), stock_symbols):\n",
    "    try:\n",
    "        df = pd.read_csv(file)\n",
    "        df['symbol'] = symbol\n",
    "        stock_dataframes.append(df)\n",
    "    except(pd.errors.EmptyDataError):\n",
    "        # Ignore empty files\n",
    "        pass"
   ]
  },
  {
   "cell_type": "code",
   "execution_count": 4,
   "metadata": {},
   "outputs": [],
   "source": [
    "all_stocks = pd.concat(stock_dataframes, ignore_index=True)"
   ]
  },
  {
   "cell_type": "code",
   "execution_count": 5,
   "metadata": {},
   "outputs": [
    {
     "data": {
      "text/html": [
       "<div>\n",
       "<style scoped>\n",
       "    .dataframe tbody tr th:only-of-type {\n",
       "        vertical-align: middle;\n",
       "    }\n",
       "\n",
       "    .dataframe tbody tr th {\n",
       "        vertical-align: top;\n",
       "    }\n",
       "\n",
       "    .dataframe thead th {\n",
       "        text-align: right;\n",
       "    }\n",
       "</style>\n",
       "<table border=\"1\" class=\"dataframe\">\n",
       "  <thead>\n",
       "    <tr style=\"text-align: right;\">\n",
       "      <th></th>\n",
       "      <th>Date</th>\n",
       "      <th>Open</th>\n",
       "      <th>High</th>\n",
       "      <th>Low</th>\n",
       "      <th>Close</th>\n",
       "      <th>Adj Close</th>\n",
       "      <th>Volume</th>\n",
       "      <th>symbol</th>\n",
       "    </tr>\n",
       "  </thead>\n",
       "  <tbody>\n",
       "    <tr>\n",
       "      <th>0</th>\n",
       "      <td>2016-01-08</td>\n",
       "      <td>19.162428</td>\n",
       "      <td>19.162428</td>\n",
       "      <td>19.114038</td>\n",
       "      <td>19.114038</td>\n",
       "      <td>11.411459</td>\n",
       "      <td>10300.0</td>\n",
       "      <td>RIV</td>\n",
       "    </tr>\n",
       "    <tr>\n",
       "      <th>1</th>\n",
       "      <td>2016-01-11</td>\n",
       "      <td>19.133394</td>\n",
       "      <td>19.230173</td>\n",
       "      <td>19.017258</td>\n",
       "      <td>19.017258</td>\n",
       "      <td>11.353675</td>\n",
       "      <td>49600.0</td>\n",
       "      <td>RIV</td>\n",
       "    </tr>\n",
       "    <tr>\n",
       "      <th>2</th>\n",
       "      <td>2016-01-12</td>\n",
       "      <td>19.113070</td>\n",
       "      <td>19.113070</td>\n",
       "      <td>19.103392</td>\n",
       "      <td>19.103392</td>\n",
       "      <td>11.405104</td>\n",
       "      <td>2300.0</td>\n",
       "      <td>RIV</td>\n",
       "    </tr>\n",
       "    <tr>\n",
       "      <th>3</th>\n",
       "      <td>2016-01-13</td>\n",
       "      <td>19.103392</td>\n",
       "      <td>19.103392</td>\n",
       "      <td>19.103392</td>\n",
       "      <td>19.103392</td>\n",
       "      <td>11.405104</td>\n",
       "      <td>0.0</td>\n",
       "      <td>RIV</td>\n",
       "    </tr>\n",
       "    <tr>\n",
       "      <th>4</th>\n",
       "      <td>2016-01-14</td>\n",
       "      <td>19.065647</td>\n",
       "      <td>19.385021</td>\n",
       "      <td>18.968868</td>\n",
       "      <td>19.104361</td>\n",
       "      <td>11.405683</td>\n",
       "      <td>26100.0</td>\n",
       "      <td>RIV</td>\n",
       "    </tr>\n",
       "  </tbody>\n",
       "</table>\n",
       "</div>"
      ],
      "text/plain": [
       "         Date       Open       High        Low      Close  Adj Close   Volume  \\\n",
       "0  2016-01-08  19.162428  19.162428  19.114038  19.114038  11.411459  10300.0   \n",
       "1  2016-01-11  19.133394  19.230173  19.017258  19.017258  11.353675  49600.0   \n",
       "2  2016-01-12  19.113070  19.113070  19.103392  19.103392  11.405104   2300.0   \n",
       "3  2016-01-13  19.103392  19.103392  19.103392  19.103392  11.405104      0.0   \n",
       "4  2016-01-14  19.065647  19.385021  18.968868  19.104361  11.405683  26100.0   \n",
       "\n",
       "  symbol  \n",
       "0    RIV  \n",
       "1    RIV  \n",
       "2    RIV  \n",
       "3    RIV  \n",
       "4    RIV  "
      ]
     },
     "execution_count": 5,
     "metadata": {},
     "output_type": "execute_result"
    }
   ],
   "source": [
    "all_stocks.head()"
   ]
  },
  {
   "cell_type": "code",
   "execution_count": 6,
   "metadata": {},
   "outputs": [],
   "source": [
    "all_stocks.columns = ['date', 'open', 'high', 'low', 'close', 'adjusted_close', 'volume', 'symbol']"
   ]
  },
  {
   "cell_type": "code",
   "execution_count": 7,
   "metadata": {},
   "outputs": [
    {
     "data": {
      "text/plain": [
       "5884"
      ]
     },
     "execution_count": 7,
     "metadata": {},
     "output_type": "execute_result"
    }
   ],
   "source": [
    "# With nearly 6,000 stocks, it will be difficult to efficiently run analyses.\n",
    "len(all_stocks.symbol.unique())"
   ]
  },
  {
   "cell_type": "code",
   "execution_count": 8,
   "metadata": {},
   "outputs": [],
   "source": [
    "# Taking a naive metric of average volume, I can estimate the most traded stocks.\n",
    "# As expected, some immediately recognizable names such as Apple and Microsoft are at the top of the list.\n",
    "top_symbols = all_stocks.groupby('symbol').volume.mean().nlargest(100).index"
   ]
  },
  {
   "cell_type": "code",
   "execution_count": 9,
   "metadata": {},
   "outputs": [],
   "source": [
    "top_stocks = all_stocks.set_index('symbol').loc[top_symbols]"
   ]
  },
  {
   "cell_type": "code",
   "execution_count": 10,
   "metadata": {
    "scrolled": true
   },
   "outputs": [
    {
     "name": "stdout",
     "output_type": "stream",
     "text": [
      "<class 'pandas.core.frame.DataFrame'>\n",
      "Index: 564995 entries, FTAI to GOOGL\n",
      "Data columns (total 7 columns):\n",
      "date              564995 non-null object\n",
      "open              564951 non-null float64\n",
      "high              564951 non-null float64\n",
      "low               564951 non-null float64\n",
      "close             564951 non-null float64\n",
      "adjusted_close    564951 non-null float64\n",
      "volume            564951 non-null float64\n",
      "dtypes: float64(6), object(1)\n",
      "memory usage: 34.5+ MB\n"
     ]
    }
   ],
   "source": [
    "top_stocks.info()"
   ]
  },
  {
   "cell_type": "code",
   "execution_count": 11,
   "metadata": {},
   "outputs": [
    {
     "data": {
      "text/plain": [
       "(24197442, 564995)"
      ]
     },
     "execution_count": 11,
     "metadata": {},
     "output_type": "execute_result"
    }
   ],
   "source": [
    "all_stocks.shape[0], top_stocks.shape[0]"
   ]
  },
  {
   "cell_type": "code",
   "execution_count": 12,
   "metadata": {},
   "outputs": [],
   "source": [
    "#all_stocks.to_csv('../Data/Clean/all_stocks.csv')"
   ]
  },
  {
   "cell_type": "code",
   "execution_count": 13,
   "metadata": {},
   "outputs": [],
   "source": [
    "top_stocks.to_csv('../data/clean/top_stocks.csv')"
   ]
  }
 ],
 "metadata": {
  "kernelspec": {
   "display_name": "Python 3",
   "language": "python",
   "name": "python3"
  },
  "language_info": {
   "codemirror_mode": {
    "name": "ipython",
    "version": 3
   },
   "file_extension": ".py",
   "mimetype": "text/x-python",
   "name": "python",
   "nbconvert_exporter": "python",
   "pygments_lexer": "ipython3",
   "version": "3.7.3"
  }
 },
 "nbformat": 4,
 "nbformat_minor": 2
}
