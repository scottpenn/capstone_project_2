{
 "cells": [
  {
   "cell_type": "markdown",
   "metadata": {},
   "source": [
    "## An Alternate Method for Data Acquisition\n",
    "\n",
    "I noticed some issues with the previous dataset. Notably, the volume column contained many zero values. With enough incorrect values from the source data, errors can propogate to future pipeline steps. To correct this, I will instead use [The Investors Exchange](https://iextrading.com/), which provides free historical stock data. This data is more accurate and reliable than the Kaggle repo sourced from Yahoo Finance."
   ]
  },
  {
   "cell_type": "code",
   "execution_count": 1,
   "metadata": {},
   "outputs": [],
   "source": [
    "import numpy as np\n",
    "import pandas as pd\n",
    "import matplotlib.pyplot as plt\n",
    "from tqdm.notebook import tqdm"
   ]
  },
  {
   "cell_type": "markdown",
   "metadata": {},
   "source": [
    "To acquire the data, an API key from [Alpaca](https://alpaca.markets/) is required. Alpaca provides an easy to use API for stock trading, market data acquisition, and backtesting. Some features require an authorized account, but for my needs a basic account will work. To utilize the API  you must first generate two keys, a key ID and a secret key. "
   ]
  },
  {
   "cell_type": "code",
   "execution_count": 2,
   "metadata": {},
   "outputs": [],
   "source": [
    "import alpaca_trade_api as tradeapi\n",
    "\n",
    "key_id = None\n",
    "secret_key = None\n",
    "with open('../files/private/alpakey') as key_file:\n",
    "    keys = key_file.readlines()\n",
    "    key_id = keys[0].strip()\n",
    "    secret_key = keys[1].strip()\n",
    "    \n",
    "api_url = \"https://paper-api.alpaca.markets\"\n",
    "\n",
    "alpaca = tradeapi.REST(key_id, secret_key, api_url, api_version='v2')"
   ]
  },
  {
   "cell_type": "markdown",
   "metadata": {},
   "source": [
    "'top_symbols.json' contains a list of the 500 most frequently traded stock symbols, compiled by scraping The Investors Exchange's website."
   ]
  },
  {
   "cell_type": "code",
   "execution_count": 3,
   "metadata": {},
   "outputs": [],
   "source": [
    "import json\n",
    "\n",
    "symbols = []\n",
    "with open('../files/public/top_symbols.json') as top_symbols:\n",
    "    symbols = json.load(top_symbols)"
   ]
  },
  {
   "cell_type": "markdown",
   "metadata": {},
   "source": [
    "The API restricts users to 100 symbols per call. You can specify the timeperiod between each data point, the number of data points, and the starting or ending point. The results can be returned as a DataFrame for convenience. To train the model, the last 1000 days of data will be used. This data dates back to the middle of 2016."
   ]
  },
  {
   "cell_type": "code",
   "execution_count": 4,
   "metadata": {
    "scrolled": true
   },
   "outputs": [
    {
     "data": {
      "application/vnd.jupyter.widget-view+json": {
       "model_id": "5ba67986a26f4b3fbd7e7fe166632c98",
       "version_major": 2,
       "version_minor": 0
      },
      "text/plain": [
       "HBox(children=(FloatProgress(value=0.0, max=5.0), HTML(value='')))"
      ]
     },
     "metadata": {},
     "output_type": "display_data"
    },
    {
     "name": "stdout",
     "output_type": "stream",
     "text": [
      "\n"
     ]
    }
   ],
   "source": [
    "stocks_current = []\n",
    "\n",
    "for i in tqdm(range(0, len(symbols), 100)):\n",
    "    stocks_current.append(alpaca.get_barset(symbols[i:i+100], '1D', 1000).df.stack(level=0).reset_index())"
   ]
  },
  {
   "cell_type": "markdown",
   "metadata": {},
   "source": [
    "For backtesting the model, unseen data will need to be acquired. However, due to fluctuations in the market, not every year makes for balanced data. To avoid this, I will backtest using three sets of data. \n",
    "\n",
    "##### Backtest Set 1: 2008\n",
    "    \n",
    "The market crash of 2008 was one of the worst on record. I'll choose this year to test the model's performance in the face of a recession.\n",
    "    \n",
    "##### Backtest Set 2: 2011\n",
    "\n",
    "2011 was neither a good year or a bad year for the market. There was little difference between stock prices in January and December. I'll choose this year to test the model's performance in flat years.\n",
    "\n",
    "##### Backtest Set 3: 2013\n",
    "\n",
    "By 2013, the market had rebounded from the 2008 recession. Throughout the year, stock growth never stopped. I'll choose this year to test the model's performance in a successful market."
   ]
  },
  {
   "cell_type": "code",
   "execution_count": 5,
   "metadata": {
    "scrolled": true
   },
   "outputs": [
    {
     "data": {
      "application/vnd.jupyter.widget-view+json": {
       "model_id": "ff784b4aa72648e789f34f328a5110bb",
       "version_major": 2,
       "version_minor": 0
      },
      "text/plain": [
       "HBox(children=(FloatProgress(value=0.0, max=5.0), HTML(value='')))"
      ]
     },
     "metadata": {},
     "output_type": "display_data"
    },
    {
     "name": "stdout",
     "output_type": "stream",
     "text": [
      "\n"
     ]
    },
    {
     "data": {
      "application/vnd.jupyter.widget-view+json": {
       "model_id": "bb655dbfe6964a1aa25814b61c0f62d6",
       "version_major": 2,
       "version_minor": 0
      },
      "text/plain": [
       "HBox(children=(FloatProgress(value=0.0, max=5.0), HTML(value='')))"
      ]
     },
     "metadata": {},
     "output_type": "display_data"
    },
    {
     "name": "stdout",
     "output_type": "stream",
     "text": [
      "\n"
     ]
    },
    {
     "data": {
      "application/vnd.jupyter.widget-view+json": {
       "model_id": "b12a6bf98a1a4373ab2c3e10eafc7595",
       "version_major": 2,
       "version_minor": 0
      },
      "text/plain": [
       "HBox(children=(FloatProgress(value=0.0, max=5.0), HTML(value='')))"
      ]
     },
     "metadata": {},
     "output_type": "display_data"
    },
    {
     "name": "stdout",
     "output_type": "stream",
     "text": [
      "\n"
     ]
    }
   ],
   "source": [
    "stocks_2008 = []\n",
    "for i in tqdm(range(0, len(symbols), 100)):\n",
    "    stocks_2008.append(alpaca.get_barset(symbols[i:i+100], '1D', 500, end='2009-01-01T00:00:00-00:00').df.stack(level=0).reset_index())\n",
    "    \n",
    "stocks_2011 = []\n",
    "for i in tqdm(range(0, len(symbols), 100)):\n",
    "    stocks_2011.append(alpaca.get_barset(symbols[i:i+100], '1D', 500, end='2012-01-01T00:00:00-00:00').df.stack(level=0).reset_index())\n",
    "    \n",
    "stocks_2013 = []\n",
    "for i in tqdm(range(0, len(symbols), 100)):\n",
    "    stocks_2013.append(alpaca.get_barset(symbols[i:i+100], '1D', 500, end='2014-01-01T00:00:00-00:00').df.stack(level=0).reset_index())    "
   ]
  },
  {
   "cell_type": "markdown",
   "metadata": {},
   "source": [
    "After the stocks have been retrieved, I concatenate them into a single DataFrame."
   ]
  },
  {
   "cell_type": "code",
   "execution_count": 6,
   "metadata": {},
   "outputs": [],
   "source": [
    "stocks_current = pd.concat(stocks_current, ignore_index=True)\n",
    "stocks_2008 = pd.concat(stocks_2008, ignore_index=True)\n",
    "stocks_2011 = pd.concat(stocks_2011, ignore_index=True)\n",
    "stocks_2013 = pd.concat(stocks_2013, ignore_index=True)"
   ]
  },
  {
   "cell_type": "markdown",
   "metadata": {},
   "source": [
    "Some ETFs (Exchange Traded Funds) track multiple stocks and can be used to approximate the market as a whole. The SPY ETF tracks the S&P 500, a collection of stocks listed on the US markets. By combining stock data with overall market data, better predictions can be made that take into account market ups and downs. Other ETFs may work just as well, such as DIA (Dow Jones Industrial Average) or VUG (Vanguard). In my tests, they all performed similarly."
   ]
  },
  {
   "cell_type": "code",
   "execution_count": 7,
   "metadata": {},
   "outputs": [],
   "source": [
    "market_current = alpaca.get_barset('SPY', '1D', 1000).df.stack(level=0).reset_index()\n",
    "market_2008 = alpaca.get_barset('SPY', '1D', 1000, end='2009-01-01T00:00:00-00:00').df.stack(level=0).reset_index()\n",
    "market_2011 = alpaca.get_barset('SPY', '1D', 1000, end='2012-01-01T00:00:00-00:00').df.stack(level=0).reset_index()\n",
    "market_2013 = alpaca.get_barset('SPY', '1D', 1000, end='2014-01-01T00:00:00-00:00').df.stack(level=0).reset_index()"
   ]
  },
  {
   "cell_type": "code",
   "execution_count": 8,
   "metadata": {},
   "outputs": [],
   "source": [
    "cols = ['date', 'symbol', 'close', 'high', 'low', 'open', 'volume']\n",
    "\n",
    "def rename_columns(stocks, market):\n",
    "    stocks.columns = cols\n",
    "    market.columns = cols\n",
    "\n",
    "rename_columns(stocks_current, market_current)\n",
    "rename_columns(stocks_2008, market_2008)\n",
    "rename_columns(stocks_2011, market_2011)\n",
    "rename_columns(stocks_2013, market_2013)"
   ]
  },
  {
   "cell_type": "code",
   "execution_count": 9,
   "metadata": {},
   "outputs": [],
   "source": [
    "def convert_dates(stocks, market):\n",
    "    stocks.date = pd.to_datetime(stocks.date, utc=True)\n",
    "    market.date = pd.to_datetime(market.date, utc=True)\n",
    "\n",
    "convert_dates(stocks_current, market_current)\n",
    "convert_dates(stocks_2008, market_2008)\n",
    "convert_dates(stocks_2011, market_2011)\n",
    "convert_dates(stocks_2013, market_2013)"
   ]
  },
  {
   "cell_type": "markdown",
   "metadata": {},
   "source": [
    "The stock DataFrames are merged with the market DataFrame by date."
   ]
  },
  {
   "cell_type": "code",
   "execution_count": 10,
   "metadata": {},
   "outputs": [],
   "source": [
    "stocks_current = stocks_current.merge(market_current, on='date', suffixes=['', '_market'])\n",
    "stocks_current.drop('symbol_market', axis=1, inplace=True)\n",
    "\n",
    "stocks_2008 = stocks_2008.merge(market_2008, on='date', suffixes=['', '_market'])\n",
    "stocks_2008.drop('symbol_market', axis=1, inplace=True)\n",
    "\n",
    "stocks_2011 = stocks_2011.merge(market_2011, on='date', suffixes=['', '_market'])\n",
    "stocks_2011.drop('symbol_market', axis=1, inplace=True)\n",
    "\n",
    "stocks_2013 = stocks_2013.merge(market_2013, on='date', suffixes=['', '_market'])\n",
    "stocks_2013.drop('symbol_market', axis=1, inplace=True)"
   ]
  },
  {
   "cell_type": "code",
   "execution_count": 11,
   "metadata": {},
   "outputs": [],
   "source": [
    "stocks_current.set_index('date', inplace=True)\n",
    "stocks_2008.set_index('date', inplace=True)\n",
    "stocks_2011.set_index('date', inplace=True)\n",
    "stocks_2013.set_index('date', inplace=True)\n",
    "\n",
    "stocks_current.drop_duplicates(inplace=True)\n",
    "stocks_2008.drop_duplicates(inplace=True)\n",
    "stocks_2011.drop_duplicates(inplace=True)\n",
    "stocks_2013.drop_duplicates(inplace=True)"
   ]
  },
  {
   "cell_type": "markdown",
   "metadata": {},
   "source": [
    "The finalized data is saved for future use. This step may be skipped in future iterations once you are satisfied with the size and quality of the dataset."
   ]
  },
  {
   "cell_type": "code",
   "execution_count": 13,
   "metadata": {},
   "outputs": [
    {
     "data": {
      "text/html": [
       "<div>\n",
       "<style scoped>\n",
       "    .dataframe tbody tr th:only-of-type {\n",
       "        vertical-align: middle;\n",
       "    }\n",
       "\n",
       "    .dataframe tbody tr th {\n",
       "        vertical-align: top;\n",
       "    }\n",
       "\n",
       "    .dataframe thead th {\n",
       "        text-align: right;\n",
       "    }\n",
       "</style>\n",
       "<table border=\"1\" class=\"dataframe\">\n",
       "  <thead>\n",
       "    <tr style=\"text-align: right;\">\n",
       "      <th></th>\n",
       "      <th>symbol</th>\n",
       "      <th>close</th>\n",
       "      <th>high</th>\n",
       "      <th>low</th>\n",
       "      <th>open</th>\n",
       "      <th>volume</th>\n",
       "      <th>close_market</th>\n",
       "      <th>high_market</th>\n",
       "      <th>low_market</th>\n",
       "      <th>open_market</th>\n",
       "      <th>volume_market</th>\n",
       "    </tr>\n",
       "    <tr>\n",
       "      <th>date</th>\n",
       "      <th></th>\n",
       "      <th></th>\n",
       "      <th></th>\n",
       "      <th></th>\n",
       "      <th></th>\n",
       "      <th></th>\n",
       "      <th></th>\n",
       "      <th></th>\n",
       "      <th></th>\n",
       "      <th></th>\n",
       "      <th></th>\n",
       "    </tr>\n",
       "  </thead>\n",
       "  <tbody>\n",
       "    <tr>\n",
       "      <th>2010-01-08 05:00:00+00:00</th>\n",
       "      <td>AAPL</td>\n",
       "      <td>30.27</td>\n",
       "      <td>30.286</td>\n",
       "      <td>29.866</td>\n",
       "      <td>30.043</td>\n",
       "      <td>1.04222e+08</td>\n",
       "      <td>114.57</td>\n",
       "      <td>114.61</td>\n",
       "      <td>113.660</td>\n",
       "      <td>113.88</td>\n",
       "      <td>95322019</td>\n",
       "    </tr>\n",
       "    <tr>\n",
       "      <th>2010-01-11 05:00:00+00:00</th>\n",
       "      <td>AAPL</td>\n",
       "      <td>30.01</td>\n",
       "      <td>30.429</td>\n",
       "      <td>29.779</td>\n",
       "      <td>30.414</td>\n",
       "      <td>1.11354e+08</td>\n",
       "      <td>114.73</td>\n",
       "      <td>115.13</td>\n",
       "      <td>114.235</td>\n",
       "      <td>115.07</td>\n",
       "      <td>89164666</td>\n",
       "    </tr>\n",
       "    <tr>\n",
       "      <th>2010-01-12 05:00:00+00:00</th>\n",
       "      <td>AAPL</td>\n",
       "      <td>29.676</td>\n",
       "      <td>29.967</td>\n",
       "      <td>29.489</td>\n",
       "      <td>29.884</td>\n",
       "      <td>1.29701e+08</td>\n",
       "      <td>113.66</td>\n",
       "      <td>114.21</td>\n",
       "      <td>113.220</td>\n",
       "      <td>113.96</td>\n",
       "      <td>136421030</td>\n",
       "    </tr>\n",
       "    <tr>\n",
       "      <th>2010-01-13 05:00:00+00:00</th>\n",
       "      <td>AAPL</td>\n",
       "      <td>30.057</td>\n",
       "      <td>30.133</td>\n",
       "      <td>29.157</td>\n",
       "      <td>29.696</td>\n",
       "      <td>1.45123e+08</td>\n",
       "      <td>114.64</td>\n",
       "      <td>114.94</td>\n",
       "      <td>113.370</td>\n",
       "      <td>113.95</td>\n",
       "      <td>142997302</td>\n",
       "    </tr>\n",
       "    <tr>\n",
       "      <th>2010-01-14 05:00:00+00:00</th>\n",
       "      <td>AAPL</td>\n",
       "      <td>29.917</td>\n",
       "      <td>30.066</td>\n",
       "      <td>29.86</td>\n",
       "      <td>30.016</td>\n",
       "      <td>9.83561e+07</td>\n",
       "      <td>114.92</td>\n",
       "      <td>115.14</td>\n",
       "      <td>114.420</td>\n",
       "      <td>114.49</td>\n",
       "      <td>99218631</td>\n",
       "    </tr>\n",
       "    <tr>\n",
       "      <th>...</th>\n",
       "      <td>...</td>\n",
       "      <td>...</td>\n",
       "      <td>...</td>\n",
       "      <td>...</td>\n",
       "      <td>...</td>\n",
       "      <td>...</td>\n",
       "      <td>...</td>\n",
       "      <td>...</td>\n",
       "      <td>...</td>\n",
       "      <td>...</td>\n",
       "      <td>...</td>\n",
       "    </tr>\n",
       "    <tr>\n",
       "      <th>2011-12-23 05:00:00+00:00</th>\n",
       "      <td>AAPL</td>\n",
       "      <td>8.231</td>\n",
       "      <td>8.236</td>\n",
       "      <td>8.153</td>\n",
       "      <td>8.157</td>\n",
       "      <td>4.50485e+08</td>\n",
       "      <td>126.38</td>\n",
       "      <td>126.43</td>\n",
       "      <td>125.410</td>\n",
       "      <td>125.68</td>\n",
       "      <td>64187669</td>\n",
       "    </tr>\n",
       "    <tr>\n",
       "      <th>2011-12-27 05:00:00+00:00</th>\n",
       "      <td>AAPL</td>\n",
       "      <td>8.297</td>\n",
       "      <td>8.349</td>\n",
       "      <td>8.224</td>\n",
       "      <td>8.226</td>\n",
       "      <td>4.16494e+08</td>\n",
       "      <td>126.46</td>\n",
       "      <td>126.82</td>\n",
       "      <td>126.060</td>\n",
       "      <td>126.17</td>\n",
       "      <td>62071310</td>\n",
       "    </tr>\n",
       "    <tr>\n",
       "      <th>2011-12-28 05:00:00+00:00</th>\n",
       "      <td>AAPL</td>\n",
       "      <td>57.539</td>\n",
       "      <td>57.86</td>\n",
       "      <td>8.253</td>\n",
       "      <td>8.303</td>\n",
       "      <td>2.26845e+08</td>\n",
       "      <td>124.96</td>\n",
       "      <td>126.53</td>\n",
       "      <td>124.730</td>\n",
       "      <td>126.51</td>\n",
       "      <td>102787347</td>\n",
       "    </tr>\n",
       "    <tr>\n",
       "      <th>2011-12-29 05:00:00+00:00</th>\n",
       "      <td>AAPL</td>\n",
       "      <td>8.267</td>\n",
       "      <td>8.279</td>\n",
       "      <td>8.174</td>\n",
       "      <td>8.233</td>\n",
       "      <td>3.41149e+08</td>\n",
       "      <td>126.16</td>\n",
       "      <td>126.25</td>\n",
       "      <td>125.180</td>\n",
       "      <td>125.24</td>\n",
       "      <td>86362759</td>\n",
       "    </tr>\n",
       "    <tr>\n",
       "      <th>2011-12-30 05:00:00+00:00</th>\n",
       "      <td>AAPL</td>\n",
       "      <td>8.263</td>\n",
       "      <td>8.289</td>\n",
       "      <td>8.233</td>\n",
       "      <td>8.237</td>\n",
       "      <td>2.80539e+08</td>\n",
       "      <td>125.59</td>\n",
       "      <td>126.33</td>\n",
       "      <td>125.590</td>\n",
       "      <td>126.00</td>\n",
       "      <td>68210289</td>\n",
       "    </tr>\n",
       "  </tbody>\n",
       "</table>\n",
       "<p>500 rows × 11 columns</p>\n",
       "</div>"
      ],
      "text/plain": [
       "                          symbol   close    high     low    open       volume  \\\n",
       "date                                                                            \n",
       "2010-01-08 05:00:00+00:00   AAPL   30.27  30.286  29.866  30.043  1.04222e+08   \n",
       "2010-01-11 05:00:00+00:00   AAPL   30.01  30.429  29.779  30.414  1.11354e+08   \n",
       "2010-01-12 05:00:00+00:00   AAPL  29.676  29.967  29.489  29.884  1.29701e+08   \n",
       "2010-01-13 05:00:00+00:00   AAPL  30.057  30.133  29.157  29.696  1.45123e+08   \n",
       "2010-01-14 05:00:00+00:00   AAPL  29.917  30.066   29.86  30.016  9.83561e+07   \n",
       "...                          ...     ...     ...     ...     ...          ...   \n",
       "2011-12-23 05:00:00+00:00   AAPL   8.231   8.236   8.153   8.157  4.50485e+08   \n",
       "2011-12-27 05:00:00+00:00   AAPL   8.297   8.349   8.224   8.226  4.16494e+08   \n",
       "2011-12-28 05:00:00+00:00   AAPL  57.539   57.86   8.253   8.303  2.26845e+08   \n",
       "2011-12-29 05:00:00+00:00   AAPL   8.267   8.279   8.174   8.233  3.41149e+08   \n",
       "2011-12-30 05:00:00+00:00   AAPL   8.263   8.289   8.233   8.237  2.80539e+08   \n",
       "\n",
       "                           close_market  high_market  low_market  open_market  \\\n",
       "date                                                                            \n",
       "2010-01-08 05:00:00+00:00        114.57       114.61     113.660       113.88   \n",
       "2010-01-11 05:00:00+00:00        114.73       115.13     114.235       115.07   \n",
       "2010-01-12 05:00:00+00:00        113.66       114.21     113.220       113.96   \n",
       "2010-01-13 05:00:00+00:00        114.64       114.94     113.370       113.95   \n",
       "2010-01-14 05:00:00+00:00        114.92       115.14     114.420       114.49   \n",
       "...                                 ...          ...         ...          ...   \n",
       "2011-12-23 05:00:00+00:00        126.38       126.43     125.410       125.68   \n",
       "2011-12-27 05:00:00+00:00        126.46       126.82     126.060       126.17   \n",
       "2011-12-28 05:00:00+00:00        124.96       126.53     124.730       126.51   \n",
       "2011-12-29 05:00:00+00:00        126.16       126.25     125.180       125.24   \n",
       "2011-12-30 05:00:00+00:00        125.59       126.33     125.590       126.00   \n",
       "\n",
       "                           volume_market  \n",
       "date                                      \n",
       "2010-01-08 05:00:00+00:00       95322019  \n",
       "2010-01-11 05:00:00+00:00       89164666  \n",
       "2010-01-12 05:00:00+00:00      136421030  \n",
       "2010-01-13 05:00:00+00:00      142997302  \n",
       "2010-01-14 05:00:00+00:00       99218631  \n",
       "...                                  ...  \n",
       "2011-12-23 05:00:00+00:00       64187669  \n",
       "2011-12-27 05:00:00+00:00       62071310  \n",
       "2011-12-28 05:00:00+00:00      102787347  \n",
       "2011-12-29 05:00:00+00:00       86362759  \n",
       "2011-12-30 05:00:00+00:00       68210289  \n",
       "\n",
       "[500 rows x 11 columns]"
      ]
     },
     "execution_count": 13,
     "metadata": {},
     "output_type": "execute_result"
    }
   ],
   "source": [
    "stocks_2011[stocks_2011.symbol == 'AAPL']"
   ]
  },
  {
   "cell_type": "code",
   "execution_count": 12,
   "metadata": {},
   "outputs": [
    {
     "name": "stderr",
     "output_type": "stream",
     "text": [
      "/usr/local/anaconda3/lib/python3.7/site-packages/pandas/core/generic.py:2530: PerformanceWarning: \n",
      "your performance may suffer as PyTables will pickle object types that it cannot\n",
      "map directly to c-types [inferred_type->mixed,key->block0_values] [items->['symbol', 'close', 'high', 'low', 'open', 'volume']]\n",
      "\n",
      "  pytables.to_hdf(path_or_buf, key, self, **kwargs)\n",
      "/usr/local/anaconda3/lib/python3.7/site-packages/pandas/core/generic.py:2530: PerformanceWarning: \n",
      "your performance may suffer as PyTables will pickle object types that it cannot\n",
      "map directly to c-types [inferred_type->mixed-integer,key->block0_values] [items->['symbol', 'close', 'high', 'low', 'open', 'volume']]\n",
      "\n",
      "  pytables.to_hdf(path_or_buf, key, self, **kwargs)\n"
     ]
    }
   ],
   "source": [
    "stocks_current.to_hdf('../data/raw/market_stocks.h5', key='stocks_current')\n",
    "stocks_2008.to_hdf('../data/raw/market_stocks.h5', key='stocks_2008')\n",
    "stocks_2011.to_hdf('../data/raw/market_stocks.h5', key='stocks_2011')\n",
    "stocks_2013.to_hdf('../data/raw/market_stocks.h5', key='stocks_2013')"
   ]
  }
 ],
 "metadata": {
  "kernelspec": {
   "display_name": "Python 3",
   "language": "python",
   "name": "python3"
  },
  "language_info": {
   "codemirror_mode": {
    "name": "ipython",
    "version": 3
   },
   "file_extension": ".py",
   "mimetype": "text/x-python",
   "name": "python",
   "nbconvert_exporter": "python",
   "pygments_lexer": "ipython3",
   "version": "3.7.3"
  }
 },
 "nbformat": 4,
 "nbformat_minor": 2
}
