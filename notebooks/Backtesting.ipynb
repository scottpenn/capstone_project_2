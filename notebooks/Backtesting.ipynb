{
 "cells": [
  {
   "cell_type": "code",
   "execution_count": 1,
   "metadata": {},
   "outputs": [],
   "source": [
    "import pandas as pd\n",
    "import numpy as np\n",
    "import matplotlib.pyplot as plt\n",
    "from tqdm.notebook import tqdm\n",
    "from celluloid import Camera"
   ]
  },
  {
   "cell_type": "code",
   "execution_count": 2,
   "metadata": {},
   "outputs": [
    {
     "name": "stderr",
     "output_type": "stream",
     "text": [
      "Using Theano backend.\n"
     ]
    }
   ],
   "source": [
    "from keras.models import load_model\n",
    "\n",
    "xgboost = load_model('../models/daily.h5')"
   ]
  },
  {
   "cell_type": "code",
   "execution_count": 3,
   "metadata": {},
   "outputs": [],
   "source": [
    "import pickle\n",
    "\n",
    "scaler = pickle.load(open('../models/scaler.pkl', 'rb'))"
   ]
  },
  {
   "cell_type": "code",
   "execution_count": 4,
   "metadata": {},
   "outputs": [],
   "source": [
    "import joblib\n",
    "\n",
    "xgboost = joblib.load('XGBoost.joblib')"
   ]
  },
  {
   "cell_type": "code",
   "execution_count": 5,
   "metadata": {},
   "outputs": [],
   "source": [
    "import json\n",
    "\n",
    "COLUMNS = []\n",
    "with open('../models/columns.json') as column_file:\n",
    "    COLUMNS = json.load(column_file)\n",
    "    COLUMNS = list(filter(lambda x: 'market' not in x, COLUMNS))"
   ]
  },
  {
   "cell_type": "code",
   "execution_count": 6,
   "metadata": {},
   "outputs": [],
   "source": [
    "symbols = []\n",
    "with open('../files/public/top_symbols_100.json') as top_symbols:\n",
    "    symbols = json.load(top_symbols)"
   ]
  },
  {
   "cell_type": "code",
   "execution_count": 7,
   "metadata": {},
   "outputs": [],
   "source": [
    "backtest_stocks = pd.read_hdf('../data/clean/computed_stocks.h5', key='top_stocks')\n",
    "backtest_stocks.index = pd.to_datetime(backtest_stocks.index)\n",
    "backtest_stocks = backtest_stocks['2008']"
   ]
  },
  {
   "cell_type": "code",
   "execution_count": 8,
   "metadata": {},
   "outputs": [],
   "source": [
    "def backtest(forecasts, predictions, signal, trade=100):\n",
    "    baseline = trade\n",
    "    model = trade\n",
    "    position = trade\n",
    "    \n",
    "    signal_active = False\n",
    "    for date, prediction in zip(forecasts.index, predictions):\n",
    "        if prediction > signal:\n",
    "            if signal_active == False:\n",
    "                position = trade\n",
    "                signal_active = True\n",
    "        elif prediction <= signal:\n",
    "            if signal_active == True:\n",
    "                model += position - trade\n",
    "                signal_active = False\n",
    "        if signal_active == True:\n",
    "            position += position * forecasts[date]\n",
    "        baseline += baseline * forecasts[date]\n",
    "        \n",
    "    if signal_active == True:\n",
    "        model += position - trade\n",
    "    return baseline, model"
   ]
  },
  {
   "cell_type": "code",
   "execution_count": 9,
   "metadata": {},
   "outputs": [],
   "source": [
    "def backtest_info(forecasts, predictions, signal, trade=100):\n",
    "    baseline = trade\n",
    "    model = trade\n",
    "    position = trade\n",
    "    \n",
    "    profit = 0\n",
    "    loss = 0\n",
    "    profitable_trades = 0\n",
    "    unprofitable_trades = 0\n",
    "    \n",
    "    signal_active = False\n",
    "    for date, prediction in zip(forecasts.index, predictions):\n",
    "        if prediction > signal:\n",
    "            if signal_active == False:\n",
    "                position = trade\n",
    "                signal_active = True\n",
    "        elif prediction <= signal:\n",
    "            if signal_active == True:\n",
    "                model += position - trade\n",
    "                signal_active = False\n",
    "        if signal_active == True:\n",
    "            # gather diagnostic information\n",
    "            change = position * forecasts[date]\n",
    "            if change > 0:\n",
    "                profit += change\n",
    "                profitable_trades += 1\n",
    "            else:\n",
    "                loss += change\n",
    "                unprofitable_trades += 1\n",
    "            position += change\n",
    "        baseline += baseline * forecasts[date]\n",
    "        \n",
    "    if signal_active == True:\n",
    "        model += position - trade\n",
    "    return baseline, model, profit, loss, profitable_trades, unprofitable_trades"
   ]
  },
  {
   "cell_type": "code",
   "execution_count": 10,
   "metadata": {},
   "outputs": [],
   "source": [
    "def backtest_animation(forecasts, predictions, buy_signals, symbol, year, file_name, trade=100):\n",
    "    baseline = trade\n",
    "    baseline_profits = []\n",
    "    \n",
    "    models = [trade] * len(buy_signals)\n",
    "    positions = [trade] * len(buy_signals)\n",
    "    signals = [False] * len(buy_signals)\n",
    "    \n",
    "    fig, ax = plt.subplots(figsize=(10, 6))\n",
    "    camera = Camera(fig)\n",
    "    plt.title(f'Profit Comparison of Model and $100 Investment ({symbol} {year})')\n",
    "    plt.xlabel('Date')\n",
    "    plt.ylabel('Profit (USD)')\n",
    "\n",
    "    colors = ['g']\n",
    "    \n",
    "    dates = []\n",
    "    profits = [[] for i in range(len(buy_signals))]\n",
    "    \n",
    "    for date, prediction in zip(forecasts.index, predictions):\n",
    "        dates.append(date)\n",
    "        for i, signal in enumerate(signals):\n",
    "            if prediction >= buy_signals[i]:\n",
    "                if signals[i] == False:\n",
    "                    positions[i] = trade\n",
    "                    signals[i] = True\n",
    "            elif prediction < buy_signals[i]:\n",
    "                if signals[i] == True:\n",
    "                    models[i] += positions[i] - trade\n",
    "                    signals[i] = False\n",
    "            if signals[i] == True:\n",
    "                positions[i] += positions[i] * forecasts[date]\n",
    "            profit = (models[i] - trade) + (positions[i] - trade)\n",
    "            profits[i].append(profit)\n",
    "            plt.plot(dates, profits[i], c=colors[i], label=f'Signal {buy_signals[i]}')\n",
    "        baseline += baseline * forecasts[date]\n",
    "        baseline_profits.append(baseline - trade)\n",
    "        plt.plot(dates, baseline_profits, c='red', label='baseline')\n",
    "        \n",
    "        plt.text(0.03, 0.92, \"0.5 Buy Signal\", fontdict={'size': '10', \n",
    "                                                         'color': 'green',\n",
    "                                                         'weight': 'bold'}, transform=ax.transAxes)\n",
    "        plt.text(0.03, 0.83, \"$100 Investment\", fontdict={'size': '10',\n",
    "                                                          'color': 'red',\n",
    "                                                          'weight': 'bold'}, transform=ax.transAxes)\n",
    "        camera.snap()\n",
    "    \n",
    "    for i, signal in enumerate(signals):\n",
    "        if signal == True:\n",
    "            models[i] += positions[i] - trade\n",
    "    \n",
    "    for _ in range(60):\n",
    "        for i, signal in enumerate(signals):\n",
    "            plt.plot(dates, profits[i], c=colors[i], label=f'Signal {buy_signals[i]}')\n",
    "        plt.plot(dates, baseline_profits, c='red', label='baseline')\n",
    "        \n",
    "        plt.text(0.03, 0.92, \"0.5 Buy Signal\", fontdict={'size': '10', \n",
    "                                                         'color': 'green',\n",
    "                                                         'weight': 'bold'}, transform=ax.transAxes)\n",
    "        plt.text(0.03, 0.83, \"$100 Investment\", fontdict={'size': '10',\n",
    "                                                          'color': 'red',\n",
    "                                                          'weight': 'bold'}, transform=ax.transAxes)\n",
    "        camera.snap() \n",
    "    \n",
    "    animation = camera.animate()\n",
    "    animation.save(file_name, writer = 'pillow', fps=20)\n",
    "\n",
    "    return baseline, models"
   ]
  },
  {
   "cell_type": "code",
   "execution_count": 11,
   "metadata": {},
   "outputs": [],
   "source": [
    "apple = backtest_stocks[backtest_stocks.symbol == 'AMZN']\n",
    "X = apple[COLUMNS]\n",
    "X_scaled = scaler.transform(X)\n",
    "predictions = xgboost.predict(X_scaled)\n",
    "forecasts = apple.forecast"
   ]
  },
  {
   "cell_type": "code",
   "execution_count": 12,
   "metadata": {
    "scrolled": true
   },
   "outputs": [],
   "source": [
    "# backtest_animation(forecasts, predictions, [0.5], 'AMZN', '2013', 'amazon_2013.gif')"
   ]
  },
  {
   "cell_type": "code",
   "execution_count": 15,
   "metadata": {},
   "outputs": [],
   "source": [
    "def max_profit(symbol, plot=False):\n",
    "    stock = backtest_stocks[backtest_stocks.symbol == symbol].copy()\n",
    "    X = stock[COLUMNS]\n",
    "    if X.shape[0] == 0:\n",
    "        return 0, -1, []\n",
    "    X_scaled = scaler.transform(X)\n",
    "    predictions = xgboost.predict(X_scaled)\n",
    "    \n",
    "    buy_signals = np.arange(0, 1, 0.01)\n",
    "    profits = []\n",
    "    max_profit = -100\n",
    "    best_signal = 0\n",
    "    for buy_signal in buy_signals:\n",
    "        _, model = backtest(stock.forecast, predictions, buy_signal)\n",
    "        profit = model - 100\n",
    "        if profit > max_profit:\n",
    "            max_profit = profit\n",
    "            best_signal = buy_signal\n",
    "        profits.append(model - 100)\n",
    "            \n",
    "    adjusted_profits = [(profit - min(profits)) / (max(profits) - min(profits)) for profit in profits]\n",
    "    \n",
    "    if plot:\n",
    "        plt.plot(buy_signals, adjusted_profits)\n",
    "        plt.show()\n",
    "    \n",
    "    return max_profit, best_signal, adjusted_profits"
   ]
  },
  {
   "cell_type": "code",
   "execution_count": 16,
   "metadata": {
    "scrolled": true
   },
   "outputs": [
    {
     "data": {
      "application/vnd.jupyter.widget-view+json": {
       "model_id": "8cb534c9dc3542039889185be5f6e4ac",
       "version_major": 2,
       "version_minor": 0
      },
      "text/plain": [
       "HBox(children=(FloatProgress(value=0.0), HTML(value='')))"
      ]
     },
     "metadata": {},
     "output_type": "display_data"
    },
    {
     "name": "stdout",
     "output_type": "stream",
     "text": [
      "\n"
     ]
    }
   ],
   "source": [
    "best_signals = []\n",
    "average_profits = np.full(100, 0.0)\n",
    "num_valid = 0\n",
    "for symbol in tqdm(symbols):\n",
    "    profit, signal, adjusted_profits = max_profit(symbol)\n",
    "    if signal >= 0:\n",
    "        num_valid += 1\n",
    "        best_signals.append(signal)\n",
    "        average_profits += adjusted_profits\n",
    "\n",
    "average_profits /= num_valid"
   ]
  },
  {
   "cell_type": "code",
   "execution_count": 17,
   "metadata": {},
   "outputs": [
    {
     "data": {
      "text/plain": [
       "(nan, 0.0)"
      ]
     },
     "execution_count": 17,
     "metadata": {},
     "output_type": "execute_result"
    },
    {
     "data": {
      "image/png": "[encoded data removed]",
      "text/plain": [
       "<Figure size 432x288 with 1 Axes>"
      ]
     },
     "metadata": {
      "needs_background": "light"
     },
     "output_type": "display_data"
    }
   ],
   "source": [
    "signals = np.arange(0, 1, 0.01)\n",
    "plt.plot(signals, average_profits)\n",
    "plt.vlines([0.5], ymin=0, ymax=1, linestyles='--', colors=['g'])\n",
    "best_signal = np.argmax(average_profits)\n",
    "average_profits[best_signal], signals[best_signal]"
   ]
  },
  {
   "cell_type": "code",
   "execution_count": 18,
   "metadata": {},
   "outputs": [],
   "source": [
    "def model_success(symbol, signal):\n",
    "    stock = backtest_stocks[backtest_stocks.symbol == symbol].copy()\n",
    "    X = stock[COLUMNS]\n",
    "    X_scaled = scaler.transform(X)\n",
    "    predictions = xgboost.predict(X_scaled)\n",
    "    stock['prediction'] = predictions\n",
    "    \n",
    "    stock_up_correct = stock[(stock.prediction >= signal) & (stock.forecast >= 0)]\n",
    "    stock_up_incorrect = stock[(stock.prediction >= signal) & (stock.forecast < 0)]\n",
    "    stock_down_correct = stock[(stock.prediction < signal) & (stock.forecast < 0)]\n",
    "    stock_down_incorrect = stock[(stock.prediction < signal) & (stock.forecast >= 0)]\n",
    "    \n",
    "    _ = plt.plot(stock_up_correct.close, marker='^', linestyle='None', c='g', label='UP (Correct)')\n",
    "    _ = plt.plot(stock_up_incorrect.close, marker='^', linestyle='None', c='r', label='UP (Incorrect)')\n",
    "    _ = plt.plot(stock_down_correct.close, marker='v', linestyle='None', c='g', label='DOWN (Correct)')\n",
    "    _ = plt.plot(stock_down_incorrect.close, marker='v', linestyle='None', c='r', label='DOWN (Incorrect)')\n",
    "    _ = plt.plot(stock.close)\n",
    "    _ = plt.legend()"
   ]
  },
  {
   "cell_type": "code",
   "execution_count": 19,
   "metadata": {},
   "outputs": [
    {
     "name": "stderr",
     "output_type": "stream",
     "text": [
      "/usr/local/anaconda3/lib/python3.7/site-packages/pandas/plotting/_matplotlib/converter.py:103: FutureWarning: Using an implicitly registered datetime converter for a matplotlib plotting method. The converter was registered by pandas on import. Future versions of pandas will require you to explicitly register matplotlib converters.\n",
      "\n",
      "To register the converters:\n",
      "\t>>> from pandas.plotting import register_matplotlib_converters\n",
      "\t>>> register_matplotlib_converters()\n",
      "  warnings.warn(msg, FutureWarning)\n"
     ]
    },
    {
     "data": {
      "image/png": "[encoded data removed]",
      "text/plain": [
       "<Figure size 432x288 with 1 Axes>"
      ]
     },
     "metadata": {
      "needs_background": "light"
     },
     "output_type": "display_data"
    }
   ],
   "source": [
    "model_success('EBAY', 0.5)"
   ]
  },
  {
   "cell_type": "code",
   "execution_count": 20,
   "metadata": {},
   "outputs": [
    {
     "data": {
      "application/vnd.jupyter.widget-view+json": {
       "model_id": "1f5c397f233a4e84877bae190a7a8769",
       "version_major": 2,
       "version_minor": 0
      },
      "text/plain": [
       "HBox(children=(FloatProgress(value=0.0), HTML(value='')))"
      ]
     },
     "metadata": {},
     "output_type": "display_data"
    },
    {
     "name": "stdout",
     "output_type": "stream",
     "text": [
      "\n",
      "10000\n",
      "7799.7453347604005 10640.044350757473\n",
      "11756.626712635525 -11116.582361878054\n",
      "3644 3981\n"
     ]
    }
   ],
   "source": [
    "from tqdm.notebook import tqdm\n",
    "\n",
    "def calculate_profit(symbol, buy):\n",
    "    X = backtest_stocks[backtest_stocks.symbol == symbol][COLUMNS]\n",
    "    if X.shape[0] == 0:\n",
    "        return 100, 100, 0, 0, 0, 0\n",
    "    X_scaled = scaler.transform(X)\n",
    "    predictions = xgboost.predict(X_scaled)\n",
    "    forecasts = backtest_stocks[backtest_stocks.symbol == symbol].forecast\n",
    "    \n",
    "    X_market = backtest_stocks[backtest_stocks.symbol == 'SPY'][COLUMNS]\n",
    "    X_scaled_market = scaler.transform(X_market)\n",
    "    predictions_market = xgboost.predict(X_scaled_market)\n",
    "    \n",
    "    return backtest_info(forecasts, predictions, buy)\n",
    "\n",
    "baselines = []\n",
    "models = []\n",
    "profits = []\n",
    "losses = []\n",
    "profitable_trades = []\n",
    "unprofitable_trades = []\n",
    "\n",
    "\n",
    "num_symbols = len(symbols)\n",
    "\n",
    "for symbol in tqdm(symbols[:num_symbols]):\n",
    "    baseline, model, profit, loss, profitable, unprofitable = calculate_profit(symbol, .5)\n",
    "    if baseline == 0:\n",
    "        num_symbols -= 1\n",
    "    baselines.append(baseline)\n",
    "    models.append(model)\n",
    "    profits.append(profit)\n",
    "    losses.append(loss)\n",
    "    profitable_trades.append(profitable)\n",
    "    unprofitable_trades.append(unprofitable)\n",
    "\n",
    "print(num_symbols * 100)\n",
    "print(sum(baselines), sum(models))\n",
    "print(sum(profits), sum(losses))\n",
    "print(sum(profitable_trades), sum(unprofitable_trades))"
   ]
  }
 ],
 "metadata": {
  "kernelspec": {
   "display_name": "Python 3",
   "language": "python",
   "name": "python3"
  },
  "language_info": {
   "codemirror_mode": {
    "name": "ipython",
    "version": 3
   },
   "file_extension": ".py",
   "mimetype": "text/x-python",
   "name": "python",
   "nbconvert_exporter": "python",
   "pygments_lexer": "ipython3",
   "version": "3.7.3"
  }
 },
 "nbformat": 4,
 "nbformat_minor": 2
}
